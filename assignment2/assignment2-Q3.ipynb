{
 "cells": [
  {
   "cell_type": "markdown",
   "id": "aab3a9e4",
   "metadata": {},
   "source": [
    "# Q3) Critical Points of a function (3 marks)"
   ]
  },
  {
   "cell_type": "markdown",
   "id": "b8cf1c8a",
   "metadata": {},
   "source": [
    "i) Generate a third degree polynomial in x and y named g(x, y) that is based on your mobile number (Note : In case there is a 0 in one of the digits replace it by 3). Suppose your mobile number is 9412821233, then the polynomial would be g(x, y) = 9x3 − 4x2y + 1xy2 − 2y3 + 8x2 − 2xy + y2 − 2x + 3y − 3, where alternate positive and negative sign are used.\n",
    "\n",
    "                        Deliverable(s) : The polynomial constructed should be reported. (0.5)\n",
    "                        \n",
    "-----------------------------------------------------------------------------------------------------------------------"
   ]
  },
  {
   "cell_type": "code",
   "execution_count": 2,
   "id": "a935b62c",
   "metadata": {},
   "outputs": [],
   "source": [
    "'''\n",
    "This method generates third degree ploynomial in x and y based on mobile number with alternative sign used\n",
    "mobile_no: input mobile number as string\n",
    "'''\n",
    "def generate_polynomial(mobile_no=\"9999111111\"):\n",
    "    modified_mobile_no = \"\"\n",
    "    for digit in mobile_no:\n",
    "        if digit == \"0\":\n",
    "            modified_mobile_no = modified_mobile_no + \"3\"\n",
    "        else:\n",
    "            modified_mobile_no = modified_mobile_no + digit\n",
    "    polys = [\"*x**3\", \"*x**2*y\", \"*x*y**2\", \"*y**3\", \"*x**2\", \"*x*y\", \"*y**2\", \"*x\", \"*y\", \"\"]\n",
    "    g_of_x_y = \"\"\n",
    "    for digit_idx in range(len(modified_mobile_no)):\n",
    "        if digit_idx == 0:\n",
    "            g_of_x_y = modified_mobile_no[digit_idx] + polys[digit_idx]\n",
    "        else:\n",
    "            sign = \"+\" if digit_idx % 2 == 0 else \"-\"\n",
    "            g_of_x_y = \"{0} {1} {2}{3}\".format(g_of_x_y, sign, modified_mobile_no[digit_idx], polys[digit_idx])\n",
    "    return g_of_x_y"
   ]
  },
  {
   "cell_type": "code",
   "execution_count": 6,
   "id": "7348dc40",
   "metadata": {},
   "outputs": [
    {
     "name": "stdout",
     "output_type": "stream",
     "text": [
      "Third Degree Ploynomial g(x,y): 9*x**3 - 9*x**2*y + 9*x*y**2 - 9*y**3 + 1*x**2 - 1*x*y + 1*y**2 - 1*x + 1*y - 1\n"
     ]
    }
   ],
   "source": [
    "'''\n",
    "Main entry point method for the Q3 part i answer to generate polynomial\n",
    "'''\n",
    "print(f\"Third Degree Ploynomial g(x,y): {generate_polynomial('9999111111')}\")"
   ]
  },
  {
   "cell_type": "markdown",
   "id": "fdd4c2de",
   "metadata": {},
   "source": [
    "ii) Write a code to find all critical points of g(x, y). You may use built in functions like ’solve’ (or other similar functions) in Octave/Matlab to find the critical points .\n",
    "\n",
    "                       Deliverable(s) : The code that finds the critical points along with the \n",
    "                                  display of all the calculated critical points. (1)\n",
    "                                  \n",
    "-----------------------------------------------------------------------------------------------------------------------"
   ]
  },
  {
   "cell_type": "markdown",
   "id": "7eec1518",
   "metadata": {},
   "source": [
    "##### Note: Not profiecient in Octave/Matlab so using python for this question and as mentioned can use in-built functions like 'solve', using sympy in python which is equivalent"
   ]
  },
  {
   "cell_type": "code",
   "execution_count": 22,
   "id": "1134d81a",
   "metadata": {},
   "outputs": [],
   "source": [
    "from sympy import symbols, Function, simplify, Matrix, hessian, solve"
   ]
  },
  {
   "cell_type": "code",
   "execution_count": 7,
   "id": "7a0cb4da",
   "metadata": {},
   "outputs": [],
   "source": [
    "'''\n",
    "This method calculates the critical points of g(x,y)\n",
    "f: input function g(x,y)\n",
    "'''\n",
    "def calculate_critical_points(f):\n",
    "    x, y = symbols('x y')\n",
    "    \n",
    "    v = Matrix([x, y])\n",
    "    f = Matrix([f])\n",
    "    gradf = simplify(f.jacobian(v))\n",
    "    hessianf = simplify(hessian(f, v))\n",
    "    crit = solve(gradf, v)\n",
    "    return crit, hessianf, v"
   ]
  },
  {
   "cell_type": "code",
   "execution_count": 24,
   "id": "c7e7127e",
   "metadata": {},
   "outputs": [],
   "source": [
    "'''\n",
    "Main entry point method for the Q3 part ii answer to calculate critical points for a fuction g(x,y)\n",
    "'''\n",
    "def run_critical_points_calc(mob_no=\"9999111111\"):\n",
    "    f = symbols('f', cls=Function)\n",
    "    f = simplify(generate_polynomial(mob_no))\n",
    "    critical_points, hessianf, v = calculate_critical_points(f)\n",
    "    for point_idx in range(len(critical_points)):\n",
    "        print(f\"Critical Point{point_idx+1}: {critical_points[point_idx]}\\n\")"
   ]
  },
  {
   "cell_type": "code",
   "execution_count": 25,
   "id": "1c5d7593",
   "metadata": {},
   "outputs": [
    {
     "name": "stdout",
     "output_type": "stream",
     "text": [
      "Critical Point1: (-1/6, 1/6)\n",
      "\n",
      "Critical Point2: (1/9, -1/9)\n",
      "\n",
      "Critical Point3: (-47*sqrt(3)/180 - 108*(1/36 + 5*sqrt(3)/36)**2/25 - 23/900 + 1296*(1/36 + 5*sqrt(3)/36)**3/25, 1/36 + 5*sqrt(3)/36)\n",
      "\n",
      "Critical Point4: (1296*(1/36 - 5*sqrt(3)/36)**3/25 - 108*(1/36 - 5*sqrt(3)/36)**2/25 - 23/900 + 47*sqrt(3)/180, 1/36 - 5*sqrt(3)/36)\n",
      "\n"
     ]
    }
   ],
   "source": [
    "run_critical_points_calc()"
   ]
  },
  {
   "cell_type": "markdown",
   "id": "b6ce6a54",
   "metadata": {},
   "source": [
    "iii) Write a code to determine whether they correspond to a maximum, minimum or a saddle point.\n",
    "\n",
    "                     Deliverable(s) : The code that identifies the type of critical points. The \n",
    "                     critical points and their type must be presented in the form of the table \n",
    "                              generated by code for the above polynomial. (1.5 marks)\n",
    "                              \n",
    "-----------------------------------------------------------------------------------------------------------------------"
   ]
  },
  {
   "cell_type": "code",
   "execution_count": 31,
   "id": "fc992d9d",
   "metadata": {},
   "outputs": [],
   "source": [
    "import scipy.linalg as la\n",
    "import numpy as np"
   ]
  },
  {
   "cell_type": "code",
   "execution_count": 35,
   "id": "9e0cb950",
   "metadata": {},
   "outputs": [],
   "source": [
    "'''\n",
    "Main entry point method for the Q3 part iii answer to characterize critical points for a fuction g(x,y)\n",
    "'''\n",
    "def run_critical_points_characterization(mob_no=\"9999111322\"):\n",
    "    f = symbols('f', cls=Function)\n",
    "    f = simplify(generate_polynomial(mob_no))\n",
    "    \n",
    "    critical_points, hessianf, v = calculate_critical_points(f)\n",
    "    \n",
    "    for point in critical_points:\n",
    "        try:\n",
    "            h = np.array(hessianf.subs(dict(zip(v, point)))).astype('float')\n",
    "            l,v_ = la.eig(h)\n",
    "            if(np.all(np.greater(l,np.zeros(2)))):\n",
    "                print(f\"Function has a minimum point at: {point}\\n\")\n",
    "            elif(np.all(np.less(l,np.zeros(2)))):\n",
    "                print(f\"Function has a maximum point at: {point}\\n\")\n",
    "            else:\n",
    "                print(f\"Function has a saddle point at: {point}\\n\")\n",
    "        except TypeError:\n",
    "            # Skip for the Imaginary points\n",
    "            pass"
   ]
  },
  {
   "cell_type": "code",
   "execution_count": 36,
   "id": "c57fcbff",
   "metadata": {},
   "outputs": [
    {
     "name": "stdout",
     "output_type": "stream",
     "text": [
      "Function has a minimum point at: (1296*(1/36 - sqrt(86 - sqrt(3289))/36)**3/37 - 108*(1/36 - sqrt(86 - sqrt(3289))/36)**2/37 - 35/1332 + 95*sqrt(86 - sqrt(3289))/1332, 1/36 - sqrt(86 - sqrt(3289))/36)\n",
      "\n",
      "Function has a saddle point at: (1296*(1/36 - sqrt(sqrt(3289) + 86)/36)**3/37 - 108*(1/36 - sqrt(sqrt(3289) + 86)/36)**2/37 - 35/1332 + 95*sqrt(sqrt(3289) + 86)/1332, 1/36 - sqrt(sqrt(3289) + 86)/36)\n",
      "\n",
      "Function has a maximum point at: (-95*sqrt(86 - sqrt(3289))/1332 - 108*(1/36 + sqrt(86 - sqrt(3289))/36)**2/37 - 35/1332 + 1296*(1/36 + sqrt(86 - sqrt(3289))/36)**3/37, 1/36 + sqrt(86 - sqrt(3289))/36)\n",
      "\n",
      "Function has a saddle point at: (-95*sqrt(sqrt(3289) + 86)/1332 - 108*(1/36 + sqrt(sqrt(3289) + 86)/36)**2/37 - 35/1332 + 1296*(1/36 + sqrt(sqrt(3289) + 86)/36)**3/37, 1/36 + sqrt(sqrt(3289) + 86)/36)\n",
      "\n"
     ]
    }
   ],
   "source": [
    "run_critical_points_characterization(\"9999111322\")"
   ]
  }
 ],
 "metadata": {
  "kernelspec": {
   "display_name": "Python 3 (ipykernel)",
   "language": "python",
   "name": "python3"
  },
  "language_info": {
   "codemirror_mode": {
    "name": "ipython",
    "version": 3
   },
   "file_extension": ".py",
   "mimetype": "text/x-python",
   "name": "python",
   "nbconvert_exporter": "python",
   "pygments_lexer": "ipython3",
   "version": "3.9.7"
  }
 },
 "nbformat": 4,
 "nbformat_minor": 5
}
