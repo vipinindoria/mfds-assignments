{
 "cells": [
  {
   "cell_type": "markdown",
   "id": "36494b51",
   "metadata": {},
   "source": [
    "# Q1) Gram-Schmidt Algorithm and QR decomposition"
   ]
  },
  {
   "cell_type": "code",
   "execution_count": 1,
   "id": "810c3392",
   "metadata": {},
   "outputs": [],
   "source": [
    "import sys\n",
    "import random\n",
    "from math import floor, log10, sqrt\n",
    "import copy"
   ]
  },
  {
   "cell_type": "markdown",
   "id": "48442382",
   "metadata": {},
   "source": [
    "i) Write a code to generate a random matrix A of size m × n with m > n and calculate its Frobenius norm, ∥ · ∥F . The entries of A must be of the form r.dddd (example 5.4316). The inputs are the positive integers m and n and the output should display the the dimensions and the calculated norm value.\n",
    "\n",
    "                       Deliverable(s) : The code with the desired input and output (0.5)\n",
    "-----------------------------------------------------------------------------------------------------------------------"
   ]
  },
  {
   "cell_type": "code",
   "execution_count": 2,
   "id": "edc159a1",
   "metadata": {},
   "outputs": [],
   "source": [
    "# Significant digit conversion\n",
    "'''\n",
    "This method convert a digit into significant digit\n",
    "x: digit\n",
    "sig: significant digit form ex: 5 = r.dddd\n",
    "'''\n",
    "def tidy(x, sig):\n",
    "    y = abs(x)\n",
    "    if y <= sys.float_info.min:\n",
    "        return 0.0000\n",
    "    return round(x, sig-int(floor(log10(y)))-1)"
   ]
  },
  {
   "cell_type": "code",
   "execution_count": 3,
   "id": "0d75ed5f",
   "metadata": {},
   "outputs": [],
   "source": [
    "# Calculate frobenius norm of matrix m\n",
    "'''\n",
    "This method calculate frobenius norm of a matrix\n",
    "m: input matrix\n",
    "sig: significant digit form ex: 5 = r.dddd\n",
    "'''\n",
    "def norm_frobenius(m, sig=5):\n",
    "    sqr_sum = 0\n",
    "    for r in range(len(m)):\n",
    "        for c in range(len(m[r])):\n",
    "            elm = abs(m[r][c])\n",
    "            sqr_sum = tidy(sqr_sum + tidy((elm ** 2), sig), sig)\n",
    "    return sqrt(sqr_sum)"
   ]
  },
  {
   "cell_type": "code",
   "execution_count": 4,
   "id": "6bf851e0",
   "metadata": {},
   "outputs": [],
   "source": [
    "# Matrix generator of size m x n\n",
    "def generate_matrix(m, n, low_num=0.10000, up_num=9.9999, sig=5):\n",
    "    return [[tidy(random.uniform(low_num, up_num), sig) for i in range(n)] for j in range(m)]"
   ]
  },
  {
   "cell_type": "code",
   "execution_count": 5,
   "id": "a9442c2c",
   "metadata": {},
   "outputs": [],
   "source": [
    "# Function to run frobenius norm calculator along with matrix generation\n",
    "'''\n",
    "Main entry point method for the Q1 part i answer, to calculate frobenius norm and display input matrix size\n",
    "m: no of rows\n",
    "n: no of columns\n",
    "'''\n",
    "def run_frobenius_calc(m, n):\n",
    "    if m >= n:\n",
    "        a = generate_matrix(m, n)\n",
    "        print(f\"\\nMatrix size: {m}x{n}\")\n",
    "        frobenius_norm_val = tidy(norm_frobenius(a), 5)\n",
    "        print(f\"\\nFrobenius norm value: {frobenius_norm_val}\")\n",
    "    else:\n",
    "        print(f\"\\nPlease provide matrix size, where m > n.\")"
   ]
  },
  {
   "cell_type": "code",
   "execution_count": 6,
   "id": "e2f77b39",
   "metadata": {},
   "outputs": [
    {
     "name": "stdout",
     "output_type": "stream",
     "text": [
      "\n",
      "Matrix size: 5x4\n",
      "\n",
      "Frobenius norm value: 22.641\n"
     ]
    }
   ],
   "source": [
    "# Test run\n",
    "run_frobenius_calc(5, 4)"
   ]
  },
  {
   "cell_type": "markdown",
   "id": "5b2cc130",
   "metadata": {},
   "source": [
    "ii) Write a code to decide if Gram-Schmidt Algorithm can be applied to columns of a given matrix A through calculation of rank. The code should print appropriate messages indicating whether Gram-Schmidt is applicable on columns of the matrix or not.\n",
    "\n",
    "                      Deliverable(s) : The code that performs the test. (1)\n",
    "-----------------------------------------------------------------------------------------------------------------------"
   ]
  },
  {
   "cell_type": "code",
   "execution_count": 7,
   "id": "3e5baa77",
   "metadata": {},
   "outputs": [],
   "source": [
    "'''\n",
    "This method checks if a given matrix is full rank\n",
    "matrix: input matrix\n",
    "d: significant digit\n",
    "'''\n",
    "def is_full_rank_matrix(matrix, d=5):\n",
    "    r = len(matrix)\n",
    "    c = len(matrix[0])\n",
    "    \n",
    "    # Significant digit conversion\n",
    "    def tidy(x, sig):\n",
    "        y = abs(x)\n",
    "        if y <= sys.float_info.min:\n",
    "            return 0.0000\n",
    "        return round(x, sig-int(floor(log10(y)))-1)\n",
    "         \n",
    "    # Function for exchanging two rows of a matrix\n",
    "    def swap(matrix, row1, row2, col):\n",
    "        for i in range(col):\n",
    "            temp = matrix[row1][i]\n",
    "            matrix[row1][i] = matrix[row2][i]\n",
    "            matrix[row2][i] = temp\n",
    "             \n",
    "    rank = c\n",
    "    for row in range(0, rank, 1):\n",
    "        # Diagonal element is not zero\n",
    "        if matrix[row][row] != 0:\n",
    "            for col in range(0, r, 1):\n",
    "                if col != row:\n",
    "                    multiplier = tidy((matrix[col][row] / matrix[row][row]), d)\n",
    "                    for i in range(rank):\n",
    "                        matrix[col][i] = tidy(matrix[col][i] - tidy((multiplier * matrix[row][i]), d), d)\n",
    "        else:\n",
    "            reduce = True\n",
    "            for i in range(row + 1, r, 1):\n",
    "                if matrix[i][row] != 0:\n",
    "                    swap(matrix, row, i, rank)\n",
    "                    reduce = False\n",
    "                    break\n",
    "            if reduce:\n",
    "                rank -= 1\n",
    "                for i in range(0, r, 1):\n",
    "                    matrix[i][row] = matrix[i][rank]\n",
    "            row -= 1\n",
    "    return True if rank == min(r, c) else False"
   ]
  },
  {
   "cell_type": "code",
   "execution_count": 8,
   "id": "dd979a3b",
   "metadata": {},
   "outputs": [],
   "source": [
    "'''\n",
    "Main entry point method for the Q1 part ii answer, to check gram schmidt applicability on input matrix\n",
    "m: input matrix\n",
    "d: significant digit\n",
    "'''\n",
    "def gram_schmidt_applicability_calc(m, d=5):\n",
    "    check = is_full_rank_matrix(m, d)\n",
    "    if check:\n",
    "        print(\"\\nGram-Schmidt is applicable on columns of the matrix.\")\n",
    "    else:\n",
    "        print(\"\\nGram-Schmidt is not applicable on columns of the matrix.\")"
   ]
  },
  {
   "cell_type": "code",
   "execution_count": 9,
   "id": "6fc46230",
   "metadata": {},
   "outputs": [
    {
     "name": "stdout",
     "output_type": "stream",
     "text": [
      "\n",
      "Gram-Schmidt is applicable on columns of the matrix.\n"
     ]
    }
   ],
   "source": [
    "# Test1\n",
    "A = generate_matrix(7, 5)\n",
    "gram_schmidt_applicability_calc(A)"
   ]
  },
  {
   "cell_type": "code",
   "execution_count": 10,
   "id": "b0341525",
   "metadata": {},
   "outputs": [
    {
     "name": "stdout",
     "output_type": "stream",
     "text": [
      "\n",
      "Gram-Schmidt is not applicable on columns of the matrix.\n"
     ]
    }
   ],
   "source": [
    "# Test2\n",
    "a = [[3, 2, 4],\n",
    "     [-1, 1, 2],\n",
    "     [9, 5, 10]]\n",
    "gram_schmidt_applicability_calc(a, 0)"
   ]
  },
  {
   "cell_type": "code",
   "execution_count": 11,
   "id": "40319937",
   "metadata": {},
   "outputs": [
    {
     "name": "stdout",
     "output_type": "stream",
     "text": [
      "\n",
      "Gram-Schmidt is applicable on columns of the matrix.\n"
     ]
    }
   ],
   "source": [
    "# Test3\n",
    "a = [[2.0,  1.0, -1.0],\n",
    "     [-3.0,  -1.0,  2.0],\n",
    "     [-2.0, 1.0,  2.0]]\n",
    "gram_schmidt_applicability_calc(a)"
   ]
  },
  {
   "cell_type": "markdown",
   "id": "67485eb3",
   "metadata": {},
   "source": [
    "iii) Write a code to generate the orthogonal matrix Q from a matrix A by performing the Gram-Schmidt orthogonalization method. Ensure that A has linearly independent columns by checking the rank. Keep generating A until the linear independence is obtained.\n",
    "\n",
    "                         Deliverable(s) : The code that produces matrix Q from A (1)\n",
    "                         \n",
    "-----------------------------------------------------------------------------------------------------------------------"
   ]
  },
  {
   "cell_type": "code",
   "execution_count": 12,
   "id": "59fa700c",
   "metadata": {},
   "outputs": [],
   "source": [
    "'''\n",
    "This method return the column from a matrix\n",
    "matrix: input matrix\n",
    "col: column index\n",
    "'''\n",
    "def get_matrix_column(matrix, col):\n",
    "    column = []\n",
    "    for row in matrix:\n",
    "        elem = row[col]\n",
    "        column.append(elem)\n",
    "    return column"
   ]
  },
  {
   "cell_type": "code",
   "execution_count": 13,
   "id": "9c12611e",
   "metadata": {},
   "outputs": [],
   "source": [
    "'''\n",
    "This method set given column value in a matrix to given index\n",
    "matrix: input matrix\n",
    "n: no of rows\n",
    "col_idx: column index to be set\n",
    "col: column vector\n",
    "'''\n",
    "def set_matrix_column(matrix, n, col_idx, col):\n",
    "    for row_idx in range(n):\n",
    "        matrix[row_idx][col_idx] = col[row_idx]\n",
    "    return matrix"
   ]
  },
  {
   "cell_type": "code",
   "execution_count": 14,
   "id": "1e7fcf3a",
   "metadata": {},
   "outputs": [],
   "source": [
    "'''\n",
    "This method calculates the dot product of gievn input vectors\n",
    "x: vector a\n",
    "y: vector b\n",
    "sig: significant digit\n",
    "'''\n",
    "def inner_dot(x, y, sig=5):\n",
    "    return tidy(sum(tidy(x_i * y_i, sig) for x_i, y_i in zip(x, y)), sig)"
   ]
  },
  {
   "cell_type": "code",
   "execution_count": 15,
   "id": "8ceb7b2d",
   "metadata": {},
   "outputs": [],
   "source": [
    "'''\n",
    "This method calculate the Q and R matrices using gram schmidt method\n",
    "matrix: input matrix A\n",
    "m: no of rows\n",
    "n: no of columns\n",
    "d: significant digit\n",
    "'''\n",
    "def gram_schmidt(matrix, m, n, d=5):\n",
    "    n_add, n_mul, n_div = 0, 0, 0\n",
    "    # Initialize Q and R matrices\n",
    "    q = [[0 for x in range(n)] for y in range(m)]\n",
    "    r = [[0 for x in range(n)] for y in range(n)]\n",
    "    for j in range(n):\n",
    "        # Step-1, v1 = a1\n",
    "        v = get_matrix_column(matrix, j)\n",
    "        # Skip the first column\n",
    "        if j > 0:\n",
    "            for i in range(j):\n",
    "                # Find the inner product\n",
    "                r[i][j] = inner_dot(get_matrix_column(q, i), get_matrix_column(matrix, j))\n",
    "                n_add = n_add + m - 1\n",
    "                n_mul = n_mul + m\n",
    "                # Subtract the projection from v which causes v to become perpendicular to all columns of Q\n",
    "                v=[tidy(x_i - y_i, d) for x_i, y_i in zip(v, [tidy(r[i][j] * x, d) for x in get_matrix_column(q, i)])]\n",
    "                n_mul = n_mul + m\n",
    "                n_add = n_add + m - 1\n",
    "        # Find the L2 norm of the jth diagonal of R\n",
    "        r[j][j] = tidy(sqrt(tidy(sum([tidy(x**2, d) for x in v]), d)), d)\n",
    "        n_mul = n_mul + m + 1\n",
    "        n_add = n_add + m - 1\n",
    "        # The orthogonalized result is found and stored in the ith column of Q.\n",
    "        q = set_matrix_column(q, n, j, [tidy(x / r[j][j], d) for x in v])\n",
    "        n_div = n_div + m\n",
    "    return (q, r, n_add, n_mul, n_div)"
   ]
  },
  {
   "cell_type": "code",
   "execution_count": 16,
   "id": "e5ce1a1f",
   "metadata": {},
   "outputs": [],
   "source": [
    "# Matrix generator of size m x n\n",
    "def generate_matrix(m, n, low_num=0.10000, up_num=9.9999, sig=5):\n",
    "    return [[tidy(random.uniform(low_num, up_num), sig) for i in range(n)] for j in range(m)]"
   ]
  },
  {
   "cell_type": "code",
   "execution_count": 17,
   "id": "78b76ca9",
   "metadata": {},
   "outputs": [],
   "source": [
    "# Pretty print matrix\n",
    "def pritty_print_matrix(mat):\n",
    "    print(\"[\", end=\"\")\n",
    "    for row_idx in range(len(mat)):\n",
    "        if row_idx == 0:\n",
    "            print(f\"{mat[row_idx]},\")\n",
    "        elif row_idx == (len(mat) -1):\n",
    "            print(f\" {mat[row_idx]}]\\n\")\n",
    "        else:\n",
    "            print(f\" {mat[row_idx]},\")"
   ]
  },
  {
   "cell_type": "code",
   "execution_count": 18,
   "id": "0295bf76",
   "metadata": {},
   "outputs": [],
   "source": [
    "'''\n",
    "Main entry point method for the Q1 part iii answer, to calculate Q and R matrices from input matrix\n",
    "m: no of rows\n",
    "n: no of columns\n",
    "max_itr: no of maximum iteration untill finds linearly independent columns\n",
    "'''\n",
    "def run_gram_schmidt_calc(m=3, n=3, max_itr=100):\n",
    "    itr = 1\n",
    "    while True and itr <= max_itr:\n",
    "        matrix = generate_matrix(m,n)\n",
    "        matrix_ = copy.deepcopy(matrix)\n",
    "        print(\"Input Matrix:\")\n",
    "        pritty_print_matrix(matrix)\n",
    "        if is_full_rank_matrix(matrix_):\n",
    "            q, r, n_add, n_mul, n_div = gram_schmidt(matrix, m, n)\n",
    "            print(\"Q Matrix:\")\n",
    "            pritty_print_matrix(q)\n",
    "            print(\"R Matrix:\")\n",
    "            pritty_print_matrix(r)\n",
    "            break\n",
    "        else:\n",
    "            print(\"\\nGram-Schmidt is not applicable as generated Matrix does not have linearly independent columns.\")"
   ]
  },
  {
   "cell_type": "code",
   "execution_count": 19,
   "id": "35a96231",
   "metadata": {},
   "outputs": [
    {
     "name": "stdout",
     "output_type": "stream",
     "text": [
      "Input Matrix:\n",
      "[[9.6216, 1.7227, 4.4558, 3.7599, 3.0948],\n",
      " [3.6333, 8.667, 0.25117, 5.1295, 7.8489],\n",
      " [6.5194, 3.942, 3.2745, 1.3036, 4.2306],\n",
      " [1.3414, 9.6932, 2.0212, 1.4593, 6.4957],\n",
      " [1.0318, 2.1298, 8.4936, 2.1076, 1.0396],\n",
      " [0.52691, 4.7483, 9.951, 9.8365, 3.8188],\n",
      " [1.002, 8.3868, 8.9438, 3.0133, 8.1894]]\n",
      "\n",
      "Q Matrix:\n",
      "[[0.77933, -0.25524, -0.0074464, 0.0089938, -0.13378],\n",
      " [0.29429, 0.42918, -0.12873, 0.23911, 0.2574],\n",
      " [0.52806, 0.0089687, -0.00072409, -0.14821, 0.025009],\n",
      " [0.10865, 0.58417, 0.047511, -0.047074, 0.19764],\n",
      " [0.083574, 0.10015, 0.50228, 0.11092, -0.028755],\n",
      " [0, 0, 0, 0, 0],\n",
      " [0, 0, 0, 0, 0]]\n",
      "\n",
      "R Matrix:\n",
      "[[12.346, 7.206, 6.205, 5.4629, 7.7484],\n",
      " [0, 15.253, 1.0312, 2.3171, 6.5153],\n",
      " [0, 0, 15.672, 0.43867, -0.20572],\n",
      " [0, 0, 0, 10.806, 1.0871],\n",
      " [0, 0, 0, 0, 9.6581]]\n",
      "\n"
     ]
    }
   ],
   "source": [
    "# Test1\n",
    "run_gram_schmidt_calc(m=7, n=5)"
   ]
  },
  {
   "cell_type": "markdown",
   "id": "0052dd25",
   "metadata": {},
   "source": [
    "iv) Write a code to create a QR decomposition of the matrix A by utilizing the code developed in the previous sub-parts of this question. Find the matrices Q and R and then display the value ∥A − (Q.R)∥F , where ∥ · ∥F is the Frobenius norm. The code should also display the total number of additions, multiplications and divisions to find the result.\n",
    "\n",
    "                 Deliverable(s) : The code with the said input and output. The results obtained for A \n",
    "                      generated with m = 7 and n = 5 with random entries described above. (2.5)\n",
    "                      \n",
    "-----------------------------------------------------------------------------------------------------------------------"
   ]
  },
  {
   "cell_type": "code",
   "execution_count": 20,
   "id": "9156a381",
   "metadata": {},
   "outputs": [],
   "source": [
    "def get_matrix_multiplication(mat1, mat2):\n",
    "    result = [[sum(a * b for a, b in zip(mat1_row, mat2_col)) for mat2_col in zip(*mat2)] for mat1_row in mat1]\n",
    "    return result"
   ]
  },
  {
   "cell_type": "code",
   "execution_count": 21,
   "id": "5b819ed1",
   "metadata": {},
   "outputs": [],
   "source": [
    "def get_matrix_subtraction(mat1, mat2):\n",
    "    result = [[mat1[m][n] - mat2[m][n] for n in range(len(mat1[0]))] for m in range(len(mat1))]\n",
    "    return result"
   ]
  },
  {
   "cell_type": "code",
   "execution_count": 22,
   "id": "b2408aeb",
   "metadata": {},
   "outputs": [],
   "source": [
    "'''\n",
    "Main entry point method for the Q1 part iv answer, to calculate Q and R matrices from input matrix and no of operations\n",
    "m: no of rows\n",
    "n: no of columns\n",
    "max_itr: no of maximum iteration untill finds linearly independent columns\n",
    "'''\n",
    "def run_gram_schmidt_calc(m=7, n=5, max_itr=100):\n",
    "    itr = 1 # Iteration for if randomaly generated matrices are not linearly independent than stop at 100th Itr\n",
    "    while True and itr <= max_itr:\n",
    "        matrix = generate_matrix(m,n)\n",
    "        matrix_ = copy.deepcopy(matrix)\n",
    "        a_ = copy.deepcopy(matrix)\n",
    "        print(\"Input Matrix:\")\n",
    "        pritty_print_matrix(matrix)\n",
    "        if is_full_rank_matrix(matrix_):\n",
    "            q, r, n_add, n_mul, n_div = gram_schmidt(matrix, m, n)\n",
    "            qr = get_matrix_multiplication(q, r)\n",
    "            a_minus_qr = get_matrix_subtraction(a_, qr)\n",
    "            f_norm_of_a_minus_qr = tidy(norm_frobenius(a_minus_qr), 5)\n",
    "            print(\"Q Matrix:\")\n",
    "            pritty_print_matrix(q)\n",
    "            print(\"R Matrix:\")\n",
    "            pritty_print_matrix(r)\n",
    "            print(f\"\\nNo. of Addition: {n_add}\\nNo. of Multiplication: {n_mul}\\nNo. of Division: {n_div}\")\n",
    "            print(f\"\\nTotal operations: {n_add + n_div + n_mul}\")\n",
    "            print(f\"\\nFrobenius Norm of A - QR: {f_norm_of_a_minus_qr}\")\n",
    "            break\n",
    "        else:\n",
    "            print(\"\\nGram-Schmidt is not applicable as generated Matrix does not have linearly independent columns.\")"
   ]
  },
  {
   "cell_type": "code",
   "execution_count": 23,
   "id": "759a24fb",
   "metadata": {
    "scrolled": false
   },
   "outputs": [
    {
     "name": "stdout",
     "output_type": "stream",
     "text": [
      "Input Matrix:\n",
      "[[0.72069, 5.169, 6.3765, 1.0047, 4.1166],\n",
      " [1.003, 6.9367, 2.027, 4.7047, 6.1976],\n",
      " [6.6766, 2.379, 2.5188, 5.3242, 3.5468],\n",
      " [3.8311, 9.3188, 7.8407, 5.2528, 0.39205],\n",
      " [7.8655, 1.2349, 7.3091, 2.5664, 4.6747],\n",
      " [7.2353, 3.1841, 8.3622, 1.9928, 3.2635],\n",
      " [5.6851, 8.2997, 2.2291, 7.1676, 5.1065]]\n",
      "\n",
      "Q Matrix:\n",
      "[[0.050051, 0.33727, 0.35602, -0.16706, 0.25177],\n",
      " [0.069658, 0.45176, -0.14226, 0.25823, 0.45097],\n",
      " [0.46368, 0.0041827, -0.10257, 0.33354, 0.094145],\n",
      " [0.26607, 0.54777, 0.20492, 0.086123, -0.42592],\n",
      " [0.54625, -0.10257, 0.35801, -0.047844, 0.20598],\n",
      " [0, 0, 0, 0, 0],\n",
      " [0, 0, 0, 0, 0]]\n",
      "\n",
      "R Matrix:\n",
      "[[14.399, 4.9991, 7.707, 5.6462, 4.9403],\n",
      " [0, 14.584, 6.6221, 5.1006, 3.9383],\n",
      " [0, 0, 10.554, 1.1375, 1.9741],\n",
      " [0, 0, 0, 8.3996, 1.9058],\n",
      " [0, 0, 0, 0, 8.5659]]\n",
      "\n",
      "\n",
      "No. of Addition: 150\n",
      "No. of Multiplication: 180\n",
      "No. of Division: 35\n",
      "\n",
      "Total operations: 365\n",
      "\n",
      "Frobenius Norm of A - QR: 18.184\n"
     ]
    }
   ],
   "source": [
    "# Test1\n",
    "run_gram_schmidt_calc()"
   ]
  }
 ],
 "metadata": {
  "kernelspec": {
   "display_name": "Python 3 (ipykernel)",
   "language": "python",
   "name": "python3"
  },
  "language_info": {
   "codemirror_mode": {
    "name": "ipython",
    "version": 3
   },
   "file_extension": ".py",
   "mimetype": "text/x-python",
   "name": "python",
   "nbconvert_exporter": "python",
   "pygments_lexer": "ipython3",
   "version": "3.9.7"
  }
 },
 "nbformat": 4,
 "nbformat_minor": 5
}
