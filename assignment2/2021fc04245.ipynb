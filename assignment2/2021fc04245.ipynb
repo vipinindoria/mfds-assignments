{
 "cells": [
  {
   "cell_type": "markdown",
   "id": "36494b51",
   "metadata": {},
   "source": [
    "# Q1) Gram-Schmidt Algorithm and QR decomposition"
   ]
  },
  {
   "cell_type": "code",
   "execution_count": 1,
   "id": "810c3392",
   "metadata": {},
   "outputs": [],
   "source": [
    "import sys\n",
    "import random\n",
    "from math import floor, log10, sqrt\n",
    "import copy"
   ]
  },
  {
   "cell_type": "markdown",
   "id": "48442382",
   "metadata": {},
   "source": [
    "i) Write a code to generate a random matrix A of size m × n with m > n and calculate its Frobenius norm, ∥ · ∥F . The entries of A must be of the form r.dddd (example 5.4316). The inputs are the positive integers m and n and the output should display the the dimensions and the calculated norm value.\n",
    "\n",
    "                       Deliverable(s) : The code with the desired input and output (0.5)\n",
    "-----------------------------------------------------------------------------------------------------------------------"
   ]
  },
  {
   "cell_type": "code",
   "execution_count": 2,
   "id": "edc159a1",
   "metadata": {},
   "outputs": [],
   "source": [
    "# Significant digit conversion\n",
    "'''\n",
    "This method convert a digit into significant digit\n",
    "x: digit\n",
    "sig: significant digit form ex: 5 = r.dddd\n",
    "'''\n",
    "def tidy(x, sig):\n",
    "    y = abs(x)\n",
    "    if y <= sys.float_info.min:\n",
    "        return 0.0000\n",
    "    return round(x, sig-int(floor(log10(y)))-1)"
   ]
  },
  {
   "cell_type": "code",
   "execution_count": 3,
   "id": "0d75ed5f",
   "metadata": {},
   "outputs": [],
   "source": [
    "# Calculate frobenius norm of matrix m\n",
    "'''\n",
    "This method calculate frobenius norm of a matrix\n",
    "m: input matrix\n",
    "sig: significant digit form ex: 5 = r.dddd\n",
    "'''\n",
    "def norm_frobenius(m, sig=5):\n",
    "    sqr_sum = 0\n",
    "    for r in range(len(m)):\n",
    "        for c in range(len(m[r])):\n",
    "            elm = abs(m[r][c])\n",
    "            sqr_sum = tidy(sqr_sum + tidy((elm ** 2), sig), sig)\n",
    "    return sqrt(sqr_sum)"
   ]
  },
  {
   "cell_type": "code",
   "execution_count": 4,
   "id": "6bf851e0",
   "metadata": {},
   "outputs": [],
   "source": [
    "# Matrix generator of size m x n\n",
    "def generate_matrix(m, n, low_num=0.10000, up_num=9.9999, sig=5):\n",
    "    return [[tidy(random.uniform(low_num, up_num), sig) for i in range(n)] for j in range(m)]"
   ]
  },
  {
   "cell_type": "code",
   "execution_count": 5,
   "id": "a9442c2c",
   "metadata": {},
   "outputs": [],
   "source": [
    "# Function to run frobenius norm calculator along with matrix generation\n",
    "'''\n",
    "Main entry point method for the Q1 part i answer, to calculate frobenius norm and display input matrix size\n",
    "m: no of rows\n",
    "n: no of columns\n",
    "'''\n",
    "def run_frobenius_calc(m, n):\n",
    "    if m >= n:\n",
    "        a = generate_matrix(m, n)\n",
    "        print(f\"\\nMatrix size: {m}x{n}\")\n",
    "        frobenius_norm_val = tidy(norm_frobenius(a), 5)\n",
    "        print(f\"\\nFrobenius norm value: {frobenius_norm_val}\")\n",
    "    else:\n",
    "        print(f\"\\nPlease provide matrix size, where m > n.\")"
   ]
  },
  {
   "cell_type": "code",
   "execution_count": 6,
   "id": "e2f77b39",
   "metadata": {},
   "outputs": [
    {
     "name": "stdout",
     "output_type": "stream",
     "text": [
      "\n",
      "Matrix size: 5x4\n",
      "\n",
      "Frobenius norm value: 24.872\n"
     ]
    }
   ],
   "source": [
    "# Test run\n",
    "run_frobenius_calc(5, 4)"
   ]
  },
  {
   "cell_type": "markdown",
   "id": "5b2cc130",
   "metadata": {},
   "source": [
    "ii) Write a code to decide if Gram-Schmidt Algorithm can be applied to columns of a given matrix A through calculation of rank. The code should print appropriate messages indicating whether Gram-Schmidt is applicable on columns of the matrix or not.\n",
    "\n",
    "                      Deliverable(s) : The code that performs the test. (1)\n",
    "-----------------------------------------------------------------------------------------------------------------------"
   ]
  },
  {
   "cell_type": "code",
   "execution_count": 7,
   "id": "3e5baa77",
   "metadata": {},
   "outputs": [],
   "source": [
    "'''\n",
    "This method checks if a given matrix is full rank\n",
    "matrix: input matrix\n",
    "d: significant digit\n",
    "'''\n",
    "def is_full_rank_matrix(matrix, d=5):\n",
    "    r = len(matrix)\n",
    "    c = len(matrix[0])\n",
    "    \n",
    "    # Significant digit conversion\n",
    "    def tidy(x, sig):\n",
    "        y = abs(x)\n",
    "        if y <= sys.float_info.min:\n",
    "            return 0.0000\n",
    "        return round(x, sig-int(floor(log10(y)))-1)\n",
    "         \n",
    "    # Function for exchanging two rows of a matrix\n",
    "    def swap(matrix, row1, row2, col):\n",
    "        for i in range(col):\n",
    "            temp = matrix[row1][i]\n",
    "            matrix[row1][i] = matrix[row2][i]\n",
    "            matrix[row2][i] = temp\n",
    "             \n",
    "    rank = c\n",
    "    for row in range(0, rank, 1):\n",
    "        # Diagonal element is not zero\n",
    "        if matrix[row][row] != 0:\n",
    "            for col in range(0, r, 1):\n",
    "                if col != row:\n",
    "                    multiplier = tidy((matrix[col][row] / matrix[row][row]), d)\n",
    "                    for i in range(rank):\n",
    "                        matrix[col][i] = tidy(matrix[col][i] - tidy((multiplier * matrix[row][i]), d), d)\n",
    "        else:\n",
    "            reduce = True\n",
    "            for i in range(row + 1, r, 1):\n",
    "                if matrix[i][row] != 0:\n",
    "                    swap(matrix, row, i, rank)\n",
    "                    reduce = False\n",
    "                    break\n",
    "            if reduce:\n",
    "                rank -= 1\n",
    "                for i in range(0, r, 1):\n",
    "                    matrix[i][row] = matrix[i][rank]\n",
    "            row -= 1\n",
    "    return True if rank == min(r, c) else False"
   ]
  },
  {
   "cell_type": "code",
   "execution_count": 8,
   "id": "dd979a3b",
   "metadata": {},
   "outputs": [],
   "source": [
    "'''\n",
    "Main entry point method for the Q1 part ii answer, to check gram schmidt applicability on input matrix\n",
    "m: input matrix\n",
    "d: significant digit\n",
    "'''\n",
    "def gram_schmidt_applicability_calc(m, d=5):\n",
    "    check = is_full_rank_matrix(m, d)\n",
    "    if check:\n",
    "        print(\"\\nGram-Schmidt is applicable on columns of the matrix.\")\n",
    "    else:\n",
    "        print(\"\\nGram-Schmidt is not applicable on columns of the matrix.\")"
   ]
  },
  {
   "cell_type": "code",
   "execution_count": 9,
   "id": "6fc46230",
   "metadata": {},
   "outputs": [
    {
     "name": "stdout",
     "output_type": "stream",
     "text": [
      "\n",
      "Gram-Schmidt is applicable on columns of the matrix.\n"
     ]
    }
   ],
   "source": [
    "# Test1\n",
    "A = generate_matrix(7, 5)\n",
    "gram_schmidt_applicability_calc(A)"
   ]
  },
  {
   "cell_type": "code",
   "execution_count": 10,
   "id": "b0341525",
   "metadata": {},
   "outputs": [
    {
     "name": "stdout",
     "output_type": "stream",
     "text": [
      "\n",
      "Gram-Schmidt is not applicable on columns of the matrix.\n"
     ]
    }
   ],
   "source": [
    "# Test2\n",
    "a = [[3, 2, 4],\n",
    "     [-1, 1, 2],\n",
    "     [9, 5, 10]]\n",
    "gram_schmidt_applicability_calc(a, 0)"
   ]
  },
  {
   "cell_type": "code",
   "execution_count": 11,
   "id": "40319937",
   "metadata": {},
   "outputs": [
    {
     "name": "stdout",
     "output_type": "stream",
     "text": [
      "\n",
      "Gram-Schmidt is applicable on columns of the matrix.\n"
     ]
    }
   ],
   "source": [
    "# Test3\n",
    "a = [[2.0,  1.0, -1.0],\n",
    "     [-3.0,  -1.0,  2.0],\n",
    "     [-2.0, 1.0,  2.0]]\n",
    "gram_schmidt_applicability_calc(a)"
   ]
  },
  {
   "cell_type": "markdown",
   "id": "67485eb3",
   "metadata": {},
   "source": [
    "iii) Write a code to generate the orthogonal matrix Q from a matrix A by performing the Gram-Schmidt orthogonalization method. Ensure that A has linearly independent columns by checking the rank. Keep generating A until the linear independence is obtained.\n",
    "\n",
    "                         Deliverable(s) : The code that produces matrix Q from A (1)\n",
    "                         \n",
    "-----------------------------------------------------------------------------------------------------------------------"
   ]
  },
  {
   "cell_type": "code",
   "execution_count": 12,
   "id": "59fa700c",
   "metadata": {},
   "outputs": [],
   "source": [
    "'''\n",
    "This method return the column from a matrix\n",
    "matrix: input matrix\n",
    "col: column index\n",
    "'''\n",
    "def get_matrix_column(matrix, col):\n",
    "    column = []\n",
    "    for row in matrix:\n",
    "        elem = row[col]\n",
    "        column.append(elem)\n",
    "    return column"
   ]
  },
  {
   "cell_type": "code",
   "execution_count": 13,
   "id": "9c12611e",
   "metadata": {},
   "outputs": [],
   "source": [
    "'''\n",
    "This method set given column value in a matrix to given index\n",
    "matrix: input matrix\n",
    "n: no of rows\n",
    "col_idx: column index to be set\n",
    "col: column vector\n",
    "'''\n",
    "def set_matrix_column(matrix, n, col_idx, col):\n",
    "    for row_idx in range(n):\n",
    "        matrix[row_idx][col_idx] = col[row_idx]\n",
    "    return matrix"
   ]
  },
  {
   "cell_type": "code",
   "execution_count": 14,
   "id": "1e7fcf3a",
   "metadata": {},
   "outputs": [],
   "source": [
    "'''\n",
    "This method calculates the dot product of gievn input vectors\n",
    "x: vector a\n",
    "y: vector b\n",
    "sig: significant digit\n",
    "'''\n",
    "def inner_dot(x, y, sig=5):\n",
    "    return tidy(sum(tidy(x_i * y_i, sig) for x_i, y_i in zip(x, y)), sig)"
   ]
  },
  {
   "cell_type": "code",
   "execution_count": 15,
   "id": "8ceb7b2d",
   "metadata": {},
   "outputs": [],
   "source": [
    "'''\n",
    "This method calculate the Q and R matrices using gram schmidt method\n",
    "matrix: input matrix A\n",
    "m: no of rows\n",
    "n: no of columns\n",
    "d: significant digit\n",
    "'''\n",
    "def gram_schmidt(matrix, m, n, d=5):\n",
    "    n_add, n_mul, n_div = 0, 0, 0\n",
    "    # Initialize Q and R matrices\n",
    "    q = [[0 for x in range(n)] for y in range(m)]\n",
    "    r = [[0 for x in range(n)] for y in range(n)]\n",
    "    for j in range(n):\n",
    "        # Step-1, v1 = a1\n",
    "        v = get_matrix_column(matrix, j)\n",
    "        # Skip the first column\n",
    "        if j > 0:\n",
    "            for i in range(j):\n",
    "                # Find the inner product\n",
    "                r[i][j] = inner_dot(get_matrix_column(q, i), get_matrix_column(matrix, j))\n",
    "                n_add = n_add + m - 1\n",
    "                n_mul = n_mul + m\n",
    "                # Subtract the projection from v which causes v to become perpendicular to all columns of Q\n",
    "                v=[tidy(x_i - y_i, d) for x_i, y_i in zip(v, [tidy(r[i][j] * x, d) for x in get_matrix_column(q, i)])]\n",
    "                n_mul = n_mul + m\n",
    "                n_add = n_add + m - 1\n",
    "        # Find the L2 norm of the jth diagonal of R\n",
    "        r[j][j] = tidy(sqrt(tidy(sum([tidy(x**2, d) for x in v]), d)), d)\n",
    "        n_mul = n_mul + m + 1\n",
    "        n_add = n_add + m - 1\n",
    "        # The orthogonalized result is found and stored in the ith column of Q.\n",
    "        q = set_matrix_column(q, n, j, [tidy(x / r[j][j], d) for x in v])\n",
    "        n_div = n_div + m\n",
    "    return (q, r, n_add, n_mul, n_div)"
   ]
  },
  {
   "cell_type": "code",
   "execution_count": 16,
   "id": "e5ce1a1f",
   "metadata": {},
   "outputs": [],
   "source": [
    "# Matrix generator of size m x n\n",
    "def generate_matrix(m, n, low_num=0.10000, up_num=9.9999, sig=5):\n",
    "    return [[tidy(random.uniform(low_num, up_num), sig) for i in range(n)] for j in range(m)]"
   ]
  },
  {
   "cell_type": "code",
   "execution_count": 17,
   "id": "78b76ca9",
   "metadata": {},
   "outputs": [],
   "source": [
    "# Pretty print matrix\n",
    "def pritty_print_matrix(mat):\n",
    "    print(\"[\", end=\"\")\n",
    "    for row_idx in range(len(mat)):\n",
    "        if row_idx == 0:\n",
    "            print(f\"{mat[row_idx]},\")\n",
    "        elif row_idx == (len(mat) -1):\n",
    "            print(f\" {mat[row_idx]}]\\n\")\n",
    "        else:\n",
    "            print(f\" {mat[row_idx]},\")"
   ]
  },
  {
   "cell_type": "code",
   "execution_count": 18,
   "id": "0295bf76",
   "metadata": {},
   "outputs": [],
   "source": [
    "'''\n",
    "Main entry point method for the Q1 part iii answer, to calculate Q and R matrices from input matrix\n",
    "m: no of rows\n",
    "n: no of columns\n",
    "max_itr: no of maximum iteration untill finds linearly independent columns\n",
    "'''\n",
    "def run_gram_schmidt_calc(m=3, n=3, max_itr=100):\n",
    "    itr = 1\n",
    "    while True and itr <= max_itr:\n",
    "        matrix = generate_matrix(m,n)\n",
    "        matrix_ = copy.deepcopy(matrix)\n",
    "        print(\"Input Matrix:\")\n",
    "        pritty_print_matrix(matrix)\n",
    "        if is_full_rank_matrix(matrix_):\n",
    "            q, r, n_add, n_mul, n_div = gram_schmidt(matrix, m, n)\n",
    "            print(\"Q Matrix:\")\n",
    "            pritty_print_matrix(q)\n",
    "            print(\"R Matrix:\")\n",
    "            pritty_print_matrix(r)\n",
    "            break\n",
    "        else:\n",
    "            print(\"\\nGram-Schmidt is not applicable as generated Matrix does not have linearly independent columns.\")"
   ]
  },
  {
   "cell_type": "code",
   "execution_count": 19,
   "id": "35a96231",
   "metadata": {},
   "outputs": [
    {
     "name": "stdout",
     "output_type": "stream",
     "text": [
      "Input Matrix:\n",
      "[[6.0225, 8.3026, 4.6364, 6.3231, 1.5155],\n",
      " [8.1353, 0.4348, 6.3386, 9.3963, 3.9124],\n",
      " [6.0586, 6.9957, 9.6652, 2.5573, 6.3919],\n",
      " [1.0002, 1.2733, 5.7297, 7.5422, 1.9725],\n",
      " [7.1233, 6.2332, 7.1806, 1.0726, 0.79345],\n",
      " [2.4813, 1.0056, 6.5689, 5.7177, 6.9534],\n",
      " [3.3396, 9.6892, 3.4586, 7.1288, 9.6779]]\n",
      "\n",
      "Q Matrix:\n",
      "[[0.41739, 0.34446, -0.18753, 0.23538, -0.067429],\n",
      " [0.56382, -0.41747, -0.03216, 0.28465, 0.050567],\n",
      " [0.41989, 0.23544, 0.35873, -0.21147, 0.22754],\n",
      " [0.069319, 0.048562, 0.48719, 0.42903, -0.014269],\n",
      " [0.49368, 0.1137, 0.02577, -0.31283, -0.16907],\n",
      " [0, 0, 0, 0, 0],\n",
      " [0, 0, 0, 0, 0]]\n",
      "\n",
      "R Matrix:\n",
      "[[14.429, 9.8134, 13.509, 10.063, 6.0508],\n",
      " [0, 12.212, 2.3212, -0.6543, 0.57963],\n",
      " [0, 0, 9.6073, 3.1315, 2.8644],\n",
      " [0, 0, 0, 12.472, 0.71677],\n",
      " [0, 0, 0, 0, 12.476]]\n",
      "\n"
     ]
    }
   ],
   "source": [
    "# Test1\n",
    "run_gram_schmidt_calc(m=7, n=5)"
   ]
  },
  {
   "cell_type": "markdown",
   "id": "0052dd25",
   "metadata": {},
   "source": [
    "iv) Write a code to create a QR decomposition of the matrix A by utilizing the code developed in the previous sub-parts of this question. Find the matrices Q and R and then display the value ∥A − (Q.R)∥F , where ∥ · ∥F is the Frobenius norm. The code should also display the total number of additions, multiplications and divisions to find the result.\n",
    "\n",
    "                 Deliverable(s) : The code with the said input and output. The results obtained for A \n",
    "                      generated with m = 7 and n = 5 with random entries described above. (2.5)\n",
    "                      \n",
    "-----------------------------------------------------------------------------------------------------------------------"
   ]
  },
  {
   "cell_type": "code",
   "execution_count": 20,
   "id": "9156a381",
   "metadata": {},
   "outputs": [],
   "source": [
    "def get_matrix_multiplication(mat1, mat2):\n",
    "    result = [[sum(a * b for a, b in zip(mat1_row, mat2_col)) for mat2_col in zip(*mat2)] for mat1_row in mat1]\n",
    "    return result"
   ]
  },
  {
   "cell_type": "code",
   "execution_count": 21,
   "id": "5b819ed1",
   "metadata": {},
   "outputs": [],
   "source": [
    "def get_matrix_subtraction(mat1, mat2):\n",
    "    result = [[mat1[m][n] - mat2[m][n] for n in range(len(mat1[0]))] for m in range(len(mat1))]\n",
    "    return result"
   ]
  },
  {
   "cell_type": "code",
   "execution_count": 22,
   "id": "b2408aeb",
   "metadata": {},
   "outputs": [],
   "source": [
    "'''\n",
    "Main entry point method for the Q1 part iv answer, to calculate Q and R matrices from input matrix and no of operations\n",
    "m: no of rows\n",
    "n: no of columns\n",
    "max_itr: no of maximum iteration untill finds linearly independent columns\n",
    "'''\n",
    "def run_gram_schmidt_calc(m=7, n=5, max_itr=100):\n",
    "    itr = 1 # Iteration for if randomaly generated matrices are not linearly independent than stop at 100th Itr\n",
    "    while True and itr <= max_itr:\n",
    "        matrix = generate_matrix(m,n)\n",
    "        matrix_ = copy.deepcopy(matrix)\n",
    "        a_ = copy.deepcopy(matrix)\n",
    "        print(\"Input Matrix:\")\n",
    "        pritty_print_matrix(matrix)\n",
    "        if is_full_rank_matrix(matrix_):\n",
    "            q, r, n_add, n_mul, n_div = gram_schmidt(matrix, m, n)\n",
    "            qr = get_matrix_multiplication(q, r)\n",
    "            a_minus_qr = get_matrix_subtraction(a_, qr)\n",
    "            f_norm_of_a_minus_qr = tidy(norm_frobenius(a_minus_qr), 5)\n",
    "            print(\"Q Matrix:\")\n",
    "            pritty_print_matrix(q)\n",
    "            print(\"R Matrix:\")\n",
    "            pritty_print_matrix(r)\n",
    "            print(f\"\\nNo. of Addition: {n_add}\\nNo. of Multiplication: {n_mul}\\nNo. of Division: {n_div}\")\n",
    "            print(f\"\\nTotal operations: {n_add + n_div + n_mul}\")\n",
    "            print(f\"\\nFrobenius Norm of A - QR: {f_norm_of_a_minus_qr}\")\n",
    "            break\n",
    "        else:\n",
    "            print(\"\\nGram-Schmidt is not applicable as generated Matrix does not have linearly independent columns.\")"
   ]
  },
  {
   "cell_type": "code",
   "execution_count": 23,
   "id": "759a24fb",
   "metadata": {
    "scrolled": false
   },
   "outputs": [
    {
     "name": "stdout",
     "output_type": "stream",
     "text": [
      "Input Matrix:\n",
      "[[9.3314, 3.6988, 7.2779, 6.8359, 1.0914],\n",
      " [9.6452, 5.6031, 5.6197, 7.0866, 6.381],\n",
      " [1.8394, 1.2152, 1.2245, 6.7213, 0.17288],\n",
      " [7.7532, 4.9961, 0.67184, 3.2333, 5.6725],\n",
      " [1.6566, 1.6303, 7.8336, 2.8155, 8.6095],\n",
      " [4.8404, 1.2519, 8.4922, 2.1954, 0.80084],\n",
      " [0.29717, 5.2923, 4.1783, 3.811, 9.966]]\n",
      "\n",
      "Q Matrix:\n",
      "[[0.56805, -0.1514, 0.20118, 0.08033, -0.29514],\n",
      " [0.58716, 0.15191, 0.029009, 0.079226, 0.092944],\n",
      " [0.11197, 0.054388, 0.015604, 0.75541, -0.074429],\n",
      " [0.47198, 0.20737, -0.29219, -0.19714, 0.18453],\n",
      " [0.10085, 0.14182, 0.54555, 0.041021, 0.44664],\n",
      " [0, 0, 0, 0, 0],\n",
      " [0, 0, 0, 0, 0]]\n",
      "\n",
      "R Matrix:\n",
      "[[16.427, 8.0496, 8.6781, 10.607, 7.9316],\n",
      " [0, 5.7713, 1.0687, 1.4768, 3.2108],\n",
      " [0, 0, 12.477, 2.2769, 3.4469],\n",
      " [0, 0, 0, 7.172, -0.041318],\n",
      " [0, 0, 0, 0, 12.259]]\n",
      "\n",
      "\n",
      "No. of Addition: 150\n",
      "No. of Multiplication: 180\n",
      "No. of Division: 35\n",
      "\n",
      "Total operations: 365\n",
      "\n",
      "Frobenius Norm of A - QR: 16.185\n"
     ]
    }
   ],
   "source": [
    "# Test1\n",
    "run_gram_schmidt_calc()"
   ]
  },
  {
   "cell_type": "markdown",
   "id": "88a99f9f",
   "metadata": {},
   "source": [
    "# Q2) Gradient Descent Algorithm"
   ]
  },
  {
   "cell_type": "code",
   "execution_count": 37,
   "id": "42fc8189",
   "metadata": {},
   "outputs": [],
   "source": [
    "import csv"
   ]
  },
  {
   "cell_type": "markdown",
   "id": "de543c76",
   "metadata": {},
   "source": [
    "i) Consider the last 4 digits of your mobile number (Note : In case there is a 0 in one of the digits replace it by 3). Let it be n1n2n3n4. Generate a random matrix A of size n1n2 × n3n4. For example, if the last four digits are 2311, generate a random matrix of size 23 × 11. Write a code to calculate the l∞ norm of this matrix.\n",
    "\n",
    "                           Deliverable(s) : The code that generates the results. (0.5)\n",
    "                           \n",
    "-----------------------------------------------------------------------------------------------------------------------"
   ]
  },
  {
   "cell_type": "code",
   "execution_count": 24,
   "id": "4134b091",
   "metadata": {},
   "outputs": [],
   "source": [
    "# Significant digit conversion\n",
    "'''\n",
    "This method convert a digit into significant digit\n",
    "x: digit\n",
    "sig: significant digit form ex: 5 = r.dddd\n",
    "'''\n",
    "def tidy(x, sig):\n",
    "    y = abs(x)\n",
    "    if y <= sys.float_info.min:\n",
    "        return 0.0000\n",
    "    return round(x, sig-int(floor(log10(y)))-1)"
   ]
  },
  {
   "cell_type": "code",
   "execution_count": 25,
   "id": "e6127b5d",
   "metadata": {},
   "outputs": [],
   "source": [
    "# Matrix generator of size m x n\n",
    "def generate_matrix(m, n, low_num=0.10000, up_num=9.9999, sig=5):\n",
    "    return [[tidy(random.uniform(low_num, up_num), sig) for i in range(n)] for j in range(m)]"
   ]
  },
  {
   "cell_type": "code",
   "execution_count": 26,
   "id": "25ac99b0",
   "metadata": {},
   "outputs": [],
   "source": [
    "# Calculate infinity norm of matrix m\n",
    "'''\n",
    "This method calculate infinity norm of a matrix\n",
    "m: input matrix\n",
    "sig: significant digit form ex: 5 = r.dddd\n",
    "'''\n",
    "def norm_infinity(m, sig=5):\n",
    "    rowmax = 0\n",
    "    for r in range(len(m)):\n",
    "        temp = 0\n",
    "        for c in range(len(m[r])):\n",
    "            temp = tidy(temp + abs(m[r][c]), sig)\n",
    "        if temp > rowmax:\n",
    "            rowmax = temp\n",
    "    return rowmax"
   ]
  },
  {
   "cell_type": "code",
   "execution_count": 27,
   "id": "b0651dc9",
   "metadata": {},
   "outputs": [],
   "source": [
    "'''\n",
    "Main entry point method for the Q2 part i answer, to calculate infinity norm and generate n1n2xn3n4 size matrix\n",
    "last_4_mob_no_digits: last 4 mobile number digit in string\n",
    "'''\n",
    "def run_infinity_norm_calc(last_4_mob_no_digits=\"0029\"):\n",
    "    # Get Matrix Size m x n\n",
    "    last_4_digits = \"\"\n",
    "    for digit in last_4_mob_no_digits:\n",
    "        if digit == \"0\":\n",
    "            last_4_digits = last_4_digits + \"3\"\n",
    "        else:\n",
    "            last_4_digits = last_4_digits + digit\n",
    "    m, n = int(last_4_digits[:2]), int(last_4_digits[2:])\n",
    "    \n",
    "    # Generate Matrix\n",
    "    matrix = generate_matrix(m, n)\n",
    "    \n",
    "    # Calculate infinity norm\n",
    "    infi_norm = norm_infinity(matrix)\n",
    "    print(f\"\\nInfinity Norm: {infi_norm}\")"
   ]
  },
  {
   "cell_type": "code",
   "execution_count": 28,
   "id": "9d7c6734",
   "metadata": {},
   "outputs": [
    {
     "name": "stdout",
     "output_type": "stream",
     "text": [
      "\n",
      "Infinity Norm: 175.76\n"
     ]
    }
   ],
   "source": [
    "run_infinity_norm_calc()"
   ]
  },
  {
   "cell_type": "markdown",
   "id": "dfe0ed34",
   "metadata": {},
   "source": [
    "ii) Generate a random vector b of size n1n2 × 1 and consider the function f (x) = 1/2 ∥Ax − b∥^22 where ∥ · ∥2 is the vector ℓ2 norm. Its gradient is given to be ∇f (x) = A⊤Ax − A⊤b. Write a code to find the local minima of this function by using the gradient descent algorithm (by using the gradient expression given to you). The step size τ in the iteration xk+1 = xk − τ ∇f (xk) should be chosen by the formula τ = gTk gkgTk ATAgk where gk = ∇f (xk) = A⊤Axk − A⊤b. The algorithm should execute until ∥xk − xk−1∥2 < 10−4.\n",
    "\n",
    "               Deliverable(s) : The code that finds the minimum of the given function and the \n",
    "               expression for τ . The values of xk and f (xk) should be stored in a file. (1)\n",
    "               \n",
    "-----------------------------------------------------------------------------------------------------------------------"
   ]
  },
  {
   "cell_type": "code",
   "execution_count": 29,
   "id": "f8a8eef6",
   "metadata": {},
   "outputs": [],
   "source": [
    "'''\n",
    "This method calculate multiplication of two input matrices\n",
    "mat1: input matrix a\n",
    "mat1: input matrix b\n",
    "d: significant digit form ex: 5 = r.dddd\n",
    "'''\n",
    "def get_matrix_multiplication(mat1, mat2, d=5):\n",
    "    result = [[tidy(sum(tidy(a * b, d) for a, b in zip(mat1_row, mat2_col)), d) for mat2_col in zip(*mat2)] for mat1_row in mat1]\n",
    "    return result"
   ]
  },
  {
   "cell_type": "code",
   "execution_count": 30,
   "id": "64120bf2",
   "metadata": {},
   "outputs": [],
   "source": [
    "'''\n",
    "This method calculate subtraction of two input matrices\n",
    "mat1: input matrix a\n",
    "mat1: input matrix b\n",
    "sig: significant digit form ex: 5 = r.dddd\n",
    "'''\n",
    "def get_matrix_subtraction(mat1, mat2, d=5):\n",
    "    result = [[tidy(mat1[m][n] - mat2[m][n], d) for n in range(len(mat1[0]))] for m in range(len(mat1))]\n",
    "    return result"
   ]
  },
  {
   "cell_type": "code",
   "execution_count": 31,
   "id": "09b8eaa9",
   "metadata": {},
   "outputs": [],
   "source": [
    "'''\n",
    "This method calculate transpose of given input matrix\n",
    "m: input matrix\n",
    "'''\n",
    "def get_matrix_transpose(m):\n",
    "    result = [[m[j][i] for j in range(len(m))] for i in range(len(m[0]))]\n",
    "    return result"
   ]
  },
  {
   "cell_type": "code",
   "execution_count": 32,
   "id": "e0f4f756",
   "metadata": {},
   "outputs": [],
   "source": [
    "'''\n",
    "This method calculate scalar product of a matrix and scalar\n",
    "mat: input matrix\n",
    "k: input scalar\n",
    "d: significant digit form ex: 5 = r.dddd\n",
    "'''\n",
    "def get_scalar_product_matrix(mat, k, d=5):\n",
    "    for i in range(len(mat)):\n",
    "        for j in range(len(mat[0])):\n",
    "            mat[i][j] = tidy(mat[i][j] * k, d) \n",
    "    return mat"
   ]
  },
  {
   "cell_type": "code",
   "execution_count": 33,
   "id": "83af88bd",
   "metadata": {},
   "outputs": [],
   "source": [
    "'''\n",
    "This method calculate norm-2 of a vector\n",
    "v: input vector\n",
    "d: significant digit form ex: 5 = r.dddd\n",
    "'''\n",
    "def norm_2(v, d=5):\n",
    "    sqr_sum = 0\n",
    "    for elm in v:\n",
    "        elm = elm[0]\n",
    "        abs_elm = abs(elm)\n",
    "        sqr_sum = tidy(sqr_sum + tidy(abs_elm ** 2, d), d)\n",
    "    result = tidy(sqrt(sqr_sum), d)\n",
    "    return result"
   ]
  },
  {
   "cell_type": "code",
   "execution_count": 34,
   "id": "0b97e120",
   "metadata": {},
   "outputs": [],
   "source": [
    "'''\n",
    "This method calculate tau\n",
    "'''\n",
    "def get_tau(gk, gkT, ATA, d=5):\n",
    "    gkTgk = get_matrix_multiplication(gkT, gk)\n",
    "    gkTATA = get_matrix_multiplication(gkT, ATA)\n",
    "    gkTATAgk = get_matrix_multiplication(gkTATA, gk)\n",
    "    gkTgk_div_gkTATAgk = tidy(gkTgk[0][0] / gkTATAgk[0][0], d)\n",
    "    return gkTgk_div_gkTATAgk"
   ]
  },
  {
   "cell_type": "code",
   "execution_count": 35,
   "id": "ca652e1a",
   "metadata": {},
   "outputs": [],
   "source": [
    "'''\n",
    "Main entry point method for the Q2 part ii answer, to calculate minimum of f(x) and tau\n",
    "last_4_mob_no_digits: last 4 mobile number digit in string\n",
    "max_iteration: maximum number of iteration to run\n",
    "filepath: output csv file path to save values of iteration, xk and f(xk)\n",
    "d: significant digit\n",
    "'''\n",
    "def run_optimizer(last_4_mob_no_digits=\"0029\", max_iteration = 5000, filepath=\"gradient_descent_results.csv\", d=5):\n",
    "    # Get Matrix Size m x n\n",
    "    last_4_digits = \"\"\n",
    "    for digit in last_4_mob_no_digits:\n",
    "        if digit == \"0\":\n",
    "            last_4_digits = last_4_digits + \"3\"\n",
    "        else:\n",
    "            last_4_digits = last_4_digits + digit\n",
    "    m, n = int(last_4_digits[:2]), int(last_4_digits[2:])\n",
    "    \n",
    "    # Generate Matrix A and Vector b\n",
    "    A = generate_matrix(m, n)\n",
    "    b = generate_matrix(m, 1)\n",
    "    \n",
    "    # Initial points\n",
    "    x = [[tidy(0.5, d)] for j in range(n)]\n",
    "    \n",
    "    # Create CSV file\n",
    "    csvfile = open(filepath, \"w\")\n",
    "    csvwriter = csv.writer(csvfile)\n",
    "    csvwriter.writerow([\"Iteration\", \"Xk\", \"FXk\"])\n",
    "    \n",
    "    # Optimizer\n",
    "    itr = 0\n",
    "    while True:\n",
    "        Ax = get_matrix_multiplication(A, x)\n",
    "        Ax_minus_b = get_matrix_subtraction(Ax, b)\n",
    "        Ax_minus_b_n2 = norm_2(Ax_minus_b)\n",
    "        fx = tidy((tidy(Ax_minus_b_n2 ** 2, d)) / 2, d)\n",
    "        # Write results to CSV\n",
    "        csvwriter.writerow([itr, [elm[0] for elm in x], fx])\n",
    "        AT = get_matrix_transpose(A)\n",
    "        ATA = get_matrix_multiplication(AT, A)\n",
    "        ATAx = get_matrix_multiplication(ATA, x)\n",
    "        ATb = get_matrix_multiplication(AT, b)\n",
    "        del_fx = get_matrix_subtraction(ATAx, ATb)\n",
    "        gkT = get_matrix_transpose(del_fx)\n",
    "        tau = get_tau(del_fx, gkT, ATA)\n",
    "        tau_del_fx = get_scalar_product_matrix(del_fx, tau)\n",
    "        x_new = get_matrix_subtraction(x, tau_del_fx)\n",
    "        error = get_matrix_subtraction(x_new, x)\n",
    "        error_n2 = norm_2(error)\n",
    "        x = x_new\n",
    "        itr = itr + 1\n",
    "        if itr == max_iteration or error_n2 < 0.0001:\n",
    "            print(f\"\\nLast Iteration No: {itr}\")\n",
    "            print(f\"Tau Value: {tau}\\nMinimum f(x) Value: {fx}\\n||Xk - Xk-1||2 Value: {error_n2}\")\n",
    "            break\n",
    "    csvfile.close()"
   ]
  },
  {
   "cell_type": "code",
   "execution_count": 38,
   "id": "83d43a7e",
   "metadata": {},
   "outputs": [
    {
     "name": "stdout",
     "output_type": "stream",
     "text": [
      "\n",
      "Last Iteration No: 1331\n",
      "Tau Value: 5.144e-05\n",
      "Minimum f(x) Value: 17.216\n",
      "||Xk - Xk-1||2 Value: 9.8666e-05\n"
     ]
    }
   ],
   "source": [
    "run_optimizer(last_4_mob_no_digits=\"0029\", max_iteration=4000, filepath=\"gradient_descent_results.csv\")"
   ]
  },
  {
   "cell_type": "markdown",
   "id": "5c0a79b0",
   "metadata": {},
   "source": [
    "iii) Generate the graph of f (xk) vs k where k is the iteration number and xk is the current estimate of x at iteration k. This graph should convey the decreasing nature of function values.\n",
    "\n",
    "                                Deliverable(s) : The graph that is generated. (0.5)\n",
    "                                \n",
    "-----------------------------------------------------------------------------------------------------------------------"
   ]
  },
  {
   "cell_type": "code",
   "execution_count": 39,
   "id": "53812b35",
   "metadata": {},
   "outputs": [],
   "source": [
    "import pandas as pd\n",
    "import matplotlib.pyplot as plt\n",
    "%matplotlib inline"
   ]
  },
  {
   "cell_type": "code",
   "execution_count": 40,
   "id": "5bb84d21",
   "metadata": {},
   "outputs": [],
   "source": [
    "plt.style.use(['ggplot'])"
   ]
  },
  {
   "cell_type": "code",
   "execution_count": 41,
   "id": "09d9ff0b",
   "metadata": {},
   "outputs": [],
   "source": [
    "data = pd.read_csv(\"gradient_descent_results.csv\")\n",
    "# Drop first row having initialization values for plotting\n",
    "data.drop(index=data.index[0], axis=0, inplace=True)"
   ]
  },
  {
   "cell_type": "code",
   "execution_count": 42,
   "id": "4f22ad80",
   "metadata": {},
   "outputs": [
    {
     "data": {
      "image/png": "[encoded data removed]",
      "text/plain": [
       "<Figure size 864x576 with 1 Axes>"
      ]
     },
     "metadata": {},
     "output_type": "display_data"
    }
   ],
   "source": [
    "fig,ax = plt.subplots(figsize=(12,8))\n",
    "\n",
    "ax.set_ylabel('f(xk)')\n",
    "ax.set_xlabel('k')\n",
    "_=ax.plot(data[\"Iteration\"], data[\"FXk\"])\n",
    "plt.title(\"Steepest Descent: F(Xk) vs Iterations k\")\n",
    "plt.savefig(\"gd_plot.png\", dpi=300, transparent=True)"
   ]
  },
  {
   "cell_type": "markdown",
   "id": "ced6f4fd",
   "metadata": {},
   "source": [
    "# Q3) Critical Points of a function (3 marks)"
   ]
  },
  {
   "cell_type": "markdown",
   "id": "f9c6a2db",
   "metadata": {},
   "source": [
    "i) Generate a third degree polynomial in x and y named g(x, y) that is based on your mobile number (Note : In case there is a 0 in one of the digits replace it by 3). Suppose your mobile number is 9412821233, then the polynomial would be g(x, y) = 9x3 − 4x2y + 1xy2 − 2y3 + 8x2 − 2xy + y2 − 2x + 3y − 3, where alternate positive and negative sign are used.\n",
    "\n",
    "                        Deliverable(s) : The polynomial constructed should be reported. (0.5)\n",
    "                        \n",
    "-----------------------------------------------------------------------------------------------------------------------"
   ]
  },
  {
   "cell_type": "code",
   "execution_count": 43,
   "id": "c96950c8",
   "metadata": {},
   "outputs": [],
   "source": [
    "'''\n",
    "This method generates third degree ploynomial in x and y based on mobile number with alternative sign used\n",
    "mobile_no: input mobile number as string\n",
    "'''\n",
    "def generate_polynomial(mobile_no=\"9999111111\"):\n",
    "    modified_mobile_no = \"\"\n",
    "    for digit in mobile_no:\n",
    "        if digit == \"0\":\n",
    "            modified_mobile_no = modified_mobile_no + \"3\"\n",
    "        else:\n",
    "            modified_mobile_no = modified_mobile_no + digit\n",
    "    polys = [\"*x**3\", \"*x**2*y\", \"*x*y**2\", \"*y**3\", \"*x**2\", \"*x*y\", \"*y**2\", \"*x\", \"*y\", \"\"]\n",
    "    g_of_x_y = \"\"\n",
    "    for digit_idx in range(len(modified_mobile_no)):\n",
    "        if digit_idx == 0:\n",
    "            g_of_x_y = modified_mobile_no[digit_idx] + polys[digit_idx]\n",
    "        else:\n",
    "            sign = \"+\" if digit_idx % 2 == 0 else \"-\"\n",
    "            g_of_x_y = \"{0} {1} {2}{3}\".format(g_of_x_y, sign, modified_mobile_no[digit_idx], polys[digit_idx])\n",
    "    return g_of_x_y"
   ]
  },
  {
   "cell_type": "code",
   "execution_count": 44,
   "id": "22914881",
   "metadata": {},
   "outputs": [
    {
     "name": "stdout",
     "output_type": "stream",
     "text": [
      "Third Degree Ploynomial g(x,y): 9*x**3 - 9*x**2*y + 9*x*y**2 - 9*y**3 + 1*x**2 - 1*x*y + 1*y**2 - 1*x + 1*y - 1\n"
     ]
    }
   ],
   "source": [
    "'''\n",
    "Main entry point method for the Q3 part i answer to generate polynomial\n",
    "'''\n",
    "print(f\"Third Degree Ploynomial g(x,y): {generate_polynomial('9999111111')}\")"
   ]
  },
  {
   "cell_type": "markdown",
   "id": "6bf42de3",
   "metadata": {},
   "source": [
    "ii) Write a code to find all critical points of g(x, y). You may use built in functions like ’solve’ (or other similar functions) in Octave/Matlab to find the critical points .\n",
    "\n",
    "                       Deliverable(s) : The code that finds the critical points along with the \n",
    "                                  display of all the calculated critical points. (1)\n",
    "                                  \n",
    "-----------------------------------------------------------------------------------------------------------------------"
   ]
  },
  {
   "cell_type": "markdown",
   "id": "397c2109",
   "metadata": {},
   "source": [
    "##### Note: Not profiecient in Octave/Matlab so using python for this question and as mentioned can use in-built functions like 'solve', using sympy in python which is equivalent"
   ]
  },
  {
   "cell_type": "code",
   "execution_count": 46,
   "id": "3c942802",
   "metadata": {},
   "outputs": [],
   "source": [
    "from sympy import symbols, Function, simplify, Matrix, hessian, solve"
   ]
  },
  {
   "cell_type": "code",
   "execution_count": 47,
   "id": "4f89e252",
   "metadata": {},
   "outputs": [],
   "source": [
    "'''\n",
    "This method calculates the critical points of g(x,y)\n",
    "f: input function g(x,y)\n",
    "'''\n",
    "def calculate_critical_points(f):\n",
    "    x, y = symbols('x y')\n",
    "    \n",
    "    v = Matrix([x, y])\n",
    "    f = Matrix([f])\n",
    "    gradf = simplify(f.jacobian(v))\n",
    "    hessianf = simplify(hessian(f, v))\n",
    "    crit = solve(gradf, v)\n",
    "    return crit, hessianf, v"
   ]
  },
  {
   "cell_type": "code",
   "execution_count": 48,
   "id": "5a708bd7",
   "metadata": {},
   "outputs": [],
   "source": [
    "'''\n",
    "Main entry point method for the Q3 part ii answer to calculate critical points for a fuction g(x,y)\n",
    "'''\n",
    "def run_critical_points_calc(mob_no=\"9999111111\"):\n",
    "    f = symbols('f', cls=Function)\n",
    "    f = simplify(generate_polynomial(mob_no))\n",
    "    critical_points, hessianf, v = calculate_critical_points(f)\n",
    "    for point_idx in range(len(critical_points)):\n",
    "        print(f\"Critical Point{point_idx+1}: {critical_points[point_idx]}\\n\")"
   ]
  },
  {
   "cell_type": "code",
   "execution_count": 49,
   "id": "d6ce8125",
   "metadata": {},
   "outputs": [
    {
     "name": "stdout",
     "output_type": "stream",
     "text": [
      "Critical Point1: (-1/6, 1/6)\n",
      "\n",
      "Critical Point2: (1/9, -1/9)\n",
      "\n",
      "Critical Point3: (-47*sqrt(3)/180 - 108*(1/36 + 5*sqrt(3)/36)**2/25 - 23/900 + 1296*(1/36 + 5*sqrt(3)/36)**3/25, 1/36 + 5*sqrt(3)/36)\n",
      "\n",
      "Critical Point4: (1296*(1/36 - 5*sqrt(3)/36)**3/25 - 108*(1/36 - 5*sqrt(3)/36)**2/25 - 23/900 + 47*sqrt(3)/180, 1/36 - 5*sqrt(3)/36)\n",
      "\n"
     ]
    }
   ],
   "source": [
    "run_critical_points_calc()"
   ]
  },
  {
   "cell_type": "markdown",
   "id": "3510a467",
   "metadata": {},
   "source": [
    "iii) Write a code to determine whether they correspond to a maximum, minimum or a saddle point.\n",
    "\n",
    "                     Deliverable(s) : The code that identifies the type of critical points. The \n",
    "                     critical points and their type must be presented in the form of the table \n",
    "                              generated by code for the above polynomial. (1.5 marks)\n",
    "                              \n",
    "-----------------------------------------------------------------------------------------------------------------------"
   ]
  },
  {
   "cell_type": "code",
   "execution_count": 51,
   "id": "bd5d1af0",
   "metadata": {},
   "outputs": [],
   "source": [
    "import scipy.linalg as la\n",
    "import numpy as np"
   ]
  },
  {
   "cell_type": "code",
   "execution_count": 52,
   "id": "09187aba",
   "metadata": {},
   "outputs": [],
   "source": [
    "'''\n",
    "Main entry point method for the Q3 part iii answer to characterize critical points for a fuction g(x,y)\n",
    "'''\n",
    "def run_critical_points_characterization(mob_no=\"9999111322\"):\n",
    "    f = symbols('f', cls=Function)\n",
    "    f = simplify(generate_polynomial(mob_no))\n",
    "    \n",
    "    critical_points, hessianf, v = calculate_critical_points(f)\n",
    "    \n",
    "    for point in critical_points:\n",
    "        try:\n",
    "            h = np.array(hessianf.subs(dict(zip(v, point)))).astype('float')\n",
    "            l,v_ = la.eig(h)\n",
    "            if(np.all(np.greater(l,np.zeros(2)))):\n",
    "                print(f\"Function has a minimum point at: {point}\\n\")\n",
    "            elif(np.all(np.less(l,np.zeros(2)))):\n",
    "                print(f\"Function has a maximum point at: {point}\\n\")\n",
    "            else:\n",
    "                print(f\"Function has a saddle point at: {point}\\n\")\n",
    "        except TypeError:\n",
    "            # Skip for the Imaginary points\n",
    "            pass"
   ]
  },
  {
   "cell_type": "code",
   "execution_count": 53,
   "id": "ddfb2dc1",
   "metadata": {},
   "outputs": [
    {
     "name": "stdout",
     "output_type": "stream",
     "text": [
      "Function has a minimum point at: (1296*(1/36 - sqrt(86 - sqrt(3289))/36)**3/37 - 108*(1/36 - sqrt(86 - sqrt(3289))/36)**2/37 - 35/1332 + 95*sqrt(86 - sqrt(3289))/1332, 1/36 - sqrt(86 - sqrt(3289))/36)\n",
      "\n",
      "Function has a saddle point at: (1296*(1/36 - sqrt(sqrt(3289) + 86)/36)**3/37 - 108*(1/36 - sqrt(sqrt(3289) + 86)/36)**2/37 - 35/1332 + 95*sqrt(sqrt(3289) + 86)/1332, 1/36 - sqrt(sqrt(3289) + 86)/36)\n",
      "\n",
      "Function has a maximum point at: (-95*sqrt(86 - sqrt(3289))/1332 - 108*(1/36 + sqrt(86 - sqrt(3289))/36)**2/37 - 35/1332 + 1296*(1/36 + sqrt(86 - sqrt(3289))/36)**3/37, 1/36 + sqrt(86 - sqrt(3289))/36)\n",
      "\n",
      "Function has a saddle point at: (-95*sqrt(sqrt(3289) + 86)/1332 - 108*(1/36 + sqrt(sqrt(3289) + 86)/36)**2/37 - 35/1332 + 1296*(1/36 + sqrt(sqrt(3289) + 86)/36)**3/37, 1/36 + sqrt(sqrt(3289) + 86)/36)\n",
      "\n"
     ]
    }
   ],
   "source": [
    "run_critical_points_characterization(\"9999111322\")"
   ]
  }
 ],
 "metadata": {
  "kernelspec": {
   "display_name": "Python 3 (ipykernel)",
   "language": "python",
   "name": "python3"
  },
  "language_info": {
   "codemirror_mode": {
    "name": "ipython",
    "version": 3
   },
   "file_extension": ".py",
   "mimetype": "text/x-python",
   "name": "python",
   "nbconvert_exporter": "python",
   "pygments_lexer": "ipython3",
   "version": "3.9.7"
  }
 },
 "nbformat": 4,
 "nbformat_minor": 5
}
