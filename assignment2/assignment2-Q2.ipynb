{
 "cells": [
  {
   "cell_type": "markdown",
   "id": "eb80ed17",
   "metadata": {},
   "source": [
    "# Q2) Gradient Descent Algorithm"
   ]
  },
  {
   "cell_type": "code",
   "execution_count": 35,
   "id": "499ed491",
   "metadata": {},
   "outputs": [],
   "source": [
    "import random\n",
    "import sys\n",
    "from math import floor, log10, sqrt\n",
    "import csv"
   ]
  },
  {
   "cell_type": "markdown",
   "id": "844fb53e",
   "metadata": {},
   "source": [
    "i) Consider the last 4 digits of your mobile number (Note : In case there is a 0 in one of the digits replace it by 3). Let it be n1n2n3n4. Generate a random matrix A of size n1n2 × n3n4. For example, if the last four digits are 2311, generate a random matrix of size 23 × 11. Write a code to calculate the l∞ norm of this matrix.\n",
    "\n",
    "                           Deliverable(s) : The code that generates the results. (0.5)\n",
    "                           \n",
    "-----------------------------------------------------------------------------------------------------------------------"
   ]
  },
  {
   "cell_type": "code",
   "execution_count": 1,
   "id": "92fcb10b",
   "metadata": {},
   "outputs": [],
   "source": [
    "# Significant digit conversion\n",
    "'''\n",
    "This method convert a digit into significant digit\n",
    "x: digit\n",
    "sig: significant digit form ex: 5 = r.dddd\n",
    "'''\n",
    "def tidy(x, sig):\n",
    "    y = abs(x)\n",
    "    if y <= sys.float_info.min:\n",
    "        return 0.0000\n",
    "    return round(x, sig-int(floor(log10(y)))-1)"
   ]
  },
  {
   "cell_type": "code",
   "execution_count": 2,
   "id": "42dc131d",
   "metadata": {},
   "outputs": [],
   "source": [
    "# Matrix generator of size m x n\n",
    "def generate_matrix(m, n, low_num=0.10000, up_num=9.9999, sig=5):\n",
    "    return [[tidy(random.uniform(low_num, up_num), sig) for i in range(n)] for j in range(m)]"
   ]
  },
  {
   "cell_type": "code",
   "execution_count": 14,
   "id": "b8154a98",
   "metadata": {},
   "outputs": [],
   "source": [
    "# Calculate infinity norm of matrix m\n",
    "'''\n",
    "This method calculate infinity norm of a matrix\n",
    "m: input matrix\n",
    "sig: significant digit form ex: 5 = r.dddd\n",
    "'''\n",
    "def norm_infinity(m, sig=5):\n",
    "    rowmax = 0\n",
    "    for r in range(len(m)):\n",
    "        temp = 0\n",
    "        for c in range(len(m[r])):\n",
    "            temp = tidy(temp + abs(m[r][c]), sig)\n",
    "        if temp > rowmax:\n",
    "            rowmax = temp\n",
    "    return rowmax"
   ]
  },
  {
   "cell_type": "code",
   "execution_count": 15,
   "id": "8d606b85",
   "metadata": {},
   "outputs": [],
   "source": [
    "'''\n",
    "Main entry point method for the Q2 part i answer, to calculate infinity norm and generate n1n2xn3n4 size matrix\n",
    "last_4_mob_no_digits: last 4 mobile number digit in string\n",
    "'''\n",
    "def run_infinity_norm_calc(last_4_mob_no_digits=\"0029\"):\n",
    "    # Get Matrix Size m x n\n",
    "    last_4_digits = \"\"\n",
    "    for digit in last_4_mob_no_digits:\n",
    "        if digit == \"0\":\n",
    "            last_4_digits = last_4_digits + \"3\"\n",
    "        else:\n",
    "            last_4_digits = last_4_digits + digit\n",
    "    m, n = int(last_4_digits[:2]), int(last_4_digits[2:])\n",
    "    \n",
    "    # Generate Matrix\n",
    "    matrix = generate_matrix(m, n)\n",
    "    \n",
    "    # Calculate infinity norm\n",
    "    infi_norm = norm_infinity(matrix)\n",
    "    print(f\"\\nInfinity Norm: {infi_norm}\")"
   ]
  },
  {
   "cell_type": "code",
   "execution_count": 16,
   "id": "cc10029a",
   "metadata": {},
   "outputs": [
    {
     "name": "stdout",
     "output_type": "stream",
     "text": [
      "\n",
      "Infinity Norm: 170.74\n"
     ]
    }
   ],
   "source": [
    "run_infinity_norm_calc()"
   ]
  },
  {
   "cell_type": "markdown",
   "id": "dc4ad219",
   "metadata": {},
   "source": [
    "ii) Generate a random vector b of size n1n2 × 1 and consider the function f (x) = 1/2 ∥Ax − b∥^22 where ∥ · ∥2 is the vector ℓ2 norm. Its gradient is given to be ∇f (x) = A⊤Ax − A⊤b. Write a code to find the local minima of this function by using the gradient descent algorithm (by using the gradient expression given to you). The step size τ in the iteration xk+1 = xk − τ ∇f (xk) should be chosen by the formula τ = gTk gkgTk ATAgk where gk = ∇f (xk) = A⊤Axk − A⊤b. The algorithm should execute until ∥xk − xk−1∥2 < 10−4.\n",
    "\n",
    "               Deliverable(s) : The code that finds the minimum of the given function and the \n",
    "               expression for τ . The values of xk and f (xk) should be stored in a file. (1)\n",
    "               \n",
    "-----------------------------------------------------------------------------------------------------------------------"
   ]
  },
  {
   "cell_type": "code",
   "execution_count": 21,
   "id": "b40aff38",
   "metadata": {},
   "outputs": [],
   "source": [
    "'''\n",
    "This method calculate multiplication of two input matrices\n",
    "mat1: input matrix a\n",
    "mat1: input matrix b\n",
    "d: significant digit form ex: 5 = r.dddd\n",
    "'''\n",
    "def get_matrix_multiplication(mat1, mat2, d=5):\n",
    "    result = [[tidy(sum(tidy(a * b, d) for a, b in zip(mat1_row, mat2_col)), d) for mat2_col in zip(*mat2)] for mat1_row in mat1]\n",
    "    return result"
   ]
  },
  {
   "cell_type": "code",
   "execution_count": 24,
   "id": "f37cc3de",
   "metadata": {},
   "outputs": [],
   "source": [
    "'''\n",
    "This method calculate subtraction of two input matrices\n",
    "mat1: input matrix a\n",
    "mat1: input matrix b\n",
    "sig: significant digit form ex: 5 = r.dddd\n",
    "'''\n",
    "def get_matrix_subtraction(mat1, mat2, d=5):\n",
    "    result = [[tidy(mat1[m][n] - mat2[m][n], d) for n in range(len(mat1[0]))] for m in range(len(mat1))]\n",
    "    return result"
   ]
  },
  {
   "cell_type": "code",
   "execution_count": 26,
   "id": "d9460bf5",
   "metadata": {},
   "outputs": [],
   "source": [
    "'''\n",
    "This method calculate transpose of given input matrix\n",
    "m: input matrix\n",
    "'''\n",
    "def get_matrix_transpose(m):\n",
    "    result = [[m[j][i] for j in range(len(m))] for i in range(len(m[0]))]\n",
    "    return result"
   ]
  },
  {
   "cell_type": "code",
   "execution_count": 27,
   "id": "72e44523",
   "metadata": {},
   "outputs": [],
   "source": [
    "'''\n",
    "This method calculate scalar product of a matrix and scalar\n",
    "mat: input matrix\n",
    "k: input scalar\n",
    "d: significant digit form ex: 5 = r.dddd\n",
    "'''\n",
    "def get_scalar_product_matrix(mat, k, d=5):\n",
    "    for i in range(len(mat)):\n",
    "        for j in range(len(mat[0])):\n",
    "            mat[i][j] = tidy(mat[i][j] * k, d) \n",
    "    return mat"
   ]
  },
  {
   "cell_type": "code",
   "execution_count": 28,
   "id": "55a51b3b",
   "metadata": {},
   "outputs": [],
   "source": [
    "'''\n",
    "This method calculate norm-2 of a vector\n",
    "v: input vector\n",
    "d: significant digit form ex: 5 = r.dddd\n",
    "'''\n",
    "def norm_2(v, d=5):\n",
    "    sqr_sum = 0\n",
    "    for elm in v:\n",
    "        elm = elm[0]\n",
    "        abs_elm = abs(elm)\n",
    "        sqr_sum = tidy(sqr_sum + tidy(abs_elm ** 2, d), d)\n",
    "    result = tidy(sqrt(sqr_sum), d)\n",
    "    return result"
   ]
  },
  {
   "cell_type": "code",
   "execution_count": 29,
   "id": "4243227a",
   "metadata": {},
   "outputs": [],
   "source": [
    "'''\n",
    "This method calculate tau\n",
    "'''\n",
    "def get_tau(gk, gkT, ATA, d=5):\n",
    "    gkTgk = get_matrix_multiplication(gkT, gk)\n",
    "    gkTATA = get_matrix_multiplication(gkT, ATA)\n",
    "    gkTATAgk = get_matrix_multiplication(gkTATA, gk)\n",
    "    gkTgk_div_gkTATAgk = tidy(gkTgk[0][0] / gkTATAgk[0][0], d)\n",
    "    return gkTgk_div_gkTATAgk"
   ]
  },
  {
   "cell_type": "code",
   "execution_count": 39,
   "id": "3f071c69",
   "metadata": {},
   "outputs": [],
   "source": [
    "'''\n",
    "Main entry point method for the Q2 part ii answer, to calculate minimum of f(x) and tau\n",
    "last_4_mob_no_digits: last 4 mobile number digit in string\n",
    "max_iteration: maximum number of iteration to run\n",
    "filepath: output csv file path to save values of iteration, xk and f(xk)\n",
    "d: significant digit\n",
    "'''\n",
    "def run_optimizer(last_4_mob_no_digits=\"0029\", max_iteration = 5000, filepath=\"gradient_descent_results.csv\", d=5):\n",
    "    # Get Matrix Size m x n\n",
    "    last_4_digits = \"\"\n",
    "    for digit in last_4_mob_no_digits:\n",
    "        if digit == \"0\":\n",
    "            last_4_digits = last_4_digits + \"3\"\n",
    "        else:\n",
    "            last_4_digits = last_4_digits + digit\n",
    "    m, n = int(last_4_digits[:2]), int(last_4_digits[2:])\n",
    "    \n",
    "    # Generate Matrix A and Vector b\n",
    "    A = generate_matrix(m, n)\n",
    "    b = generate_matrix(m, 1)\n",
    "    \n",
    "    # Initial points\n",
    "    x = [[tidy(0.5, d)] for j in range(n)]\n",
    "    \n",
    "    # Create CSV file\n",
    "    csvfile = open(filepath, \"w\")\n",
    "    csvwriter = csv.writer(csvfile)\n",
    "    csvwriter.writerow([\"Iteration\", \"Xk\", \"FXk\"])\n",
    "    \n",
    "    # Optimizer\n",
    "    itr = 0\n",
    "    while True:\n",
    "        Ax = get_matrix_multiplication(A, x)\n",
    "        Ax_minus_b = get_matrix_subtraction(Ax, b)\n",
    "        Ax_minus_b_n2 = norm_2(Ax_minus_b)\n",
    "        fx = tidy((tidy(Ax_minus_b_n2 ** 2, d)) / 2, d)\n",
    "        # Write results to CSV\n",
    "        csvwriter.writerow([itr, [elm[0] for elm in x], fx])\n",
    "        AT = get_matrix_transpose(A)\n",
    "        ATA = get_matrix_multiplication(AT, A)\n",
    "        ATAx = get_matrix_multiplication(ATA, x)\n",
    "        ATb = get_matrix_multiplication(AT, b)\n",
    "        del_fx = get_matrix_subtraction(ATAx, ATb)\n",
    "        gkT = get_matrix_transpose(del_fx)\n",
    "        tau = get_tau(del_fx, gkT, ATA)\n",
    "        tau_del_fx = get_scalar_product_matrix(del_fx, tau)\n",
    "        x_new = get_matrix_subtraction(x, tau_del_fx)\n",
    "        error = get_matrix_subtraction(x_new, x)\n",
    "        error_n2 = norm_2(error)\n",
    "        x = x_new\n",
    "        itr = itr + 1\n",
    "        if itr == max_iteration or error_n2 < 0.0001:\n",
    "            print(f\"\\nLast Iteration No: {itr}\")\n",
    "            print(f\"Tau Value: {tau}\\nMinimum f(x) Value: {fx}\\n||Xk - Xk-1||2 Value: {error_n2}\")\n",
    "            break\n",
    "    csvfile.close()"
   ]
  },
  {
   "cell_type": "code",
   "execution_count": 40,
   "id": "387467c3",
   "metadata": {
    "scrolled": false
   },
   "outputs": [
    {
     "name": "stdout",
     "output_type": "stream",
     "text": [
      "\n",
      "Last Iteration No: 1128\n",
      "Tau Value: 4.6486e-05\n",
      "Minimum f(x) Value: 17.061\n",
      "||Xk - Xk-1||2 Value: 9.6021e-05\n"
     ]
    }
   ],
   "source": [
    "run_optimizer(last_4_mob_no_digits=\"0029\", max_iteration=4000, filepath=\"gradient_descent_results.csv\")"
   ]
  }
 ],
 "metadata": {
  "kernelspec": {
   "display_name": "Python 3 (ipykernel)",
   "language": "python",
   "name": "python3"
  },
  "language_info": {
   "codemirror_mode": {
    "name": "ipython",
    "version": 3
   },
   "file_extension": ".py",
   "mimetype": "text/x-python",
   "name": "python",
   "nbconvert_exporter": "python",
   "pygments_lexer": "ipython3",
   "version": "3.9.7"
  }
 },
 "nbformat": 4,
 "nbformat_minor": 5
}
