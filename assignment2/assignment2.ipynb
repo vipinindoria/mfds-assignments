{
 "cells": [
  {
   "cell_type": "code",
   "execution_count": 1,
   "id": "ca1c7d4b",
   "metadata": {},
   "outputs": [],
   "source": [
    "import sys\n",
    "import random\n",
    "from math import floor, log10, sqrt\n",
    "import copy"
   ]
  },
  {
   "cell_type": "markdown",
   "id": "36494b51",
   "metadata": {},
   "source": [
    "# Q1) Gram-Schmidt Algorithm and QR decomposition"
   ]
  },
  {
   "cell_type": "markdown",
   "id": "48442382",
   "metadata": {},
   "source": [
    "i) Write a code to generate a random matrix A of size m × n with m > n and calculate its Frobenius norm, ∥ · ∥F . The entries of A must be of the form r.dddd (example 5.4316). The inputs are the positive integers m and n and the output should display the the dimensions and the calculated norm value.\n",
    "\n",
    "                       Deliverable(s) : The code with the desired input and output (0.5)\n",
    "-----------------------------------------------------------------------------------------------------------------------"
   ]
  },
  {
   "cell_type": "code",
   "execution_count": 2,
   "id": "edc159a1",
   "metadata": {},
   "outputs": [],
   "source": [
    "# Significant digit conversion\n",
    "def tidy(x, sig):\n",
    "    y = abs(x)\n",
    "    if y <= sys.float_info.min:\n",
    "        return 0.0000\n",
    "    return round(x, sig-int(floor(log10(y)))-1)"
   ]
  },
  {
   "cell_type": "code",
   "execution_count": 237,
   "id": "0d75ed5f",
   "metadata": {},
   "outputs": [],
   "source": [
    "# Calculate frobenius norm of matrix m\n",
    "def norm_frobenius(m):\n",
    "    sqr_sum = 0\n",
    "    for r in range(len(m)):\n",
    "        for c in range(len(m[r])):\n",
    "            elm = abs(m[r][c])\n",
    "            sqr_sum = sqr_sum + (elm ** 2)\n",
    "    return sqrt(sqr_sum)"
   ]
  },
  {
   "cell_type": "code",
   "execution_count": 4,
   "id": "6bf851e0",
   "metadata": {},
   "outputs": [],
   "source": [
    "# Matrix generator of size m x n\n",
    "def generate_matrix(m, n, low_num=0.10000, up_num=9.9999, sig=5):\n",
    "    return [[tidy(random.uniform(low_num, up_num), sig) for i in range(n)] for j in range(m)]"
   ]
  },
  {
   "cell_type": "code",
   "execution_count": 5,
   "id": "a9442c2c",
   "metadata": {},
   "outputs": [],
   "source": [
    "# Function to run frobenius norm calculator along with matrix generation\n",
    "def run_frobenius_calc(m, n):\n",
    "    if m >= n:\n",
    "        a = generate_matrix(m, n)\n",
    "        print(f\"\\nMatrix size: {m}x{n}\")\n",
    "        frobenius_norm_val = tidy(norm_frobenius(a), 5)\n",
    "        print(f\"\\nFrobenius norm value: {frobenius_norm_val}\")\n",
    "    else:\n",
    "        print(f\"\\nPlease provide matrix size, where m > n.\")"
   ]
  },
  {
   "cell_type": "code",
   "execution_count": 6,
   "id": "e2f77b39",
   "metadata": {},
   "outputs": [
    {
     "name": "stdout",
     "output_type": "stream",
     "text": [
      "\n",
      "Matrix size: 5x4\n",
      "\n",
      "Frobenius norm value: 25.742\n"
     ]
    }
   ],
   "source": [
    "# Test run\n",
    "run_frobenius_calc(5, 4)"
   ]
  },
  {
   "cell_type": "markdown",
   "id": "5b2cc130",
   "metadata": {},
   "source": [
    "ii) Write a code to decide if Gram-Schmidt Algorithm can be applied to columns of a given matrix A through calculation of rank. The code should print appropriate messages indicating whether Gram-Schmidt is applicable on columns of the matrix or not.\n",
    "\n",
    "                      Deliverable(s) : The code that performs the test. (1)\n",
    "-----------------------------------------------------------------------------------------------------------------------"
   ]
  },
  {
   "cell_type": "code",
   "execution_count": 15,
   "id": "3e5baa77",
   "metadata": {},
   "outputs": [],
   "source": [
    "def is_full_rank_matrix(matrix, d=5):\n",
    "    r = len(matrix)\n",
    "    c = len(matrix[0])\n",
    "    \n",
    "    # Significant digit conversion\n",
    "    def tidy(x, sig):\n",
    "        y = abs(x)\n",
    "        if y <= sys.float_info.min:\n",
    "            return 0.0000\n",
    "        return round(x, sig-int(floor(log10(y)))-1)\n",
    "         \n",
    "    # Function for exchanging two rows of a matrix\n",
    "    def swap(matrix, row1, row2, col):\n",
    "        for i in range(col):\n",
    "            temp = matrix[row1][i]\n",
    "            matrix[row1][i] = matrix[row2][i]\n",
    "            matrix[row2][i] = temp\n",
    "             \n",
    "    rank = c\n",
    "    for row in range(0, rank, 1):\n",
    "        # Diagonal element is not zero\n",
    "        if matrix[row][row] != 0:\n",
    "            for col in range(0, r, 1):\n",
    "                if col != row:\n",
    "                    multiplier = (matrix[col][row] / matrix[row][row])\n",
    "                    for i in range(rank):\n",
    "                        matrix[col][i] -= (multiplier * matrix[row][i])\n",
    "        else:\n",
    "            reduce = True\n",
    "            for i in range(row + 1, r, 1):\n",
    "                if matrix[i][row] != 0:\n",
    "                    swap(matrix, row, i, rank)\n",
    "                    reduce = False\n",
    "                    break\n",
    "            if reduce:\n",
    "                rank -= 1\n",
    "                for i in range(0, r, 1):\n",
    "                    matrix[i][row] = matrix[i][rank]\n",
    "            row -= 1\n",
    "    return True if rank == min(r, c) else False"
   ]
  },
  {
   "cell_type": "code",
   "execution_count": 16,
   "id": "dd979a3b",
   "metadata": {},
   "outputs": [],
   "source": [
    "def gram_schmidt_applicability_calc(m):\n",
    "    check = is_full_rank_matrix(m)\n",
    "    if check:\n",
    "        print(\"\\nGram-Schmidt is applicable on columns of the matrix.\")\n",
    "    else:\n",
    "        print(\"\\nGram-Schmidt is not applicable on columns of the matrix\")"
   ]
  },
  {
   "cell_type": "code",
   "execution_count": 17,
   "id": "b0341525",
   "metadata": {},
   "outputs": [
    {
     "name": "stdout",
     "output_type": "stream",
     "text": [
      "\n",
      "Gram-Schmidt is applicable on columns of the matrix.\n"
     ]
    }
   ],
   "source": [
    "# Test1\n",
    "a = [[2.0,  1.0, -1.0],\n",
    "     [-3.0,  -1.0,  2.0],\n",
    "     [-2.0, 1.0,  2.0]]\n",
    "gram_schmidt_applicability_calc(a)"
   ]
  },
  {
   "cell_type": "code",
   "execution_count": 18,
   "id": "40319937",
   "metadata": {},
   "outputs": [
    {
     "name": "stdout",
     "output_type": "stream",
     "text": [
      "\n",
      "Gram-Schmidt is not applicable on columns of the matrix\n"
     ]
    }
   ],
   "source": [
    "# Test2\n",
    "a = [[3, 2, 4],\n",
    "     [-1, 1, 2],\n",
    "     [9, 5, 10]]\n",
    "gram_schmidt_applicability_calc(a)"
   ]
  },
  {
   "cell_type": "markdown",
   "id": "67485eb3",
   "metadata": {},
   "source": [
    "iii) Write a code to generate the orthogonal matrix Q from a matrix A by performing the Gram-Schmidt orthogonalization method. Ensure that A has linearly independent columns by checking the rank. Keep generating A until the linear independence is obtained.\n",
    "\n",
    "                         Deliverable(s) : The code that produces matrix Q from A (1)\n",
    "                         \n",
    "-----------------------------------------------------------------------------------------------------------------------"
   ]
  },
  {
   "cell_type": "markdown",
   "id": "09c5e9d3",
   "metadata": {},
   "source": [
    "##### Ref: https://rpubs.com/aaronsc32/qr-decomposition-gram-schmidt"
   ]
  },
  {
   "cell_type": "code",
   "execution_count": 73,
   "id": "42c7aace",
   "metadata": {},
   "outputs": [],
   "source": [
    "def is_full_rank_matrix(matrix, d=5):\n",
    "    r = len(matrix)\n",
    "    c = len(matrix[0])\n",
    "    \n",
    "    # Significant digit conversion\n",
    "    def tidy(x, sig):\n",
    "        y = abs(x)\n",
    "        if y <= sys.float_info.min:\n",
    "            return 0.0000\n",
    "        return round(x, sig-int(floor(log10(y)))-1)\n",
    "         \n",
    "    # Function for exchanging two rows of a matrix\n",
    "    def swap(matrix, row1, row2, col):\n",
    "        for i in range(col):\n",
    "            temp = matrix[row1][i]\n",
    "            matrix[row1][i] = matrix[row2][i]\n",
    "            matrix[row2][i] = temp\n",
    "             \n",
    "    rank = c\n",
    "    for row in range(0, rank, 1):\n",
    "        # Diagonal element is not zero\n",
    "        if matrix[row][row] != 0:\n",
    "            for col in range(0, r, 1):\n",
    "                if col != row:\n",
    "                    multiplier = (matrix[col][row] / matrix[row][row])\n",
    "                    for i in range(rank):\n",
    "                        matrix[col][i] -= (multiplier * matrix[row][i])\n",
    "        else:\n",
    "            reduce = True\n",
    "            for i in range(row + 1, r, 1):\n",
    "                if matrix[i][row] != 0:\n",
    "                    swap(matrix, row, i, rank)\n",
    "                    reduce = False\n",
    "                    break\n",
    "            if reduce:\n",
    "                rank -= 1\n",
    "                for i in range(0, r, 1):\n",
    "                    matrix[i][row] = matrix[i][rank]\n",
    "            row -= 1\n",
    "    return True if rank == min(r, c) else False"
   ]
  },
  {
   "cell_type": "code",
   "execution_count": 74,
   "id": "59fa700c",
   "metadata": {},
   "outputs": [],
   "source": [
    "def get_matrix_column(matrix, col):\n",
    "    column = []\n",
    "    for row in matrix:\n",
    "        elem = row[col]\n",
    "        column.append(elem)\n",
    "    return column"
   ]
  },
  {
   "cell_type": "code",
   "execution_count": 125,
   "id": "9c12611e",
   "metadata": {},
   "outputs": [],
   "source": [
    "def set_matrix_column(matrix, n, col_idx, col):\n",
    "    for row_idx in range(n):\n",
    "        matrix[row_idx][col_idx] = col[row_idx]\n",
    "    return matrix"
   ]
  },
  {
   "cell_type": "code",
   "execution_count": 126,
   "id": "1e7fcf3a",
   "metadata": {},
   "outputs": [],
   "source": [
    "def inner_dot(x, y):\n",
    "    return sum(x_i * y_i for x_i, y_i in zip(x, y))"
   ]
  },
  {
   "cell_type": "code",
   "execution_count": 203,
   "id": "8ceb7b2d",
   "metadata": {},
   "outputs": [],
   "source": [
    "def gram_schmidt(matrix, m, n, d=5):\n",
    "    # Initialize Q and R matrices\n",
    "    q = [[0 for x in range(n)] for y in range(m)]\n",
    "    r = [[0 for x in range(n)] for y in range(n)]\n",
    "    for j in range(n):\n",
    "        # Step-1, v1 = a1\n",
    "        v = get_matrix_column(matrix, j)\n",
    "        # Skip the first column\n",
    "        if j > 0:\n",
    "            for i in range(j):\n",
    "                # Find the inner product\n",
    "                r[i][j] = inner_dot(get_matrix_column(q, i), get_matrix_column(matrix, j))\n",
    "                # Subtract the projection from v which causes v to become perpendicular to all columns of Q\n",
    "                v = [x_i - y_i for x_i, y_i in zip(v, [r[i][j] * x for x in get_matrix_column(q, i)])]\n",
    "        # Find the L2 norm of the jth diagonal of R\n",
    "        r[j][j] = sqrt(sum([x**2 for x in v]))\n",
    "        # The orthogonalized result is found and stored in the ith column of Q.\n",
    "        q = set_matrix_column(q, n, j, [x / r[j][j] for x in v])\n",
    "    return (q, r)"
   ]
  },
  {
   "cell_type": "code",
   "execution_count": 204,
   "id": "e5ce1a1f",
   "metadata": {},
   "outputs": [],
   "source": [
    "# Matrix generator of size m x n\n",
    "def generate_matrix(m, n, low_num=0.10000, up_num=9.9999, sig=5):\n",
    "    return [[tidy(random.uniform(low_num, up_num), sig) for i in range(n)] for j in range(m)]"
   ]
  },
  {
   "cell_type": "code",
   "execution_count": 205,
   "id": "0295bf76",
   "metadata": {},
   "outputs": [],
   "source": [
    "def run_gram_schmidt_calc(m=3, n=3, max_itr=100):\n",
    "    itr = 1\n",
    "    while True and itr <= max_itr:\n",
    "        print(f\"\\nGram-Schmidt Calculation Iteration: {itr}\")\n",
    "        matrix = generate_matrix(m,n)\n",
    "        matrix_ = copy.deepcopy(matrix)\n",
    "        if is_full_rank_matrix(matrix_):\n",
    "            q, r = gram_schmidt(matrix, m, n)\n",
    "            print(f\"\\nQ: \\n{q}\\n\\nR: \\n{r}\")\n",
    "            break\n",
    "        else:\n",
    "            print(\"\\nGram-Schmidt is not applicable as generated Matrix does not have linearly independent columns.\")"
   ]
  },
  {
   "cell_type": "code",
   "execution_count": 206,
   "id": "35a96231",
   "metadata": {},
   "outputs": [
    {
     "name": "stdout",
     "output_type": "stream",
     "text": [
      "\n",
      "Gram-Schmidt Calculation Iteration: 1\n",
      "\n",
      "Q: \n",
      "[[0.11931715970462617, 0.3331470481044053, 0.9352948517656569], [0.21661534929582182, 0.9105961807368902, -0.3519835025634553], [0.9689381847411473, -0.24459689279855906, -0.03648498573139851]]\n",
      "\n",
      "R: \n",
      "[[8.30919879801296, 5.178583720405156, 8.684894632952727], [0, 8.820747822648299, 1.6726892806609128], [0, 0, 2.447347528421533]]\n"
     ]
    }
   ],
   "source": [
    "# Test1\n",
    "run_gram_schmidt_calc()"
   ]
  },
  {
   "cell_type": "code",
   "execution_count": 207,
   "id": "16f55fdf",
   "metadata": {},
   "outputs": [
    {
     "name": "stdout",
     "output_type": "stream",
     "text": [
      "\n",
      "Q: \n",
      "[[0.6666666666666666, -0.6666666666666666, 0.3333333333333333], [0.6666666666666666, 0.3333333333333333, -0.6666666666666666], [0.3333333333333333, 0.6666666666666666, 0.6666666666666666]]\n",
      "\n",
      "R: \n",
      "[[3.0, 0.0, 12.0], [0, 3.0, -12.0], [0, 0, 6.0]]\n"
     ]
    }
   ],
   "source": [
    "# Test2\n",
    "A = [[2, -2, 18], [2, 1, 0], [1, 2, 0]]\n",
    "\n",
    "A_ = copy.deepcopy(A)\n",
    "if is_full_rank_matrix(A_):\n",
    "    q, r = gram_schmidt(A, 3, 3)\n",
    "    print(f\"\\nQ: \\n{q}\\n\\nR: \\n{r}\")"
   ]
  },
  {
   "cell_type": "markdown",
   "id": "0052dd25",
   "metadata": {},
   "source": [
    "iv) Write a code to create a QR decomposition of the matrix A by utilizing the code developed in the previous sub-parts of this question. Find the matrices Q and R and then display the value ∥A − (Q.R)∥F , where ∥ · ∥F is the Frobenius norm. The code should also display the total number of additions, multiplications and divisions to find the result.\n",
    "\n",
    "                 Deliverable(s) : The code with the said input and output. The results obtained for A \n",
    "                      generated with m = 7 and n = 5 with random entries described above. (2.5)\n",
    "                      \n",
    "-----------------------------------------------------------------------------------------------------------------------"
   ]
  },
  {
   "cell_type": "markdown",
   "id": "356d9341",
   "metadata": {},
   "source": [
    "###### Ref: http://linear.ups.edu/scla/html/section-QR.html"
   ]
  },
  {
   "cell_type": "code",
   "execution_count": 217,
   "id": "89d7c4ae",
   "metadata": {},
   "outputs": [],
   "source": [
    "def gram_schmidt(matrix, m, n, d=5):\n",
    "    n_add, n_mul, n_div = 0, 0, 0\n",
    "    # Initialize Q and R matrices\n",
    "    q = [[0 for x in range(n)] for y in range(m)]\n",
    "    r = [[0 for x in range(n)] for y in range(n)]\n",
    "    for j in range(n):\n",
    "        # Step-1, v1 = a1\n",
    "        v = get_matrix_column(matrix, j)\n",
    "        # Skip the first column\n",
    "        if j > 0:\n",
    "            for i in range(j):\n",
    "                # Find the inner product\n",
    "                r[i][j] = inner_dot(get_matrix_column(q, i), get_matrix_column(matrix, j))\n",
    "                n_add = n_add + m - 1\n",
    "                n_mul = n_mul + m\n",
    "                # Subtract the projection from v which causes v to become perpendicular to all columns of Q\n",
    "                v = [x_i - y_i for x_i, y_i in zip(v, [r[i][j] * x for x in get_matrix_column(q, i)])]\n",
    "                n_mul = n_mul + m\n",
    "                n_add = n_add + m - 1\n",
    "        # Find the L2 norm of the jth diagonal of R\n",
    "        r[j][j] = sqrt(sum([x**2 for x in v]))\n",
    "        n_mul = n_mul + m + 1\n",
    "        n_add = n_add + m - 1\n",
    "        # The orthogonalized result is found and stored in the ith column of Q.\n",
    "        q = set_matrix_column(q, n, j, [x / r[j][j] for x in v])\n",
    "        n_div = n_div + m\n",
    "    return (q, r, n_add, n_mul, n_div)"
   ]
  },
  {
   "cell_type": "code",
   "execution_count": 233,
   "id": "9156a381",
   "metadata": {},
   "outputs": [],
   "source": [
    "def get_matrix_multiplication(mat1, mat2):\n",
    "    result = [[sum(a * b for a, b in zip(mat1_row, mat2_col)) for mat2_col in zip(*mat2)] for mat1_row in mat1]\n",
    "    return result"
   ]
  },
  {
   "cell_type": "code",
   "execution_count": 235,
   "id": "5b819ed1",
   "metadata": {},
   "outputs": [],
   "source": [
    "def get_matrix_subtraction(mat1, mat2):\n",
    "    result = [[mat1[m][n] - mat2[m][n] for n in range(len(mat1[0]))] for m in range(len(mat1))]\n",
    "    return result"
   ]
  },
  {
   "cell_type": "code",
   "execution_count": 240,
   "id": "b2408aeb",
   "metadata": {},
   "outputs": [],
   "source": [
    "def run_gram_schmidt_calc(m=7, n=5, max_itr=100):\n",
    "    itr = 1 # Iteration for if randomaly generated matrices are not linearly independent than stop at 100th Itr\n",
    "    while True and itr <= max_itr:\n",
    "        print(f\"\\nGram-Schmidt Calculation Iteration: {itr}\")\n",
    "        matrix = generate_matrix(m,n)\n",
    "        # Check if matrix has independent columns by checking full rank matrix\n",
    "        #matrix_ = [[0 for x in range(n)] for y in range(m)]\n",
    "        #for col_idx in range(n):\n",
    "        #    for row_idx in range(m):\n",
    "        #        matrix_[row_idx][col_idx] = matrix[col_idx][row_idx]\n",
    "        matrix_ = copy.deepcopy(matrix)\n",
    "        a_ = copy.deepcopy(matrix)\n",
    "        if is_full_rank_matrix(matrix_):\n",
    "            q, r, n_add, n_mul, n_div = gram_schmidt(matrix, m, n)\n",
    "            qr = get_matrix_multiplication(q, r)\n",
    "            a_minus_qr = get_matrix_subtraction(a_, qr)\n",
    "            f_norm_of_a_minus_qr = norm_frobenius(a_minus_qr)\n",
    "            print(f\"\\nQ: \\n{q}\\n\\nR: \\n{r}\")\n",
    "            print(f\"\\nNo. of Addition: {n_add}\\nNo. of Multiplication: {n_mul}\\nNo. of Division: {n_div}\")\n",
    "            print(f\"\\nFrobenius Norm of A - QR: {f_norm_of_a_minus_qr}\")\n",
    "            break\n",
    "        else:\n",
    "            print(\"\\nGram-Schmidt is not applicable as generated Matrix does not have linearly independent columns.\")"
   ]
  },
  {
   "cell_type": "code",
   "execution_count": 241,
   "id": "759a24fb",
   "metadata": {},
   "outputs": [
    {
     "name": "stdout",
     "output_type": "stream",
     "text": [
      "\n",
      "Gram-Schmidt Calculation Iteration: 1\n",
      "\n",
      "Q: \n",
      "[[0.13074854983604806, 0.5210906745104166, -0.05021583636884551, 0.4744772191448685, 0.05486475659279684], [0.4463262232517822, -0.19746237185617072, 0.1473283903666262, 0.44979818419454315, 0.12242959599365119], [0.5017198949284944, 0.2536321741291284, -0.14299281275494488, 0.001274668957769994, -0.18662694997769733], [0.5070464131570142, -0.036367891603072085, 0.3409665640553965, -0.24898422433612696, 0.03388146738985324], [0.17889900388193053, 0.3940493421924767, 0.009324629861261093, -0.2102749474973663, 0.33110346180176825], [0, 0, 0, 0, 0], [0, 0, 0, 0, 0]]\n",
      "\n",
      "R: \n",
      "[[18.886633948112618, 9.505737191350658, 9.051172259685956, 8.990739743593588, 7.888032054271255], [0, 14.492177689043167, 0.22039014110326516, 5.283846078527052, 5.1642076560882195], [0, 0, 13.352777590480402, 0.4250786113566184, 1.6393124186731112], [0, 0, 0, 12.785137689914155, 2.5455020463147964], [0, 0, 0, 0, 12.872881477872372]]\n",
      "\n",
      "No. of Addition: 150\n",
      "No. of Multiplication: 180\n",
      "No. of Division: 35\n",
      "\n",
      "Frobenius Norm of A - QR: 23.440464131070442\n"
     ]
    }
   ],
   "source": [
    "run_gram_schmidt_calc()"
   ]
  },
  {
   "cell_type": "markdown",
   "id": "eb80ed17",
   "metadata": {},
   "source": [
    "# Q2) Gradient Descent Algorithm"
   ]
  },
  {
   "cell_type": "markdown",
   "id": "844fb53e",
   "metadata": {},
   "source": [
    "i) Consider the last 4 digits of your mobile number (Note : In case there is a 0 in one of the digits replace it by 3). Let it be n1n2n3n4. Generate a random matrix A of size n1n2 × n3n4. For example, if the last four digits are 2311, generate a random matrix of size 23 × 11. Write a code to calculate the l∞ norm of this matrix.\n",
    "\n",
    "                           Deliverable(s) : The code that generates the results. (0.5)\n",
    "                           \n",
    "-----------------------------------------------------------------------------------------------------------------------"
   ]
  },
  {
   "cell_type": "code",
   "execution_count": null,
   "id": "92fcb10b",
   "metadata": {},
   "outputs": [],
   "source": [
    "# Significant digit conversion\n",
    "def tidy(x, sig):\n",
    "    y = abs(x)\n",
    "    if y <= sys.float_info.min:\n",
    "        return 0.0000\n",
    "    return round(x, sig-int(floor(log10(y)))-1)"
   ]
  },
  {
   "cell_type": "code",
   "execution_count": null,
   "id": "42dc131d",
   "metadata": {},
   "outputs": [],
   "source": [
    "# Matrix generator of size m x n\n",
    "def generate_matrix(m, n, low_num=0.10000, up_num=9.9999, sig=5):\n",
    "    return [[tidy(random.uniform(low_num, up_num), sig) for i in range(n)] for j in range(m)]"
   ]
  },
  {
   "cell_type": "code",
   "execution_count": 242,
   "id": "b8154a98",
   "metadata": {},
   "outputs": [],
   "source": [
    "# Calculate infinity norm of matrix m\n",
    "def norm_infinity(m):\n",
    "    rowmax = 0\n",
    "    for r in range(len(m)):\n",
    "        temp = 0\n",
    "        for c in range(len(m[r])):\n",
    "            temp = temp + abs(m[r][c])\n",
    "        if temp > rowmax:\n",
    "            rowmax = temp\n",
    "    return rowmax"
   ]
  },
  {
   "cell_type": "code",
   "execution_count": 254,
   "id": "8d606b85",
   "metadata": {},
   "outputs": [],
   "source": [
    "def run_infinity_norm_calc(last_4_mob_no_digits=\"0029\"):\n",
    "    # Get Matrix Size m x n\n",
    "    last_4_digits = \"\"\n",
    "    for digit in last_4_mob_no_digits:\n",
    "        if digit == \"0\":\n",
    "            last_4_digits = last_4_digits + \"3\"\n",
    "        else:\n",
    "            last_4_digits = last_4_digits + digit\n",
    "    m, n = int(last_4_digits[:2]), int(last_4_digits[2:])\n",
    "    \n",
    "    # Generate Matrix\n",
    "    matrix = generate_matrix(m, n)\n",
    "    \n",
    "    # Calculate infinity norm\n",
    "    infi_norm = norm_infinity(matrix)\n",
    "    print(f\"\\nInfinity Norm: {infi_norm}\")"
   ]
  },
  {
   "cell_type": "code",
   "execution_count": 274,
   "id": "cc10029a",
   "metadata": {},
   "outputs": [
    {
     "name": "stdout",
     "output_type": "stream",
     "text": [
      "\n",
      "Infinity Norm: 180.37516999999997\n"
     ]
    }
   ],
   "source": [
    "run_infinity_norm_calc()"
   ]
  },
  {
   "cell_type": "markdown",
   "id": "dc4ad219",
   "metadata": {},
   "source": [
    "ii) Generate a random vector b of size n1n2 × 1 and consider the function f (x) = 1/2 ∥Ax − b∥^22 where ∥ · ∥2 is the vector ℓ2 norm. Its gradient is given to be ∇f (x) = A⊤Ax − A⊤b. Write a code to find the local minima of this function by using the gradient descent algorithm (by using the gradient expression given to you). The step size τ in the iteration xk+1 = xk − τ ∇f (xk) should be chosen by the formula τ = gTk gkgTk ATAgk where gk = ∇f (xk) = A⊤Axk − A⊤b. The algorithm should execute until ∥xk − xk−1∥2 < 10−4.\n",
    "\n",
    "               Deliverable(s) : The code that finds the minimum of the given function and the \n",
    "               expression for τ . The values of xk and f (xk) should be stored in a file. (1)\n",
    "               \n",
    "-----------------------------------------------------------------------------------------------------------------------"
   ]
  },
  {
   "cell_type": "code",
   "execution_count": null,
   "id": "b40aff38",
   "metadata": {},
   "outputs": [],
   "source": []
  },
  {
   "cell_type": "markdown",
   "id": "98f5cbda",
   "metadata": {},
   "source": [
    "iii) Generate the graph of f (xk) vs k where k is the iteration number and xk is the current estimate of x at iteration k. This graph should convey the decreasing nature of function values.\n",
    "\n",
    "                                Deliverable(s) : The graph that is generated. (0.5)\n",
    "                                \n",
    "-----------------------------------------------------------------------------------------------------------------------"
   ]
  },
  {
   "cell_type": "code",
   "execution_count": null,
   "id": "c964cad7",
   "metadata": {},
   "outputs": [],
   "source": []
  },
  {
   "cell_type": "markdown",
   "id": "aab3a9e4",
   "metadata": {},
   "source": [
    "# Q3) Critical Points of a function (3 marks)"
   ]
  },
  {
   "cell_type": "markdown",
   "id": "b8cf1c8a",
   "metadata": {},
   "source": [
    "i) Generate a third degree polynomial in x and y named g(x, y) that is based on your mobile number (Note : In case there is a 0 in one of the digits replace it by 3). Suppose your mobile number is 9412821233, then the polynomial would be g(x, y) = 9x3 − 4x2y + 1xy2 − 2y3 + 8x2 − 2xy + y2 − 2x + 3y − 3, where alternate positive and negative sign are used.\n",
    "\n",
    "                        Deliverable(s) : The polynomial constructed should be reported. (0.5)\n",
    "                        \n",
    "-----------------------------------------------------------------------------------------------------------------------"
   ]
  },
  {
   "cell_type": "code",
   "execution_count": 253,
   "id": "a935b62c",
   "metadata": {},
   "outputs": [],
   "source": [
    "def generate_polynomial(mobile_no=\"9999111111\"):\n",
    "    modified_mobile_no = \"\"\n",
    "    for digit in mobile_no:\n",
    "        if digit == \"0\":\n",
    "            modified_mobile_no = modified_mobile_no + \"3\"\n",
    "        else:\n",
    "            modified_mobile_no = modified_mobile_no + digit\n",
    "    polys = [\"*x**3\", \"*x**2*y\", \"*x*y**2\", \"*y**3\", \"*x**2\", \"*x*y\", \"*y**2\", \"*x\", \"*y\", \"\"]\n",
    "    g_of_x_y = \"\"\n",
    "    for digit_idx in range(len(modified_mobile_no)):\n",
    "        if digit_idx == 0:\n",
    "            g_of_x_y = modified_mobile_no[digit_idx] + polys[digit_idx]\n",
    "        else:\n",
    "            sign = \"+\" if digit_idx % 2 == 0 else \"-\"\n",
    "            g_of_x_y = \"{0} {1} {2}{3}\".format(g_of_x_y, sign, modified_mobile_no[digit_idx], polys[digit_idx])\n",
    "    return g_of_x_y"
   ]
  },
  {
   "cell_type": "code",
   "execution_count": 254,
   "id": "7348dc40",
   "metadata": {},
   "outputs": [
    {
     "data": {
      "text/plain": [
       "'9*x**3 - 9*x**2*y + 9*x*y**2 - 9*y**3 + 1*x**2 - 1*x*y + 1*y**2 - 1*x + 1*y - 1'"
      ]
     },
     "execution_count": 254,
     "metadata": {},
     "output_type": "execute_result"
    }
   ],
   "source": [
    "generate_polynomial()"
   ]
  },
  {
   "cell_type": "markdown",
   "id": "fdd4c2de",
   "metadata": {},
   "source": [
    "ii) Write a code to find all critical points of g(x, y). You may use built in functions like ’solve’ (or other similar functions) in Octave/Matlab to find the critical points .\n",
    "\n",
    "                       Deliverable(s) : The code that finds the critical points along with the \n",
    "                                  display of all the calculated critical points. (1)\n",
    "                                  \n",
    "-----------------------------------------------------------------------------------------------------------------------"
   ]
  },
  {
   "cell_type": "markdown",
   "id": "7eec1518",
   "metadata": {},
   "source": [
    "##### Not profiecient in Octave/Matlab so using python for this question and as mentioned can use in-built functions like 'solve', using sympy in python which is equivalent"
   ]
  },
  {
   "cell_type": "markdown",
   "id": "d0a263e0",
   "metadata": {},
   "source": [
    "##### Ref: https://www3.nd.edu/~nancy/Math20550/Matlab/Assignments/Optimization/optimization.html\n",
    "         https://people.duke.edu/~ccc14/sta-663-2016/homework/Homework05_Solutions.html"
   ]
  },
  {
   "cell_type": "code",
   "execution_count": 255,
   "id": "1134d81a",
   "metadata": {},
   "outputs": [],
   "source": [
    "from sympy import symbols, simplify, diff, solve, Eq, Matrix, det, Function, hessian"
   ]
  },
  {
   "cell_type": "code",
   "execution_count": 256,
   "id": "7a0cb4da",
   "metadata": {},
   "outputs": [],
   "source": [
    "def calculate_critical_points(f):\n",
    "    x, y = symbols('x y')\n",
    "    \n",
    "    v = Matrix([x, y])\n",
    "    f = Matrix([f])\n",
    "    gradf = simplify(f.jacobian(v))\n",
    "    hessianf = simplify(hessian(f, v))\n",
    "    crit = solve(gradf, v)\n",
    "    return crit, hessianf, v"
   ]
  },
  {
   "cell_type": "code",
   "execution_count": 257,
   "id": "c7e7127e",
   "metadata": {},
   "outputs": [],
   "source": [
    "def run_critical_points_calc():\n",
    "    f = symbols('f', cls=Function)\n",
    "    f = simplify(generate_polynomial(\"9999111111\"))\n",
    "    critical_points, hessianf, v = calculate_critical_points(f)\n",
    "    for point in critical_points:\n",
    "        print(f\"{point}\\n\")"
   ]
  },
  {
   "cell_type": "code",
   "execution_count": 258,
   "id": "1c5d7593",
   "metadata": {},
   "outputs": [
    {
     "name": "stdout",
     "output_type": "stream",
     "text": [
      "(-1/6, 1/6)\n",
      "\n",
      "(1/9, -1/9)\n",
      "\n",
      "(-47*sqrt(3)/180 - 108*(1/36 + 5*sqrt(3)/36)**2/25 - 23/900 + 1296*(1/36 + 5*sqrt(3)/36)**3/25, 1/36 + 5*sqrt(3)/36)\n",
      "\n",
      "(1296*(1/36 - 5*sqrt(3)/36)**3/25 - 108*(1/36 - 5*sqrt(3)/36)**2/25 - 23/900 + 47*sqrt(3)/180, 1/36 - 5*sqrt(3)/36)\n",
      "\n"
     ]
    }
   ],
   "source": [
    "run_critical_points_calc()"
   ]
  },
  {
   "cell_type": "markdown",
   "id": "b6ce6a54",
   "metadata": {},
   "source": [
    "iii) Write a code to determine whether they correspond to a maximum, minimum or a saddle point.\n",
    "\n",
    "                     Deliverable(s) : The code that identifies the type of critical points. The \n",
    "                     critical points and their type must be presented in the form of the table \n",
    "                              generated by code for the above polynomial. (1.5 marks)\n",
    "                              \n",
    "-----------------------------------------------------------------------------------------------------------------------"
   ]
  },
  {
   "cell_type": "code",
   "execution_count": 259,
   "id": "fc992d9d",
   "metadata": {},
   "outputs": [],
   "source": [
    "import scipy.linalg as la"
   ]
  },
  {
   "cell_type": "code",
   "execution_count": 277,
   "id": "9e0cb950",
   "metadata": {},
   "outputs": [],
   "source": [
    "def run_critical_points_characterization():\n",
    "    f = symbols('f', cls=Function)\n",
    "    f = simplify(generate_polynomial(\"9999111322\"))\n",
    "    \n",
    "    critical_points, hessianf, v = calculate_critical_points(f)\n",
    "    \n",
    "    for point in critical_points:\n",
    "        try:\n",
    "            h = np.array(hessianf.subs(dict(zip(v, point)))).astype('float')\n",
    "            l,v_ = la.eig(h)\n",
    "            if(np.all(np.greater(l,np.zeros(2)))):\n",
    "                print(f\"Function has minimum at point: {point}\\n\")\n",
    "            elif(np.all(np.less(l,np.zeros(2)))):\n",
    "                print(f\"Function has maximum at point: {point}\\n\")\n",
    "            else:\n",
    "                print(f\"Function has saddle at point: {point}\\n\")\n",
    "        except TypeError:\n",
    "            # Skip for the Imaginary points\n",
    "            pass"
   ]
  },
  {
   "cell_type": "code",
   "execution_count": 278,
   "id": "c57fcbff",
   "metadata": {},
   "outputs": [
    {
     "name": "stdout",
     "output_type": "stream",
     "text": [
      "Function has minimum at point: (1296*(1/36 - sqrt(86 - sqrt(3289))/36)**3/37 - 108*(1/36 - sqrt(86 - sqrt(3289))/36)**2/37 - 35/1332 + 95*sqrt(86 - sqrt(3289))/1332, 1/36 - sqrt(86 - sqrt(3289))/36)\n",
      "\n",
      "Function has saddle at point: (1296*(1/36 - sqrt(sqrt(3289) + 86)/36)**3/37 - 108*(1/36 - sqrt(sqrt(3289) + 86)/36)**2/37 - 35/1332 + 95*sqrt(sqrt(3289) + 86)/1332, 1/36 - sqrt(sqrt(3289) + 86)/36)\n",
      "\n",
      "Function has maximum at point: (-95*sqrt(86 - sqrt(3289))/1332 - 108*(1/36 + sqrt(86 - sqrt(3289))/36)**2/37 - 35/1332 + 1296*(1/36 + sqrt(86 - sqrt(3289))/36)**3/37, 1/36 + sqrt(86 - sqrt(3289))/36)\n",
      "\n",
      "Function has saddle at point: (-95*sqrt(sqrt(3289) + 86)/1332 - 108*(1/36 + sqrt(sqrt(3289) + 86)/36)**2/37 - 35/1332 + 1296*(1/36 + sqrt(sqrt(3289) + 86)/36)**3/37, 1/36 + sqrt(sqrt(3289) + 86)/36)\n",
      "\n"
     ]
    }
   ],
   "source": [
    "run_critical_points_characterization()"
   ]
  },
  {
   "cell_type": "code",
   "execution_count": null,
   "id": "ba188b16",
   "metadata": {},
   "outputs": [],
   "source": []
  }
 ],
 "metadata": {
  "kernelspec": {
   "display_name": "Python 3 (ipykernel)",
   "language": "python",
   "name": "python3"
  },
  "language_info": {
   "codemirror_mode": {
    "name": "ipython",
    "version": 3
   },
   "file_extension": ".py",
   "mimetype": "text/x-python",
   "name": "python",
   "nbconvert_exporter": "python",
   "pygments_lexer": "ipython3",
   "version": "3.9.7"
  }
 },
 "nbformat": 4,
 "nbformat_minor": 5
}
