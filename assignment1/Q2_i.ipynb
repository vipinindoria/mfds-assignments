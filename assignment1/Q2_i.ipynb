{
 "cells": [
  {
   "cell_type": "markdown",
   "id": "46ba8876",
   "metadata": {},
   "source": [
    "## Q2) Implementing Gauss Seidel and Gauss Jacobi Methods"
   ]
  },
  {
   "cell_type": "markdown",
   "id": "8edc6059",
   "metadata": {},
   "source": [
    "#### (i) Write a function to check whether a given square matrix is diagonally dominant or not. If not, the function should indicate if the matrix can be made diagonally dominant by interchanging the rows? Code to be written and submitted. (1)\n",
    "\n",
    "                                        Deliverable(s): The code\n"
   ]
  },
  {
   "cell_type": "code",
   "execution_count": 1,
   "id": "dbc6e641",
   "metadata": {},
   "outputs": [],
   "source": [
    "def is_diagonally_dominant(mat, size):\n",
    "    for row_idx in range(size):\n",
    "        row_sum = 0\n",
    "        [row_sum := row_sum + abs(elm) for elm in mat[row_idx]]\n",
    "        dia_val = abs(mat[row_idx][row_idx])\n",
    "        if (row_sum - dia_val) > dia_val:\n",
    "            return False\n",
    "    return True"
   ]
  },
  {
   "cell_type": "code",
   "execution_count": 2,
   "id": "fd7fec7a",
   "metadata": {},
   "outputs": [],
   "source": [
    "def is_diagonally_dominant_after_row_ops(mat, size):\n",
    "    max_row_vals, max_row_idxs, row_sums = [], [], []\n",
    "    for row_idx in range(size):\n",
    "        max_val, max_idx, row_sum = -1, -1, 0\n",
    "        for col_idx in range(size):\n",
    "            elm = abs(mat[row_idx][col_idx])\n",
    "            row_sum = row_sum + elm\n",
    "            if elm > max_val:\n",
    "                max_val, max_idx = elm, col_idx\n",
    "        max_row_vals.append(max_val)\n",
    "        max_row_idxs.append(max_idx)\n",
    "        row_sums.append(row_sum)\n",
    "    max_row_idxs.sort()\n",
    "    if all([True if max_row_vals[x] >= (row_sums[x] - max_row_vals[x]) else False for x in range(size)]) and\n",
    "       all([True if max_row_idxs[x] == x else False for x in range(size)]):\n",
    "        return True\n",
    "    else:\n",
    "        return False"
   ]
  },
  {
   "cell_type": "code",
   "execution_count": 3,
   "id": "1c59c9fc",
   "metadata": {},
   "outputs": [],
   "source": [
    "def diagonally_dominant_analysis(mat):\n",
    "    size = len(mat)\n",
    "    dd_status = is_diagonally_dominant(mat, size)\n",
    "    print(f\"Is matrix diagonally dominant?: {dd_status}\")\n",
    "    if not dd_status:\n",
    "        print(f\"Is matrix can be made diagonally dominant by interchanging the rows?:\n",
    "              {is_diagonally_dominant_after_row_ops(mat, size)}\")"
   ]
  },
  {
   "cell_type": "code",
   "execution_count": 4,
   "id": "16274683",
   "metadata": {},
   "outputs": [
    {
     "name": "stdout",
     "output_type": "stream",
     "text": [
      "Is matrix diagonally dominant?: False\n",
      "Is matrix can be made diagonally dominant by interchanging the rows?: True\n"
     ]
    }
   ],
   "source": [
    "# Test1\n",
    "m = [[ -8, 1, 45 ], [ 14, 9, 2 ], [ 3, 10, -4 ]]\n",
    "diagonally_dominant_analysis(m)"
   ]
  }
 ],
 "metadata": {
  "kernelspec": {
   "display_name": "Python 3",
   "language": "python",
   "name": "python3"
  },
  "language_info": {
   "codemirror_mode": {
    "name": "ipython",
    "version": 3
   },
   "file_extension": ".py",
   "mimetype": "text/x-python",
   "name": "python",
   "nbconvert_exporter": "python",
   "pygments_lexer": "ipython3",
   "version": "3.8.8"
  }
 },
 "nbformat": 4,
 "nbformat_minor": 5
}
