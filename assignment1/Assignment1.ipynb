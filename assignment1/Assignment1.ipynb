{
 "cells": [
  {
   "cell_type": "markdown",
   "id": "36494b51",
   "metadata": {},
   "source": [
    "# Q1) Implementing Gaussian Elimination Method"
   ]
  },
  {
   "cell_type": "markdown",
   "id": "48442382",
   "metadata": {},
   "source": [
    "(i) Find the approximate time your computer takes for a single addition by adding first $10^6$ positive integers\n",
    "    using a for loop and dividing the time taken by $10^6$. Similarly find the approximate time taken for a\n",
    "    single multiplication and division. Report the result obtained in the form of a table. (0.5)\n",
    "\n",
    "    Deliverable(s): A tabular column indicating the time taken for each of the operations\n",
    "------------------------------------------------------------------------------------------------------------------"
   ]
  },
  {
   "cell_type": "code",
   "execution_count": 74,
   "id": "2bdc46a3",
   "metadata": {},
   "outputs": [],
   "source": [
    "import time\n",
    "import sys\n",
    "from math import log10 , floor, sqrt\n",
    "import random"
   ]
  },
  {
   "cell_type": "code",
   "execution_count": 2,
   "id": "585fbc41",
   "metadata": {},
   "outputs": [
    {
     "name": "stdout",
     "output_type": "stream",
     "text": [
      "Total time taken during operation: 2.203381061553955e-07 Seconds.\n"
     ]
    }
   ],
   "source": [
    "# Addition Operation\n",
    "start_time = time.time()\n",
    "sum = 1\n",
    "for x in range(2, 10**6 + 1):\n",
    "    sum = sum + x\n",
    "print(f\"Total time taken during operation: {(time.time() - start_time)/10**6} Seconds.\")"
   ]
  },
  {
   "cell_type": "code",
   "execution_count": 3,
   "id": "cc833f37",
   "metadata": {},
   "outputs": [
    {
     "name": "stdout",
     "output_type": "stream",
     "text": [
      "Total time taken during operation: 0.0005711080033779145 Seconds.\n"
     ]
    }
   ],
   "source": [
    "# Multiplication Operation\n",
    "start_time = time.time()\n",
    "mul = 1\n",
    "for x in range(2, 10**6 + 1):\n",
    "    mul = mul * x\n",
    "print(f\"Total time taken during operation: {(time.time() - start_time)/10**6} Seconds.\")"
   ]
  },
  {
   "cell_type": "code",
   "execution_count": null,
   "id": "3b22bfc8",
   "metadata": {},
   "outputs": [],
   "source": [
    "# Division Operation\n",
    "start_time = time.time()\n",
    "div = 1\n",
    "for x in range(2, 10**6 + 1):\n",
    "    div = div / x\n",
    "print(f\"Total time taken during operation: {(time.time() - start_time)/10**6} Seconds.\")"
   ]
  },
  {
   "cell_type": "markdown",
   "id": "03736c87",
   "metadata": {},
   "source": [
    "(ii) Write a function to implement Gauss elimination with and without pivoting. Also write the code to count the number\n",
    "of additions, multiplications and divisions performed during Gaussian elimination. Ensure that the Gauss elimination \n",
    "performs 5S arithmetic which necessitates 5S arithmetic rounding for every addition, multiplication and division\n",
    "performed in the algorithm. If this is not implemented correctly, the rest of the answers will be considered invalid.\n",
    "Note that this is not same as simple 5 digit rounding at the end of the computation. Do not hardwire 5S arithmetic in\n",
    "the code and use dS instead. The code can then be run with various values of d. (0.5 + 0.5)\n",
    "\n",
    "    Deliverable(s): The code for the Gaussian elimination with and without partial pivoting with the rounding part\n",
    "-----------------------------------------------------------------------------------------------------------------------"
   ]
  },
  {
   "cell_type": "markdown",
   "id": "85897df8",
   "metadata": {},
   "source": [
    "Therefore the total number of operations to obtain the solution of a system of n linear equations in n variables using Gaussian Elimination is:\n",
    "\n",
    "TotalNumberofAdditions/SubtractionstoObtainSolution=$n(n−1)(2n+5)/6$\n",
    "\n",
    "TotalNumberofMultiplications/DivisinonstoObtainSolution=$n(n^2+3n−1)/3$"
   ]
  },
  {
   "cell_type": "markdown",
   "id": "4afc0790",
   "metadata": {},
   "source": [
    "In conclusion, solving Ax = b takes at most n(n + 1)/2 divisions, $(2n^3 + 3n^2 −5n)/6$ multiplications, and \n",
    "$(2n^3 + 3n^2 −5n)/6$ addition/subtractions.\n",
    "\n",
    "http://web.mit.edu/18.06/www/Fall15/Matrices.pdf"
   ]
  },
  {
   "cell_type": "code",
   "execution_count": 38,
   "id": "883fdfa6",
   "metadata": {},
   "outputs": [],
   "source": [
    "def gauss_elimination_without_pivoting(a, b, d):\n",
    "    '''\n",
    "    Gaussian elimination without pivoting.\n",
    "    param: a is an n x n matrix\n",
    "           b is an n x 1 vector\n",
    "           d is significant digit\n",
    "    return: x is the solution of Ax=b. \n",
    "    '''\n",
    "    n = len(a)\n",
    "    x = [0 for i in range(n)]\n",
    "    \n",
    "    # Apply forward elimination\n",
    "    for i in range(n-1):\n",
    "        # Check for leading element as non-zero\n",
    "        if a[i][i] == 0:\n",
    "            sys.exit(\"Triangle leading element zero detected, Division by Zero Error!\")\n",
    "        for j in range(i+1, n):\n",
    "            multiplier = a[j][i] / a[i][i]\n",
    "            # Apply row operation on matrix a\n",
    "            a[j][i] = 0\n",
    "            for col in range(i+1, n):\n",
    "                a[j][col] = a[j][col] - multiplier * a[i][col]\n",
    "            # Apply row operation on vector b\n",
    "            b[j] = b[j] - multiplier * b[i]\n",
    "    \n",
    "    # Calculate rank of a\n",
    "    rank = 0\n",
    "    zero_rows_idx = []\n",
    "    for r_idx in range(n):\n",
    "        if any(a[r_idx]):\n",
    "            rank = rank + 1\n",
    "        else:\n",
    "            zero_rows_idx.append(r_idx)\n",
    "\n",
    "    if rank == n:\n",
    "        # System has one unique solution\n",
    "        # Apply back substitution\n",
    "        x[n-1] = b[n-1] / a[n-1][n-1]\n",
    "        for i in range(n-2, -1, -1):\n",
    "            x[i] = b[i]\n",
    "            for j in range(i+1, n):\n",
    "                x[i] = x[i] - a[i][j]*x[j]\n",
    "            x[i] = x[i] / a[i][i]\n",
    "        return a, b, x\n",
    "    else:\n",
    "        # r < n, check if r+1, r+2, ... r+n rows in b has any non zero value\n",
    "        for z_idx in zero_rows_idx:\n",
    "            if b[z_idx] != 0:\n",
    "                sys.exit(\"Incosistent system, there is no solution!\")\n",
    "        sys.exit(\"Consistent system, there may be infinitly many solutions!\")"
   ]
  },
  {
   "cell_type": "code",
   "execution_count": 39,
   "id": "cbff4b6e",
   "metadata": {},
   "outputs": [
    {
     "name": "stdout",
     "output_type": "stream",
     "text": [
      "A: [[3.0, 2.0, -4.0], [0, 1.6666666666666667, 5.666666666666666], [0, 0, 29.2]]\n",
      "b: [3.0, 13.0, 58.400000000000006]\n",
      "x: [3.0000000000000013, 0.9999999999999996, 2.0000000000000004]\n"
     ]
    }
   ],
   "source": [
    "# Test1\n",
    "a = [[3.0,  2.0, -4.0],\n",
    "     [2.0,  3.0,  3.0],\n",
    "     [5.0, -3.0,  1.0]]\n",
    "b = [3.0, 15.0, 14.0]\n",
    "a, b, x = gauss_elimination_without_pivoting(a, b, 5)\n",
    "\n",
    "print(f\"A: {a}\\nb: {b}\\nx: {x}\")"
   ]
  },
  {
   "cell_type": "code",
   "execution_count": 40,
   "id": "ff58ffdf",
   "metadata": {},
   "outputs": [
    {
     "name": "stdout",
     "output_type": "stream",
     "text": [
      "A: [[1.0, 1.0, 1.0], [0, -5.0, 2.0], [0, 0, 2.4]]\n",
      "b: [9.0, -5.0, 12.0]\n",
      "x: [1.0, 3.0, 5.0]\n"
     ]
    }
   ],
   "source": [
    "# Test2\n",
    "a = [[1.0,  1.0, 1.0],\n",
    "     [2.0,  -3.0,  4.0],\n",
    "     [3.0, 4.0,  5.0]]\n",
    "b = [9.0, 13.0, 40.0]\n",
    "a, b, x = gauss_elimination_without_pivoting(a, b, 5)\n",
    "\n",
    "print(f\"A: {a}\\nb: {b}\\nx: {x}\")"
   ]
  },
  {
   "cell_type": "code",
   "execution_count": 41,
   "id": "a3423562",
   "metadata": {},
   "outputs": [
    {
     "name": "stdout",
     "output_type": "stream",
     "text": [
      "A: [[2.0, 1.0, -1.0], [0, 0.5, 0.5], [0, 0, -1.0]]\n",
      "b: [8.0, 1.0, 1.0]\n",
      "x: [2.0, 3.0, -1.0]\n"
     ]
    }
   ],
   "source": [
    "# Test3\n",
    "a = [[2.0,  1.0, -1.0],\n",
    "     [-3.0,  -1.0,  2.0],\n",
    "     [-2.0, 1.0,  2.0]]\n",
    "b = [8.0, -11.0, -3.0]\n",
    "a, b, x = gauss_elimination_without_pivoting(a, b, 5)\n",
    "\n",
    "print(f\"A: {a}\\nb: {b}\\nx: {x}\")"
   ]
  },
  {
   "cell_type": "code",
   "execution_count": 42,
   "id": "6ad327df",
   "metadata": {},
   "outputs": [
    {
     "ename": "SystemExit",
     "evalue": "Incosistent system, there is no solution!",
     "output_type": "error",
     "traceback": [
      "An exception has occurred, use %tb to see the full traceback.\n",
      "\u001b[1;31mSystemExit\u001b[0m\u001b[1;31m:\u001b[0m Incosistent system, there is no solution!\n"
     ]
    }
   ],
   "source": [
    "# Test4 - No solution\n",
    "a = [[2.0,  3.0],\n",
    "     [2.0,  3.0]]\n",
    "b = [10.0, 12.0]\n",
    "a, b, x = gauss_elimination_without_pivoting(a, b, 5)\n",
    "\n",
    "print(f\"A: {a}\\nb: {b}\\nx: {x}\")"
   ]
  },
  {
   "cell_type": "code",
   "execution_count": 43,
   "id": "f2907bbc",
   "metadata": {},
   "outputs": [
    {
     "ename": "SystemExit",
     "evalue": "Consistent system, there may be infinitly many solutions!",
     "output_type": "error",
     "traceback": [
      "An exception has occurred, use %tb to see the full traceback.\n",
      "\u001b[1;31mSystemExit\u001b[0m\u001b[1;31m:\u001b[0m Consistent system, there may be infinitly many solutions!\n"
     ]
    }
   ],
   "source": [
    "# Test5 - Infinetly many solutions\n",
    "a = [[2.0,  3.0],\n",
    "     [2.0,  3.0]]\n",
    "b = [10.0, 10.0]\n",
    "a, b, x = gauss_elimination_without_pivoting(a, b, 5)\n",
    "\n",
    "print(f\"A: {a}\\nb: {b}\\nx: {x}\")"
   ]
  },
  {
   "cell_type": "code",
   "execution_count": 2,
   "id": "7e2e4894",
   "metadata": {},
   "outputs": [],
   "source": [
    "# With operation count & significant airthmatic\n",
    "def gauss_elimination_without_pivoting(a, b, d):\n",
    "    '''\n",
    "    Gaussian elimination without pivoting.\n",
    "    param: a is an n x n matrix\n",
    "           b is an n x 1 vector\n",
    "           d is significant digit\n",
    "    return: x is the solution of Ax=b.\n",
    "            row echelon form of a\n",
    "            row echelon form of b\n",
    "            addition, subtraction, multiply, divide operations count\n",
    "    '''\n",
    "    n = len(a)\n",
    "    x = [0 for i in range(n)]\n",
    "    add_ops_count, mul_ops_count, div_ops_count = 0, 0, 0\n",
    "    \n",
    "    # Significant digit conversion\n",
    "    def tidy(x, sig):\n",
    "        y = abs(x)\n",
    "        if y <= sys.float_info.min:\n",
    "            return 0.0000\n",
    "        return round(x, sig-int(floor(log10(y)))-1)\n",
    "    \n",
    "    # Apply forward elimination\n",
    "    for i in range(n-1):\n",
    "        # Check for leading element as non-zero\n",
    "        if a[i][i] == 0:\n",
    "            sys.exit(\"Triangle leading element zero detected, Division by Zero Error!\")\n",
    "        for j in range(i+1, n):\n",
    "            multiplier = tidy(a[j][i] / a[i][i], d)\n",
    "            div_ops_count = div_ops_count + 1\n",
    "            # Apply row operation on matrix a\n",
    "            a[j][i] = tidy(0, d)\n",
    "            for col in range(i+1, n):\n",
    "                a[j][col] = tidy(a[j][col] - tidy(multiplier * a[i][col], d), d)\n",
    "                add_ops_count = add_ops_count + 1\n",
    "                mul_ops_count = mul_ops_count + 1\n",
    "            # Apply row operation on vector b\n",
    "            b[j] = tidy(b[j] - tidy(multiplier * b[i], d), d)\n",
    "            add_ops_count = add_ops_count + 1\n",
    "            mul_ops_count = mul_ops_count + 1\n",
    "    \n",
    "    # Apply back substitution\n",
    "    # Calculate rank of a to check if unique solution is present\n",
    "    rank = 0\n",
    "    zero_rows_idx = []\n",
    "    for r_idx in range(n):\n",
    "        if any(a[r_idx]):\n",
    "            rank = rank + 1\n",
    "        else:\n",
    "            zero_rows_idx.append(r_idx)\n",
    "\n",
    "    if rank == n:\n",
    "        # System has one unique solution\n",
    "        x[n-1] = tidy(b[n-1] / a[n-1][n-1], d)\n",
    "        div_ops_count = div_ops_count + 1\n",
    "        for i in range(n-2, -1, -1):\n",
    "            x[i] = b[i]\n",
    "            for j in range(i+1, n):\n",
    "                x[i] = tidy(x[i] - tidy(a[i][j]*x[j], d), d)\n",
    "                add_ops_count = add_ops_count + 1\n",
    "                mul_ops_count = mul_ops_count + 1\n",
    "            x[i] = tidy(x[i] / a[i][i], d)\n",
    "            div_ops_count = div_ops_count + 1\n",
    "        return {\"ref_a\": a, \"ref_b\": b, \"solution\": x, \"add_ops_count\": add_ops_count, \n",
    "                \"mul_ops_count\": mul_ops_count, \"div_ops_count\": div_ops_count}\n",
    "    else:\n",
    "        # r < n, check if r+1, r+2, ... r+n rows in b has any non zero value\n",
    "        for z_idx in zero_rows_idx:\n",
    "            if b[z_idx] != 0:\n",
    "                sys.exit(\"Incosistent system, there is no solution!\")\n",
    "        sys.exit(\"Consistent system, there may be infinitly many solutions!\")"
   ]
  },
  {
   "cell_type": "code",
   "execution_count": 3,
   "id": "de3c1fdc",
   "metadata": {},
   "outputs": [
    {
     "name": "stdout",
     "output_type": "stream",
     "text": [
      "A: [[3.0, 2.0, -4.0], [0.0, 1.6667, 5.6667], [0.0, 0.0, 29.2]]\n",
      "b: [3.0, 13.0, 58.4]\n",
      "x: [2.9999, 1.0002, 2.0]\n",
      "No. of Addition Performed: 11\n",
      "No. of Multiplication Performed:: 11\n",
      "No. of Division Performed:: 6\n"
     ]
    }
   ],
   "source": [
    "# Test1\n",
    "a = [[3.0,  2.0, -4.0],\n",
    "     [2.0,  3.0,  3.0],\n",
    "     [5.0, -3.0,  1.0]]\n",
    "b = [3.0, 15.0, 14.0]\n",
    "res = gauss_elimination_without_pivoting(a, b, 5)\n",
    "\n",
    "print(f\"A: {res['ref_a']}\\nb: {res['ref_b']}\\nx: {res['solution']}\")\n",
    "print(f\"No. of Addition Performed: {res['add_ops_count']}\\nNo. of Multiplication Performed:: {res['mul_ops_count']}\\nNo. of Division Performed:: {res['div_ops_count']}\")"
   ]
  },
  {
   "cell_type": "code",
   "execution_count": 5,
   "id": "20c18fd0",
   "metadata": {},
   "outputs": [
    {
     "name": "stdout",
     "output_type": "stream",
     "text": [
      "A: [[1.0, 1.0, 1.0], [0.0, -5.0, 2.0], [0.0, 0.0, 2.4]]\n",
      "b: [9.0, -5.0, 12.0]\n",
      "x: [1.0, 3.0, 5.0]\n",
      "No. of Addition Performed: 11\n",
      "No. of Multiplication Performed:: 11\n",
      "No. of Division Performed:: 6\n"
     ]
    }
   ],
   "source": [
    "# Test2\n",
    "a = [[1.0,  1.0, 1.0],\n",
    "     [2.0,  -3.0,  4.0],\n",
    "     [3.0, 4.0,  5.0]]\n",
    "b = [9.0, 13.0, 40.0]\n",
    "res = gauss_elimination_without_pivoting(a, b, 5)\n",
    "\n",
    "print(f\"A: {res['ref_a']}\\nb: {res['ref_b']}\\nx: {res['solution']}\")\n",
    "print(f\"No. of Addition Performed: {res['add_ops_count']}\\nNo. of Multiplication Performed:: {res['mul_ops_count']}\\nNo. of Division Performed:: {res['div_ops_count']}\")"
   ]
  },
  {
   "cell_type": "code",
   "execution_count": 6,
   "id": "581a0cd0",
   "metadata": {},
   "outputs": [],
   "source": [
    "import sys, math\n",
    "\n",
    "def tidy(x, n):\n",
    "    \"\"\"Return 'x' rounded to 'n' significant digits.\"\"\"\n",
    "    y = abs(x)\n",
    "    if y <= sys.float_info.min:\n",
    "        return 0.0\n",
    "    return round(x, int(n - math.ceil(math.log10(y))))"
   ]
  },
  {
   "cell_type": "code",
   "execution_count": 7,
   "id": "c580d526",
   "metadata": {},
   "outputs": [
    {
     "data": {
      "text/plain": [
       "4.56e-06"
      ]
     },
     "execution_count": 7,
     "metadata": {},
     "output_type": "execute_result"
    }
   ],
   "source": [
    "tidy(0.00000456,5)"
   ]
  },
  {
   "cell_type": "code",
   "execution_count": 8,
   "id": "183c1d90",
   "metadata": {},
   "outputs": [
    {
     "name": "stdout",
     "output_type": "stream",
     "text": [
      "1000\n"
     ]
    }
   ],
   "source": [
    "from math import log10 , floor\n",
    "def round_it(x, sig):\n",
    "    return round(x, sig-int(floor(log10(abs(x))))-1)\n",
    "\n",
    "print(round_it(1324,1))"
   ]
  },
  {
   "cell_type": "markdown",
   "id": "78f3ce96",
   "metadata": {},
   "source": [
    "https://www.geeksforgeeks.org/gaussian-elimination/\n",
    "https://tbc-python.fossee.in/convert-notebook/Numerical_Methods_by_E._Balaguruswamy/chapter7.ipynb\n",
    "https://gist.github.com/jgcastro89/49090cc69a499a129413597433b9baab\n",
    "https://gist.github.com/num3ric/1357315"
   ]
  },
  {
   "cell_type": "code",
   "execution_count": 10,
   "id": "5547095f",
   "metadata": {},
   "outputs": [],
   "source": [
    "# With operation count & significant airthmatic & partial pivoting\n",
    "def gauss_elimination_with_pivoting(a, b, d):\n",
    "    '''\n",
    "    Gaussian elimination with partial pivoting.\n",
    "    param: a is an n x n matrix\n",
    "           b is an n x 1 vector\n",
    "           d is significant digit\n",
    "    return: x is the solution of Ax=b.\n",
    "            row echelon form of a\n",
    "            row echelon form of b\n",
    "            addition, subtraction, multiply, divide operations count\n",
    "    '''\n",
    "    n =  len(a)\n",
    "    x = [0 for i in range(n)]\n",
    "    add_ops_count, mul_ops_count, div_ops_count = 0, 0, 0\n",
    "    \n",
    "    # Significant digit conversion\n",
    "    def tidy(x, sig):\n",
    "        y = abs(x)\n",
    "        if y <= sys.float_info.min:\n",
    "            return 0.0000\n",
    "        return round(x, sig-int(floor(log10(y)))-1)\n",
    "    \n",
    "    # Apply forward elimination\n",
    "    for i in range(n):\n",
    "        max_idx = i\n",
    "        max_val = a[max_idx][i]\n",
    "        # Find the largest pivot element including i\n",
    "        for j in range(i+1, n):\n",
    "            if a[j][i] != 0.0 and abs(a[j][i]) > max_val:\n",
    "                max_val, max_idx = a[j][i], j\n",
    "\n",
    "        # Check if diagonal element is zero, which will cause divide by zero error\n",
    "        if a[i][max_idx] == 0:\n",
    "            if b[i] != 0:\n",
    "                sys.exit(\"Singular matrix, Inconsistent system - no solutions!\")\n",
    "            else:\n",
    "                sys.exit(\"Singular matrix, consistent system - may have infinitly many solutions!\")\n",
    "        \n",
    "        # Swap the current row with larger value row\n",
    "        if i != max_idx:\n",
    "            for z in range(n):\n",
    "                temp_a, temp_b = a[i][z], b[i]\n",
    "                a[i][z], b[i] = a[max_idx][z], b[max_idx]\n",
    "                a[max_idx][z], b[max_idx] = temp_a, temp_b\n",
    "        for row in range(i+1, n):\n",
    "            multiplier = tidy(a[row][i] / a[i][i], d)\n",
    "            div_ops_count = div_ops_count + 1\n",
    "            a[row][i] = tidy(0, d)\n",
    "            for col in range(i+1, n):\n",
    "                a[row][col] = tidy(a[row][col] - tidy(multiplier * a[i][col], d), d)\n",
    "                mul_ops_count = mul_ops_count + 1\n",
    "                add_ops_count = add_ops_count + 1\n",
    "            b[row] = tidy(b[row] - tidy(multiplier * b[i], d), d)\n",
    "            mul_ops_count = mul_ops_count + 1\n",
    "            add_ops_count = add_ops_count + 1\n",
    "            \n",
    "    # Apply back substitution\n",
    "    # Calculate rank of a to check if unique solution is present\n",
    "    rank = 0\n",
    "    zero_rows_idx = []\n",
    "    for r_idx in range(n):\n",
    "        if any(a[r_idx]):\n",
    "            rank = rank + 1\n",
    "        else:\n",
    "            zero_rows_idx.append(r_idx)\n",
    "\n",
    "    if rank == n:\n",
    "        # System has one unique solution\n",
    "        x[n-1] = tidy(b[n-1] / a[n-1][n-1], d)\n",
    "        div_ops_count = div_ops_count + 1\n",
    "        for i in range(n-2, -1, -1):\n",
    "            x[i] = b[i]\n",
    "            for j in range(i+1, n):\n",
    "                x[i] = tidy(x[i] - tidy(a[i][j]*x[j], d), d)\n",
    "                add_ops_count = add_ops_count + 1\n",
    "                mul_ops_count = mul_ops_count + 1\n",
    "            x[i] = tidy(x[i] / a[i][i], d)\n",
    "            div_ops_count = div_ops_count + 1\n",
    "        return {\"ref_a\": a, \"ref_b\": b, \"solution\": x, \"add_ops_count\": add_ops_count, \n",
    "                \"mul_ops_count\": mul_ops_count, \"div_ops_count\": div_ops_count}\n",
    "    else:\n",
    "        # r < n, check if r+1, r+2, ... r+n rows in b has any non zero value\n",
    "        for z_idx in zero_rows_idx:\n",
    "            if b[z_idx] != 0:\n",
    "                sys.exit(\"Incosistent system, there is no solution!\")\n",
    "        sys.exit(\"Consistent system, there may be infinitly many solutions!\")"
   ]
  },
  {
   "cell_type": "code",
   "execution_count": 11,
   "id": "575ee875",
   "metadata": {},
   "outputs": [
    {
     "name": "stdout",
     "output_type": "stream",
     "text": [
      "A: [[4.0, 2.0, 3.0], [0.0, -1.5, 0.25], [0.0, 0.0, -0.33333]]\n",
      "b: [4.0, -1.0, 3.3333]\n",
      "x: [9.0, -1.0, -10.0]\n",
      "No. of Addition Performed: 11\n",
      "No. of Multiplication Performed:: 11\n",
      "No. of Division Performed:: 6\n"
     ]
    }
   ],
   "source": [
    "# Test1\n",
    "a = [[2.0,  2.0, 1.0],\n",
    "     [4.0,  2.0, 3.0],\n",
    "     [1.0, -1.0, 1.0]]\n",
    "b = [6.0, 4.0, 0.0]\n",
    "res = gauss_elimination_with_pivoting(a, b, 5)\n",
    "\n",
    "print(f\"A: {res['ref_a']}\\nb: {res['ref_b']}\\nx: {res['solution']}\")\n",
    "print(f\"No. of Addition Performed: {res['add_ops_count']}\\nNo. of Multiplication Performed:: {res['mul_ops_count']}\\nNo. of Division Performed:: {res['div_ops_count']}\")"
   ]
  },
  {
   "cell_type": "markdown",
   "id": "8a660d37",
   "metadata": {},
   "source": [
    "(iii) Generate random matrices of size n ×n where n = 100, 200, . . . , 1000. Also generate a random b ∈ Rnfor each case. Each number must be of the form m.dddd (Example : 4.5444) which means it has 5 Significant digits in total. Perform Gaussian elimination with and without partial pivoting for each n value (10 cases) above. Report the number\n",
    "of additions, divisions and multiplications for each case in the form of a table. No need of the code and the matrices / vectors. (0.5 + 0.5)                                                                                                  \n",
    "Deliverable(s): Two tabular columns indicating the number of additions, multiplications and divisions for each value of n, for with and without pivoting\n",
    "\n",
    "-----------------------------------------------------------------------------------------------------------------------"
   ]
  },
  {
   "cell_type": "code",
   "execution_count": 82,
   "id": "c2c52eb3",
   "metadata": {},
   "outputs": [
    {
     "name": "stdout",
     "output_type": "stream",
     "text": [
      "\n",
      "Running the gauss elimination operations for matrix 'A' sized: 100x100 and 'b' sized: 100x1.\n",
      "Run the gauss elimination without pivoting - \n",
      "No. of Addition Performed: 0\n",
      "No. of Subtraction Performed: 338250\n",
      "No. of Multiplication Performed: 338250\n",
      "No. of Division Performed: 5050\n",
      "Run the gauss elimination with pivoting - \n",
      "No. of Addition Performed: 0\n",
      "No. of Subtraction Performed: 338250\n",
      "No. of Multiplication Performed: 338250\n",
      "No. of Division Performed: 5050\n",
      "\n",
      "Running the gauss elimination operations for matrix 'A' sized: 200x200 and 'b' sized: 200x1.\n",
      "Run the gauss elimination without pivoting - \n",
      "No. of Addition Performed: 0\n",
      "No. of Subtraction Performed: 2686500\n",
      "No. of Multiplication Performed: 2686500\n",
      "No. of Division Performed: 20100\n",
      "Run the gauss elimination with pivoting - \n",
      "No. of Addition Performed: 0\n",
      "No. of Subtraction Performed: 2686500\n",
      "No. of Multiplication Performed: 2686500\n",
      "No. of Division Performed: 20100\n",
      "\n",
      "Running the gauss elimination operations for matrix 'A' sized: 300x300 and 'b' sized: 300x1.\n",
      "Run the gauss elimination without pivoting - \n",
      "No. of Addition Performed: 0\n",
      "No. of Subtraction Performed: 9044750\n",
      "No. of Multiplication Performed: 9044750\n",
      "No. of Division Performed: 45150\n",
      "Run the gauss elimination with pivoting - \n",
      "No. of Addition Performed: 0\n",
      "No. of Subtraction Performed: 9044750\n",
      "No. of Multiplication Performed: 9044750\n",
      "No. of Division Performed: 45150\n",
      "\n",
      "Running the gauss elimination operations for matrix 'A' sized: 400x400 and 'b' sized: 400x1.\n",
      "Run the gauss elimination without pivoting - \n",
      "No. of Addition Performed: 0\n",
      "No. of Subtraction Performed: 21413000\n",
      "No. of Multiplication Performed: 21413000\n",
      "No. of Division Performed: 80200\n",
      "Run the gauss elimination with pivoting - \n",
      "No. of Addition Performed: 0\n",
      "No. of Subtraction Performed: 21413000\n",
      "No. of Multiplication Performed: 21413000\n",
      "No. of Division Performed: 80200\n",
      "\n",
      "Running the gauss elimination operations for matrix 'A' sized: 500x500 and 'b' sized: 500x1.\n",
      "Run the gauss elimination without pivoting - \n",
      "No. of Addition Performed: 0\n",
      "No. of Subtraction Performed: 41791250\n",
      "No. of Multiplication Performed: 41791250\n",
      "No. of Division Performed: 125250\n",
      "Run the gauss elimination with pivoting - \n",
      "No. of Addition Performed: 0\n",
      "No. of Subtraction Performed: 41791250\n",
      "No. of Multiplication Performed: 41791250\n",
      "No. of Division Performed: 125250\n",
      "\n",
      "Running the gauss elimination operations for matrix 'A' sized: 600x600 and 'b' sized: 600x1.\n",
      "Run the gauss elimination without pivoting - \n",
      "No. of Addition Performed: 0\n",
      "No. of Subtraction Performed: 72179500\n",
      "No. of Multiplication Performed: 72179500\n",
      "No. of Division Performed: 180300\n",
      "Run the gauss elimination with pivoting - \n",
      "No. of Addition Performed: 0\n",
      "No. of Subtraction Performed: 72179500\n",
      "No. of Multiplication Performed: 72179500\n",
      "No. of Division Performed: 180300\n",
      "\n",
      "Running the gauss elimination operations for matrix 'A' sized: 700x700 and 'b' sized: 700x1.\n",
      "Run the gauss elimination without pivoting - \n",
      "No. of Addition Performed: 0\n",
      "No. of Subtraction Performed: 114577750\n",
      "No. of Multiplication Performed: 114577750\n",
      "No. of Division Performed: 245350\n",
      "Run the gauss elimination with pivoting - \n",
      "No. of Addition Performed: 0\n",
      "No. of Subtraction Performed: 114577750\n",
      "No. of Multiplication Performed: 114577750\n",
      "No. of Division Performed: 245350\n",
      "\n",
      "Running the gauss elimination operations for matrix 'A' sized: 800x800 and 'b' sized: 800x1.\n",
      "Run the gauss elimination without pivoting - \n",
      "No. of Addition Performed: 0\n",
      "No. of Subtraction Performed: 170986000\n",
      "No. of Multiplication Performed: 170986000\n",
      "No. of Division Performed: 320400\n",
      "Run the gauss elimination with pivoting - \n",
      "No. of Addition Performed: 0\n",
      "No. of Subtraction Performed: 170986000\n",
      "No. of Multiplication Performed: 170986000\n",
      "No. of Division Performed: 320400\n",
      "\n",
      "Running the gauss elimination operations for matrix 'A' sized: 900x900 and 'b' sized: 900x1.\n",
      "Run the gauss elimination without pivoting - \n",
      "No. of Addition Performed: 0\n",
      "No. of Subtraction Performed: 243404250\n",
      "No. of Multiplication Performed: 243404250\n",
      "No. of Division Performed: 405450\n",
      "Run the gauss elimination with pivoting - \n",
      "No. of Addition Performed: 0\n",
      "No. of Subtraction Performed: 243404250\n",
      "No. of Multiplication Performed: 243404250\n",
      "No. of Division Performed: 405450\n",
      "\n",
      "Running the gauss elimination operations for matrix 'A' sized: 1000x1000 and 'b' sized: 1000x1.\n",
      "Run the gauss elimination without pivoting - \n"
     ]
    },
    {
     "ename": "SystemExit",
     "evalue": "Triangle leading element zero detected, Division by Zero Error!",
     "output_type": "error",
     "traceback": [
      "An exception has occurred, use %tb to see the full traceback.\n",
      "\u001b[1;31mSystemExit\u001b[0m\u001b[1;31m:\u001b[0m Triangle leading element zero detected, Division by Zero Error!\n"
     ]
    },
    {
     "name": "stderr",
     "output_type": "stream",
     "text": [
      "C:\\Users\\vipin\\anaconda3\\lib\\site-packages\\IPython\\core\\interactiveshell.py:3445: UserWarning: To exit: use 'exit', 'quit', or Ctrl-D.\n",
      "  warn(\"To exit: use 'exit', 'quit', or Ctrl-D.\", stacklevel=1)\n"
     ]
    }
   ],
   "source": [
    "# Significant digit conversion\n",
    "def tidy(x, sig):\n",
    "    y = abs(x)\n",
    "    if y <= sys.float_info.min:\n",
    "        return 0.0\n",
    "    return round(x, sig-int(floor(log10(y)))-1)\n",
    "\n",
    "for n in range(100, 1100, 100):\n",
    "    print(f\"\\nRunning the gauss elimination operations for matrix 'A' sized: {n}x{n} and 'b' sized: {n}x1.\")\n",
    "    a = [[tidy(random.uniform(0.10000, 9.9999), 5) for i in range(n)] for j in range(n)]\n",
    "    b = [tidy(random.uniform(0.10000, 9.9999), 5) for j in range(n)]\n",
    "    \n",
    "    print(\"Run the gauss elimination without pivoting - \")\n",
    "    genp_res = gauss_elimination_without_pivoting(a, b, 5)\n",
    "    print(f\"No. of Addition Performed: {genp_res['add_ops_count']}\\nNo. of Subtraction Performed: {genp_res['sub_ops_count']}\\nNo. of Multiplication Performed: {genp_res['mul_ops_count']}\\nNo. of Division Performed: {genp_res['div_ops_count']}\")\n",
    "    \n",
    "    print(\"Run the gauss elimination with pivoting - \")\n",
    "    gepp_res = gauss_elimination_with_pivoting(a, b, 5)\n",
    "    print(f\"No. of Addition Performed: {gepp_res['add_ops_count']}\\nNo. of Subtraction Performed: {gepp_res['sub_ops_count']}\\nNo. of Multiplication Performed: {gepp_res['mul_ops_count']}\\nNo. of Division Performed: {gepp_res['div_ops_count']}\")"
   ]
  },
  {
   "cell_type": "markdown",
   "id": "57083b51",
   "metadata": {},
   "source": [
    "(iv) Using the code determine the actual time taken for Gaussian elimination with and without partial pivoting for the 10 cases and compare this with the theoretical time. Present this data in a tabular form. Assuming T1(n) is the actual time calculated for an n ×n matrix, plot a graphs of log(T1(n)) vs log(n) (for the 10 cases) and fit a straight line to the observed curve and report the slope of the lines. Ensure that separate graphs are to be plotted for the method with and without partial pivoting. (0.5 + 1 + 1)\n",
    "\n",
    "-----------------------------------------------------------------------------------------------------------------------"
   ]
  },
  {
   "cell_type": "code",
   "execution_count": 12,
   "id": "b1c79229",
   "metadata": {},
   "outputs": [],
   "source": [
    "# TBI"
   ]
  },
  {
   "cell_type": "markdown",
   "id": "93f584d8",
   "metadata": {},
   "source": [
    "## Q2) Implementing Gauss Seidel and Gauss Jacobi Methods"
   ]
  },
  {
   "cell_type": "markdown",
   "id": "2764e55a",
   "metadata": {},
   "source": [
    "(i) Write a function to check whether a given square matrix is diagonally dominant or not. If not, the function should\n",
    "indicate if the matrix can be made diagonally dominant by interchanging the rows? Code to be written and submitted. (1)\n",
    "\n",
    "      Deliverable(s): The code\n",
    "      \n",
    "-----------------------------------------------------------------------------------------------------------------------"
   ]
  },
  {
   "cell_type": "code",
   "execution_count": 13,
   "id": "58a16d56",
   "metadata": {},
   "outputs": [],
   "source": [
    "def is_diagonally_dominant(mat, size):\n",
    "    for row_idx in range(size):\n",
    "        row_sum = 0\n",
    "        [row_sum := row_sum + abs(elm) for elm in mat[row_idx]]\n",
    "        dia_val = abs(mat[row_idx][row_idx])\n",
    "        if (row_sum - dia_val) > dia_val:\n",
    "            return False\n",
    "    return True"
   ]
  },
  {
   "cell_type": "code",
   "execution_count": 14,
   "id": "c221938a",
   "metadata": {},
   "outputs": [],
   "source": [
    "def is_diagonally_dominant_after_row_ops(mat, size):\n",
    "    max_row_vals, max_row_idxs, row_sums = [], [], []\n",
    "    for row_idx in range(size):\n",
    "        max_val, max_idx, row_sum = -1, -1, 0\n",
    "        for col_idx in range(size):\n",
    "            elm = abs(mat[row_idx][col_idx])\n",
    "            row_sum = row_sum + elm\n",
    "            if elm > max_val:\n",
    "                max_val, max_idx = elm, col_idx\n",
    "        max_row_vals.append(max_val)\n",
    "        max_row_idxs.append(max_idx)\n",
    "        row_sums.append(row_sum)\n",
    "    \n",
    "    #copy_max_row_idxs = [x for x in max_row_idxs]\n",
    "    max_row_idxs.sort()\n",
    "    if all([True if max_row_vals[x] >= (row_sums[x] - max_row_vals[x]) else False for x in range(size)]) and all([True if max_row_idxs[x] == x else False for x in range(size)]):\n",
    "        #rearrange_order = [x for x,y in sorted(enumerate(copy_max_row_idxs), key = lambda x: x[1])]\n",
    "        #for k in rearrange_order:\n",
    "            #print(mat[k])\n",
    "        return True\n",
    "    else:\n",
    "        return False"
   ]
  },
  {
   "cell_type": "code",
   "execution_count": 15,
   "id": "1f06a749",
   "metadata": {},
   "outputs": [],
   "source": [
    "def diagonally_dominant_analysis(mat):\n",
    "    size = len(mat)\n",
    "    \n",
    "    dd_status = is_diagonally_dominant(mat, size)\n",
    "    print(f\"Is matrix diagonally dominant?: {dd_status}\")\n",
    "    \n",
    "    if not dd_status:\n",
    "        print(f\"Is matrix can be made diagonally dominant by interchanging the rows?: {is_diagonally_dominant_after_row_ops(mat, size)}\")"
   ]
  },
  {
   "cell_type": "code",
   "execution_count": 16,
   "id": "22ed7f3c",
   "metadata": {},
   "outputs": [
    {
     "name": "stdout",
     "output_type": "stream",
     "text": [
      "Is matrix diagonally dominant?: True\n"
     ]
    }
   ],
   "source": [
    "# Test1\n",
    "m = [[ 3, -2, 1 ],\n",
    "    [ 0, -3, 3 ],\n",
    "    [ -1, 2, 4 ]]\n",
    "diagonally_dominant_analysis(m)"
   ]
  },
  {
   "cell_type": "code",
   "execution_count": 17,
   "id": "0e415ae9",
   "metadata": {},
   "outputs": [
    {
     "name": "stdout",
     "output_type": "stream",
     "text": [
      "Is matrix diagonally dominant?: False\n",
      "Is matrix can be made diagonally dominant by interchanging the rows?: True\n"
     ]
    }
   ],
   "source": [
    "# Test2\n",
    "m = [[ -8, 1, 45 ],\n",
    "    [ 14, 9, 2 ],\n",
    "    [ 3, 10, -4 ]]\n",
    "diagonally_dominant_analysis(m)"
   ]
  },
  {
   "cell_type": "markdown",
   "id": "0ad23d2c",
   "metadata": {},
   "source": [
    "(ii) Write a function to generate Gauss Seidel iteration for a given square matrix. The function should also return the\n",
    "values of 1, ∞ and Frobenius norms of the iteration matrix. Generate a random 4 ×4 matrix. Report the iteration matrix\n",
    "and its norm values returned by the function along with the input matrix. (1)\n",
    "\n",
    "          Deliverable(s): The input matrix, iteration matrix and the three norms obtained\n",
    "        \n",
    "-----------------------------------------------------------------------------------------------------------------------"
   ]
  },
  {
   "cell_type": "code",
   "execution_count": 60,
   "id": "1b7fb0c0",
   "metadata": {},
   "outputs": [],
   "source": [
    "def transpose_matrix(m):\n",
    "    return [[m[j][i] for j in range(len(m))] for i in range(len(m[0]))]"
   ]
  },
  {
   "cell_type": "code",
   "execution_count": 35,
   "id": "d3eab2ec",
   "metadata": {},
   "outputs": [],
   "source": [
    "def matrix_minor(m,i,j):\n",
    "    return [row[:j] + row[j+1:] for row in (m[:i]+m[i+1:])]"
   ]
  },
  {
   "cell_type": "code",
   "execution_count": 36,
   "id": "8fb4f3a3",
   "metadata": {},
   "outputs": [],
   "source": [
    "def matrix_deternminant(m):\n",
    "    # base case for 2x2 matrix\n",
    "    if len(m) == 2:\n",
    "        return m[0][0]*m[1][1]-m[0][1]*m[1][0]\n",
    "\n",
    "    determinant = 0\n",
    "    for c in range(len(m)):\n",
    "        determinant += ((-1)**c)*m[0][c]*matrix_deternminant(matrix_minor(m,0,c))\n",
    "    return determinant"
   ]
  },
  {
   "cell_type": "code",
   "execution_count": 83,
   "id": "45ee538f",
   "metadata": {},
   "outputs": [],
   "source": [
    "def matrix_inverse(m):\n",
    "    determinant = matrix_deternminant(m)\n",
    "    # special case for 2x2 matrix:\n",
    "    if len(m) == 2:\n",
    "        return [[m[1][1]/determinant, -1*m[0][1]/determinant],\n",
    "                [-1*m[1][0]/determinant, m[0][0]/determinant]]\n",
    "\n",
    "    # find matrix of cofactors\n",
    "    cofactors = []\n",
    "    for r in range(len(m)):\n",
    "        cofactor_row = []\n",
    "        for c in range(len(m)):\n",
    "            minor = matrix_minor(m,r,c)\n",
    "            cofactor_row.append(((-1)**(r+c)) * matrix_deternminant(minor))\n",
    "        cofactors.append(cofactor_row)\n",
    "    cofactors = transpose_matrix(cofactors)\n",
    "    for r in range(len(cofactors)):\n",
    "        for c in range(len(cofactors)):\n",
    "            cofactors[r][c] = cofactors[r][c]/determinant\n",
    "    return cofactors"
   ]
  },
  {
   "cell_type": "code",
   "execution_count": 61,
   "id": "9bfc2c6e",
   "metadata": {},
   "outputs": [
    {
     "name": "stdout",
     "output_type": "stream",
     "text": [
      "[[-6, -33, 10], [14, 25, -6], [-6, -7, 10]]\n",
      "[[-6, 14, -6], [-33, 25, -7], [10, -6, 10]]\n"
     ]
    },
    {
     "data": {
      "text/plain": [
       "[[-0.11538461538461539, 0.2692307692307692, -0.11538461538461539],\n",
       " [-0.6346153846153846, 0.4807692307692308, -0.1346153846153846],\n",
       " [0.19230769230769232, -0.11538461538461539, 0.19230769230769232]]"
      ]
     },
     "execution_count": 61,
     "metadata": {},
     "output_type": "execute_result"
    }
   ],
   "source": [
    "# Test1\n",
    "m = [[4, -2, 1], [5, 0, 3], [-1, 2, 6]]\n",
    "matrix_inverse(m)"
   ]
  },
  {
   "cell_type": "code",
   "execution_count": 66,
   "id": "29cbfd86",
   "metadata": {},
   "outputs": [],
   "source": [
    "def multiply_matrix(m1, m2):\n",
    "    return [[sum(a * b for a, b in zip(m1_row, m2_col)) for m2_col in zip(*m2)] for m1_row in m1]"
   ]
  },
  {
   "cell_type": "code",
   "execution_count": 69,
   "id": "19292373",
   "metadata": {},
   "outputs": [],
   "source": [
    "def norm_1(m):\n",
    "    colmax = 0\n",
    "    for c in range(len(m[0])):\n",
    "        temp = 0\n",
    "        for r in range(len(m)):\n",
    "            temp = temp + abs(m[r][c])\n",
    "        if temp > colmax:\n",
    "            colmax = temp\n",
    "    return colmax"
   ]
  },
  {
   "cell_type": "code",
   "execution_count": 71,
   "id": "13622fd8",
   "metadata": {},
   "outputs": [
    {
     "data": {
      "text/plain": [
       "8"
      ]
     },
     "execution_count": 71,
     "metadata": {},
     "output_type": "execute_result"
    }
   ],
   "source": [
    "#test1\n",
    "m = [[5, -4, 2], [-1, 2, 3], [-2, 1, 0]]\n",
    "norm_1(m)"
   ]
  },
  {
   "cell_type": "code",
   "execution_count": 72,
   "id": "680558e5",
   "metadata": {},
   "outputs": [],
   "source": [
    "def norm_infinity(m):\n",
    "    rowmax = 0\n",
    "    for r in range(len(m)):\n",
    "        temp = 0\n",
    "        for c in range(len(m[r])):\n",
    "            temp = temp + abs(m[r][c])\n",
    "        if temp > rowmax:\n",
    "            rowmax = temp\n",
    "    return rowmax"
   ]
  },
  {
   "cell_type": "code",
   "execution_count": 73,
   "id": "2bfd1dd2",
   "metadata": {},
   "outputs": [
    {
     "data": {
      "text/plain": [
       "11"
      ]
     },
     "execution_count": 73,
     "metadata": {},
     "output_type": "execute_result"
    }
   ],
   "source": [
    "#test1\n",
    "m = [[5, -4, 2], [-1, 2, 3], [-2, 1, 0]]\n",
    "norm_infinity(m)"
   ]
  },
  {
   "cell_type": "code",
   "execution_count": 75,
   "id": "c3431ae5",
   "metadata": {},
   "outputs": [],
   "source": [
    "def norm_frobenius(m):\n",
    "    sqr_sum = 0\n",
    "    for r in range(len(m)):\n",
    "        for c in range(len(m[r])):\n",
    "            elm = abs(m[r][c])\n",
    "            sqr_sum = sqr_sum + (elm ** 2)\n",
    "    return sqrt(sqr_sum)"
   ]
  },
  {
   "cell_type": "code",
   "execution_count": 76,
   "id": "a141341f",
   "metadata": {},
   "outputs": [
    {
     "data": {
      "text/plain": [
       "8.0"
      ]
     },
     "execution_count": 76,
     "metadata": {},
     "output_type": "execute_result"
    }
   ],
   "source": [
    "#test1\n",
    "m = [[5, -4, 2], [-1, 2, 3], [-2, 1, 0]]\n",
    "norm_frobenius(m)"
   ]
  },
  {
   "cell_type": "code",
   "execution_count": 12,
   "id": "75c78862",
   "metadata": {},
   "outputs": [],
   "source": [
    "def define_equations(a_row, b_row_val, x_col, row_idx, n):\n",
    "    '''\n",
    "    This method will generate the equation for each row.\n",
    "    input:\n",
    "          a_row: row in matrix a size 1 x n.\n",
    "          b_row_val: row value in matrix b.\n",
    "          x_col: vector x of size n x 1.\n",
    "    '''\n",
    "    rhs = 0\n",
    "    for i in range(0, n):\n",
    "        if i != row_idx:\n",
    "            rhs = rhs + a_row[i] * x_col[i]\n",
    "    x_col[row_idx] = (b_row_val - rhs) / a_row[row_idx]\n",
    "    return x_col"
   ]
  },
  {
   "cell_type": "code",
   "execution_count": 77,
   "id": "221cea5f",
   "metadata": {},
   "outputs": [],
   "source": [
    "def gauss_seidel_analysis(a, b, x, epsilon):\n",
    "    condition = True\n",
    "    n = len(a)\n",
    "    x_old = [i for i in x]\n",
    "    \n",
    "    i_add_l = [[a[i][j] if j <=i else 0 for j in range(n)] for i in range(n)]\n",
    "    u = [[0 if j<=i else a[i][j] for j in range(n)] for i in range(n)]\n",
    "    inverse_i_add_l = matrix_inverse(i_add_l)\n",
    "    iteration_matrix = multiply_matrix(inverse_i_add_l, u)\n",
    "    first_norm = norm_1(iteration_matrix)\n",
    "    infi_norm = norm_infinity(iteration_matrix)\n",
    "    frob_norm = norm_frobenius(iteration_matrix)\n",
    "    \n",
    "    while condition:\n",
    "        for i in range(n):\n",
    "            define_equations(a[i], b[i], x, i, n)\n",
    "        # Check for convergence\n",
    "        if all([False if abs(x_old[j] - x[j]) > epsilon else True for j in range(n)]):\n",
    "            condition = False\n",
    "        x_old = [j for j in x]\n",
    "    return x, first_norm, infi_norm, frob_norm"
   ]
  },
  {
   "cell_type": "code",
   "execution_count": 84,
   "id": "9b846200",
   "metadata": {},
   "outputs": [
    {
     "name": "stdout",
     "output_type": "stream",
     "text": [
      "([0.52, 0.992, 0.496], 0.7333333333333333, 0.75, 0.6032320356951286)\n"
     ]
    }
   ],
   "source": [
    "# Test1\n",
    "x = [0, 0, 0]                        \n",
    "a = [[4, 1, 2],[3, 5, 1],[1, 1, 3]]\n",
    "b = [4,7,3]\n",
    "print(gauss_seidel_analysis(a, b, x, 0.1))"
   ]
  },
  {
   "cell_type": "code",
   "execution_count": 85,
   "id": "31ecaf32",
   "metadata": {},
   "outputs": [
    {
     "name": "stdout",
     "output_type": "stream",
     "text": [
      "([0.8121827411167513, -0.6649746192893401], 0.3068181818181818, 0.1875, 0.22224553654099938)\n"
     ]
    }
   ],
   "source": [
    "# Test2\n",
    "x = [0, 0]                        \n",
    "a = [[16, 3],[7, -11]]\n",
    "b = [11, 13]\n",
    "print(gauss_seidel_analysis(a, b, x, 0))"
   ]
  },
  {
   "cell_type": "code",
   "execution_count": 86,
   "id": "70a9cce2",
   "metadata": {},
   "outputs": [
    {
     "name": "stdout",
     "output_type": "stream",
     "text": [
      "([2.2727272727272725, -0.5454545454545453], 0.7142857142857143, 0.5, 0.5439837932759934)\n"
     ]
    }
   ],
   "source": [
    "# Test3\n",
    "x = [0, 0]                        \n",
    "a = [[2, 1],[3, 7]]\n",
    "b = [4, 3]\n",
    "print(gauss_seidel_analysis(a, b, x, 0))"
   ]
  },
  {
   "cell_type": "code",
   "execution_count": 87,
   "id": "11bd4e65",
   "metadata": {},
   "outputs": [
    {
     "name": "stdout",
     "output_type": "stream",
     "text": [
      "([0.17857142857142855, 0.7321428571428572, -1.0535714285714286], 1.0380952380952382, 0.8, 0.7208516561008241)\n"
     ]
    }
   ],
   "source": [
    "# Test3\n",
    "x = [1, 1, 1]                        \n",
    "a = [[5,-1,3],[-3,9,1],[2,-1,-7]]\n",
    "b = [-3,5,7] \n",
    "print(gauss_seidel_analysis(a, b, x, 0))"
   ]
  },
  {
   "cell_type": "code",
   "execution_count": 89,
   "id": "61476fdc",
   "metadata": {},
   "outputs": [
    {
     "name": "stdout",
     "output_type": "stream",
     "text": [
      "Solution: [1.0, 2.0, -1.0, 1.0]\n",
      "Norm 1: 0.4568181818181818\n",
      "Norm Infinity: 0.3545454545454545\n",
      "Norm Frobenius: 0.3879849837609272\n",
      "\n"
     ]
    }
   ],
   "source": [
    "# Test4\n",
    "x = [0, 0, 0, 0]                        \n",
    "a = [[10, -1, 2, 0],\n",
    "     [-1, 11, -1, 3],\n",
    "     [2, -1, 10, -1],\n",
    "     [0, 3, -1, 8]]\n",
    "b = [6.0, 25.0, -11.0, 15.0]\n",
    "solution, norm1, norminfi, normfrob = gauss_seidel_analysis(a, b, x, 0)\n",
    "print(f\"Solution: {solution}\\nNorm 1: {norm1}\\nNorm Infinity: {norminfi}\\nNorm Frobenius: {normfrob}\\n\")"
   ]
  },
  {
   "cell_type": "markdown",
   "id": "f467110a",
   "metadata": {},
   "source": [
    "(iii) Repeat part (ii) for the Gauss Jacobi iteration. (1)\n",
    "            \n",
    "            Deliverable(s): The input matrix, iteration matrix and the three norms obtained\n",
    "            \n",
    "-----------------------------------------------------------------------------------------------------------------------"
   ]
  },
  {
   "cell_type": "code",
   "execution_count": null,
   "id": "b333e2de",
   "metadata": {},
   "outputs": [],
   "source": []
  }
 ],
 "metadata": {
  "kernelspec": {
   "display_name": "Python 3",
   "language": "python",
   "name": "python3"
  },
  "language_info": {
   "codemirror_mode": {
    "name": "ipython",
    "version": 3
   },
   "file_extension": ".py",
   "mimetype": "text/x-python",
   "name": "python",
   "nbconvert_exporter": "python",
   "pygments_lexer": "ipython3",
   "version": "3.8.8"
  }
 },
 "nbformat": 4,
 "nbformat_minor": 5
}
