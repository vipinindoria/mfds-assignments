{
 "cells": [
  {
   "cell_type": "markdown",
   "id": "36494b51",
   "metadata": {},
   "source": [
    "# Q1) Implementing Gaussian Elimination Method"
   ]
  },
  {
   "cell_type": "markdown",
   "id": "48442382",
   "metadata": {},
   "source": [
    "(i) Find the approximate time your computer takes for a single addition by adding first $10^6$ positive integers\n",
    "    using a for loop and dividing the time taken by $10^6$. Similarly find the approximate time taken for a\n",
    "    single multiplication and division. Report the result obtained in the form of a table. (0.5)\n",
    "\n",
    "    Deliverable(s): A tabular column indicating the time taken for each of the operations\n",
    "------------------------------------------------------------------------------------------------------------------"
   ]
  },
  {
   "cell_type": "code",
   "execution_count": 35,
   "id": "2bdc46a3",
   "metadata": {},
   "outputs": [],
   "source": [
    "import time\n",
    "import sys"
   ]
  },
  {
   "cell_type": "code",
   "execution_count": 2,
   "id": "585fbc41",
   "metadata": {},
   "outputs": [
    {
     "name": "stdout",
     "output_type": "stream",
     "text": [
      "Total time taken during operation: 2.203381061553955e-07 Seconds.\n"
     ]
    }
   ],
   "source": [
    "# Addition Operation\n",
    "start_time = time.time()\n",
    "sum = 1\n",
    "for x in range(2, 10**6 + 1):\n",
    "    sum = sum + x\n",
    "print(f\"Total time taken during operation: {(time.time() - start_time)/10**6} Seconds.\")"
   ]
  },
  {
   "cell_type": "code",
   "execution_count": 3,
   "id": "cc833f37",
   "metadata": {},
   "outputs": [
    {
     "name": "stdout",
     "output_type": "stream",
     "text": [
      "Total time taken during operation: 0.0005711080033779145 Seconds.\n"
     ]
    }
   ],
   "source": [
    "# Multiplication Operation\n",
    "start_time = time.time()\n",
    "mul = 1\n",
    "for x in range(2, 10**6 + 1):\n",
    "    mul = mul * x\n",
    "print(f\"Total time taken during operation: {(time.time() - start_time)/10**6} Seconds.\")"
   ]
  },
  {
   "cell_type": "code",
   "execution_count": null,
   "id": "3b22bfc8",
   "metadata": {},
   "outputs": [],
   "source": [
    "# Division Operation\n",
    "start_time = time.time()\n",
    "div = 1\n",
    "for x in range(2, 10**6 + 1):\n",
    "    div = div / x\n",
    "print(f\"Total time taken during operation: {(time.time() - start_time)/10**6} Seconds.\")"
   ]
  },
  {
   "cell_type": "markdown",
   "id": "03736c87",
   "metadata": {},
   "source": [
    "(ii) Write a function to implement Gauss elimination with and without pivoting. Also write the code to count the number\n",
    "of additions, multiplications and divisions performed during Gaussian elimination. Ensure that the Gauss elimination \n",
    "performs 5S arithmetic which necessitates 5S arithmetic rounding for every addition, multiplication and division\n",
    "performed in the algorithm. If this is not implemented correctly, the rest of the answers will be considered invalid.\n",
    "Note that this is not same as simple 5 digit rounding at the end of the computation. Do not hardwire 5S arithmetic in\n",
    "the code and use dS instead. The code can then be run with various values of d. (0.5 + 0.5)\n",
    "\n",
    "    Deliverable(s): The code for the Gaussian elimination with and without partial pivoting with the rounding part\n",
    "-----------------------------------------------------------------------------------------------------------------------"
   ]
  },
  {
   "cell_type": "code",
   "execution_count": 38,
   "id": "883fdfa6",
   "metadata": {},
   "outputs": [],
   "source": [
    "def gauss_elimination_without_pivoting(a, b, d):\n",
    "    '''\n",
    "    Gaussian elimination without pivoting.\n",
    "    param: a is an n x n matrix\n",
    "           b is an n x 1 vector\n",
    "           d is significant digit\n",
    "    return: x is the solution of Ax=b. \n",
    "    '''\n",
    "    n = len(a)\n",
    "    x = [i for i in range(n)]\n",
    "    \n",
    "    # Apply forward elimination\n",
    "    for i in range(n-1):\n",
    "        # Check for leading element as non-zero\n",
    "        if a[i][i] == 0:\n",
    "            sys.exit(\"Triangle leading element zero detected, Division by Zero Error!\")\n",
    "        for j in range(i+1, n):\n",
    "            multiplier = a[j][i] / a[i][i]\n",
    "            # Apply row operation on matrix a\n",
    "            a[j][i] = 0\n",
    "            for col in range(i+1, n):\n",
    "                a[j][col] = a[j][col] - multiplier * a[i][col]\n",
    "            # Apply row operation on vector b\n",
    "            b[j] = b[j] - multiplier * b[i]\n",
    "    \n",
    "    # Calculate rank of a\n",
    "    rank = 0\n",
    "    zero_rows_idx = []\n",
    "    for r_idx in range(n):\n",
    "        if any(a[r_idx]):\n",
    "            rank = rank + 1\n",
    "        else:\n",
    "            zero_rows_idx.append(r_idx)\n",
    "\n",
    "    if rank == n:\n",
    "        # System has one unique solution\n",
    "        # Apply back substitution\n",
    "        x[n-1] = b[n-1] / a[n-1][n-1]\n",
    "        for i in range(n-2, -1, -1):\n",
    "            x[i] = b[i]\n",
    "            for j in range(i+1, n):\n",
    "                x[i] = x[i] - a[i][j]*x[j]\n",
    "            x[i] = x[i] / a[i][i]\n",
    "        return a, b, x\n",
    "    else:\n",
    "        # r < n, check if r+1, r+2, ... r+n rows in b has any non zero value\n",
    "        for z_idx in zero_rows_idx:\n",
    "            if b[z_idx] != 0:\n",
    "                sys.exit(\"Incosistent system, there is no solution!\")\n",
    "        sys.exit(\"Consistent system, there may be infinitly many solutions!\")"
   ]
  },
  {
   "cell_type": "code",
   "execution_count": 39,
   "id": "cbff4b6e",
   "metadata": {},
   "outputs": [
    {
     "name": "stdout",
     "output_type": "stream",
     "text": [
      "A: [[3.0, 2.0, -4.0], [0, 1.6666666666666667, 5.666666666666666], [0, 0, 29.2]]\n",
      "b: [3.0, 13.0, 58.400000000000006]\n",
      "x: [3.0000000000000013, 0.9999999999999996, 2.0000000000000004]\n"
     ]
    }
   ],
   "source": [
    "# Test1\n",
    "a = [[3.0,  2.0, -4.0],\n",
    "     [2.0,  3.0,  3.0],\n",
    "     [5.0, -3.0,  1.0]]\n",
    "b = [3.0, 15.0, 14.0]\n",
    "a, b, x = gauss_elimination_without_pivoting(a, b, 5)\n",
    "\n",
    "print(f\"A: {a}\\nb: {b}\\nx: {x}\")"
   ]
  },
  {
   "cell_type": "code",
   "execution_count": 40,
   "id": "10002dc8",
   "metadata": {},
   "outputs": [
    {
     "name": "stdout",
     "output_type": "stream",
     "text": [
      "A: [[1.0, 1.0, 1.0], [0, -5.0, 2.0], [0, 0, 2.4]]\n",
      "b: [9.0, -5.0, 12.0]\n",
      "x: [1.0, 3.0, 5.0]\n"
     ]
    }
   ],
   "source": [
    "# Test2\n",
    "a = [[1.0,  1.0, 1.0],\n",
    "     [2.0,  -3.0,  4.0],\n",
    "     [3.0, 4.0,  5.0]]\n",
    "b = [9.0, 13.0, 40.0]\n",
    "a, b, x = gauss_elimination_without_pivoting(a, b, 5)\n",
    "\n",
    "print(f\"A: {a}\\nb: {b}\\nx: {x}\")"
   ]
  },
  {
   "cell_type": "code",
   "execution_count": 41,
   "id": "20b3ea85",
   "metadata": {},
   "outputs": [
    {
     "name": "stdout",
     "output_type": "stream",
     "text": [
      "A: [[2.0, 1.0, -1.0], [0, 0.5, 0.5], [0, 0, -1.0]]\n",
      "b: [8.0, 1.0, 1.0]\n",
      "x: [2.0, 3.0, -1.0]\n"
     ]
    }
   ],
   "source": [
    "# Test3\n",
    "a = [[2.0,  1.0, -1.0],\n",
    "     [-3.0,  -1.0,  2.0],\n",
    "     [-2.0, 1.0,  2.0]]\n",
    "b = [8.0, -11.0, -3.0]\n",
    "a, b, x = gauss_elimination_without_pivoting(a, b, 5)\n",
    "\n",
    "print(f\"A: {a}\\nb: {b}\\nx: {x}\")"
   ]
  },
  {
   "cell_type": "code",
   "execution_count": 42,
   "id": "7356ec22",
   "metadata": {},
   "outputs": [
    {
     "ename": "SystemExit",
     "evalue": "Incosistent system, there is no solution!",
     "output_type": "error",
     "traceback": [
      "An exception has occurred, use %tb to see the full traceback.\n",
      "\u001b[1;31mSystemExit\u001b[0m\u001b[1;31m:\u001b[0m Incosistent system, there is no solution!\n"
     ]
    }
   ],
   "source": [
    "# Test4 - No solution\n",
    "a = [[2.0,  3.0],\n",
    "     [2.0,  3.0]]\n",
    "b = [10.0, 12.0]\n",
    "a, b, x = gauss_elimination_without_pivoting(a, b, 5)\n",
    "\n",
    "print(f\"A: {a}\\nb: {b}\\nx: {x}\")"
   ]
  },
  {
   "cell_type": "code",
   "execution_count": 43,
   "id": "9eced074",
   "metadata": {},
   "outputs": [
    {
     "ename": "SystemExit",
     "evalue": "Consistent system, there may be infinitly many solutions!",
     "output_type": "error",
     "traceback": [
      "An exception has occurred, use %tb to see the full traceback.\n",
      "\u001b[1;31mSystemExit\u001b[0m\u001b[1;31m:\u001b[0m Consistent system, there may be infinitly many solutions!\n"
     ]
    }
   ],
   "source": [
    "# Test5 - Infinetly many solutions\n",
    "a = [[2.0,  3.0],\n",
    "     [2.0,  3.0]]\n",
    "b = [10.0, 10.0]\n",
    "a, b, x = gauss_elimination_without_pivoting(a, b, 5)\n",
    "\n",
    "print(f\"A: {a}\\nb: {b}\\nx: {x}\")"
   ]
  },
  {
   "cell_type": "code",
   "execution_count": null,
   "id": "40b74398",
   "metadata": {},
   "outputs": [],
   "source": []
  }
 ],
 "metadata": {
  "kernelspec": {
   "display_name": "Python 3",
   "language": "python",
   "name": "python3"
  },
  "language_info": {
   "codemirror_mode": {
    "name": "ipython",
    "version": 3
   },
   "file_extension": ".py",
   "mimetype": "text/x-python",
   "name": "python",
   "nbconvert_exporter": "python",
   "pygments_lexer": "ipython3",
   "version": "3.8.8"
  }
 },
 "nbformat": 4,
 "nbformat_minor": 5
}
