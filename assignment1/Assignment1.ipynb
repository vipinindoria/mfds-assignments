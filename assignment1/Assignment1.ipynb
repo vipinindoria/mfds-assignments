{
 "cells": [
  {
   "cell_type": "markdown",
   "id": "36494b51",
   "metadata": {},
   "source": [
    "# Q1) Implementing Gaussian Elimination Method"
   ]
  },
  {
   "cell_type": "markdown",
   "id": "48442382",
   "metadata": {},
   "source": [
    "(i) Find the approximate time your computer takes for a single addition by adding first $10^6$ positive integers\n",
    "    using a for loop and dividing the time taken by $10^6$. Similarly find the approximate time taken for a\n",
    "    single multiplication and division. Report the result obtained in the form of a table. (0.5)\n",
    "\n",
    "    Deliverable(s): A tabular column indicating the time taken for each of the operations\n",
    "------------------------------------------------------------------------------------------------------------------"
   ]
  },
  {
   "cell_type": "code",
   "execution_count": 1,
   "id": "2bdc46a3",
   "metadata": {},
   "outputs": [],
   "source": [
    "import time\n",
    "import sys\n",
    "from math import log10 , floor, sqrt\n",
    "import random"
   ]
  },
  {
   "cell_type": "code",
   "execution_count": null,
   "id": "585fbc41",
   "metadata": {},
   "outputs": [],
   "source": [
    "# Addition Operation\n",
    "start_time = time.time()\n",
    "sum = 1\n",
    "for x in range(2, 10**6 + 1):\n",
    "    sum = sum + x\n",
    "total_time = time.time() - start_time\n",
    "print(f\"Total time taken during all operations: {total_time} Seconds.\")\n",
    "print(f\"Time taken during sigle operation: {total_time/10**6} Seconds.\")"
   ]
  },
  {
   "cell_type": "code",
   "execution_count": null,
   "id": "cc833f37",
   "metadata": {},
   "outputs": [],
   "source": [
    "# Multiplication Operation\n",
    "start_time = time.time()\n",
    "mul = 1\n",
    "for x in range(2, 10**6 + 1):\n",
    "    mul = mul * x\n",
    "total_time = time.time() - start_time\n",
    "print(f\"Total time taken during all operations: {total_time} Seconds.\")\n",
    "print(f\"Time taken during sigle operation: {total_time/10**6} Seconds.\")"
   ]
  },
  {
   "cell_type": "code",
   "execution_count": null,
   "id": "3b22bfc8",
   "metadata": {},
   "outputs": [],
   "source": [
    "# Division Operation\n",
    "start_time = time.time()\n",
    "div = 1\n",
    "for x in range(2, 10**6 + 1):\n",
    "    div = div / x\n",
    "total_time = time.time() - start_time\n",
    "print(f\"Total time taken during all operations: {total_time} Seconds.\")\n",
    "print(f\"Time taken during sigle operation: {total_time/10**6} Seconds.\")"
   ]
  },
  {
   "cell_type": "markdown",
   "id": "03736c87",
   "metadata": {},
   "source": [
    "(ii) Write a function to implement Gauss elimination with and without pivoting. Also write the code to count the number\n",
    "of additions, multiplications and divisions performed during Gaussian elimination. Ensure that the Gauss elimination \n",
    "performs 5S arithmetic which necessitates 5S arithmetic rounding for every addition, multiplication and division\n",
    "performed in the algorithm. If this is not implemented correctly, the rest of the answers will be considered invalid.\n",
    "Note that this is not same as simple 5 digit rounding at the end of the computation. Do not hardwire 5S arithmetic in\n",
    "the code and use dS instead. The code can then be run with various values of d. (0.5 + 0.5)\n",
    "\n",
    "    Deliverable(s): The code for the Gaussian elimination with and without partial pivoting with the rounding part\n",
    "-----------------------------------------------------------------------------------------------------------------------"
   ]
  },
  {
   "cell_type": "markdown",
   "id": "85897df8",
   "metadata": {},
   "source": [
    "Therefore the total number of operations to obtain the solution of a system of n linear equations in n variables using Gaussian Elimination is:\n",
    "\n",
    "TotalNumberofAdditions/SubtractionstoObtainSolution=$n(n−1)(2n+5)/6$\n",
    "\n",
    "TotalNumberofMultiplications/DivisinonstoObtainSolution=$n(n^2+3n−1)/3$"
   ]
  },
  {
   "cell_type": "markdown",
   "id": "4afc0790",
   "metadata": {},
   "source": [
    "In conclusion, solving Ax = b takes at most n(n + 1)/2 divisions, $(2n^3 + 3n^2 −5n)/6$ multiplications, and \n",
    "$(2n^3 + 3n^2 −5n)/6$ addition/subtractions.\n",
    "\n",
    "http://web.mit.edu/18.06/www/Fall15/Matrices.pdf"
   ]
  },
  {
   "cell_type": "code",
   "execution_count": null,
   "id": "883fdfa6",
   "metadata": {},
   "outputs": [],
   "source": [
    "def gauss_elimination_without_pivoting(a, b, d):\n",
    "    '''\n",
    "    Gaussian elimination without pivoting.\n",
    "    param: a is an n x n matrix\n",
    "           b is an n x 1 vector\n",
    "           d is significant digit\n",
    "    return: x is the solution of Ax=b. \n",
    "    '''\n",
    "    n = len(a)\n",
    "    x = [0 for i in range(n)]\n",
    "    \n",
    "    # Apply forward elimination\n",
    "    for i in range(n-1):\n",
    "        # Check for leading element as non-zero\n",
    "        if a[i][i] == 0:\n",
    "            sys.exit(\"Triangle leading element zero detected, Division by Zero Error!\")\n",
    "        for j in range(i+1, n):\n",
    "            multiplier = a[j][i] / a[i][i]\n",
    "            # Apply row operation on matrix a\n",
    "            a[j][i] = 0\n",
    "            for col in range(i+1, n):\n",
    "                a[j][col] = a[j][col] - multiplier * a[i][col]\n",
    "            # Apply row operation on vector b\n",
    "            b[j] = b[j] - multiplier * b[i]\n",
    "    \n",
    "    # Calculate rank of a\n",
    "    rank = 0\n",
    "    zero_rows_idx = []\n",
    "    for r_idx in range(n):\n",
    "        if any(a[r_idx]):\n",
    "            rank = rank + 1\n",
    "        else:\n",
    "            zero_rows_idx.append(r_idx)\n",
    "\n",
    "    if rank == n:\n",
    "        # System has one unique solution\n",
    "        # Apply back substitution\n",
    "        x[n-1] = b[n-1] / a[n-1][n-1]\n",
    "        for i in range(n-2, -1, -1):\n",
    "            x[i] = b[i]\n",
    "            for j in range(i+1, n):\n",
    "                x[i] = x[i] - a[i][j]*x[j]\n",
    "            x[i] = x[i] / a[i][i]\n",
    "        return a, b, x\n",
    "    else:\n",
    "        # r < n, check if r+1, r+2, ... r+n rows in b has any non zero value\n",
    "        for z_idx in zero_rows_idx:\n",
    "            if b[z_idx] != 0:\n",
    "                sys.exit(\"Incosistent system, there is no solution!\")\n",
    "        sys.exit(\"Consistent system, there may be infinitly many solutions!\")"
   ]
  },
  {
   "cell_type": "code",
   "execution_count": null,
   "id": "cbff4b6e",
   "metadata": {},
   "outputs": [],
   "source": [
    "# Test1\n",
    "a = [[3.0,  2.0, -4.0],\n",
    "     [2.0,  3.0,  3.0],\n",
    "     [5.0, -3.0,  1.0]]\n",
    "b = [3.0, 15.0, 14.0]\n",
    "a, b, x = gauss_elimination_without_pivoting(a, b, 5)\n",
    "\n",
    "print(f\"A: {a}\\nb: {b}\\nx: {x}\")"
   ]
  },
  {
   "cell_type": "code",
   "execution_count": null,
   "id": "ff58ffdf",
   "metadata": {},
   "outputs": [],
   "source": [
    "# Test2\n",
    "a = [[1.0,  1.0, 1.0],\n",
    "     [2.0,  -3.0,  4.0],\n",
    "     [3.0, 4.0,  5.0]]\n",
    "b = [9.0, 13.0, 40.0]\n",
    "a, b, x = gauss_elimination_without_pivoting(a, b, 5)\n",
    "\n",
    "print(f\"A: {a}\\nb: {b}\\nx: {x}\")"
   ]
  },
  {
   "cell_type": "code",
   "execution_count": null,
   "id": "a3423562",
   "metadata": {},
   "outputs": [],
   "source": [
    "# Test3\n",
    "a = [[2.0,  1.0, -1.0],\n",
    "     [-3.0,  -1.0,  2.0],\n",
    "     [-2.0, 1.0,  2.0]]\n",
    "b = [8.0, -11.0, -3.0]\n",
    "a, b, x = gauss_elimination_without_pivoting(a, b, 5)\n",
    "\n",
    "print(f\"A: {a}\\nb: {b}\\nx: {x}\")"
   ]
  },
  {
   "cell_type": "code",
   "execution_count": null,
   "id": "6ad327df",
   "metadata": {},
   "outputs": [],
   "source": [
    "# Test4 - No solution\n",
    "a = [[2.0,  3.0],\n",
    "     [2.0,  3.0]]\n",
    "b = [10.0, 12.0]\n",
    "a, b, x = gauss_elimination_without_pivoting(a, b, 5)\n",
    "\n",
    "print(f\"A: {a}\\nb: {b}\\nx: {x}\")"
   ]
  },
  {
   "cell_type": "code",
   "execution_count": null,
   "id": "f2907bbc",
   "metadata": {},
   "outputs": [],
   "source": [
    "# Test5 - Infinetly many solutions\n",
    "a = [[2.0,  3.0],\n",
    "     [2.0,  3.0]]\n",
    "b = [10.0, 10.0]\n",
    "a, b, x = gauss_elimination_without_pivoting(a, b, 5)\n",
    "\n",
    "print(f\"A: {a}\\nb: {b}\\nx: {x}\")"
   ]
  },
  {
   "cell_type": "code",
   "execution_count": 369,
   "id": "7e2e4894",
   "metadata": {},
   "outputs": [],
   "source": [
    "# With operation count & significant airthmatic\n",
    "def gauss_elimination_without_pivoting(a, b, d):\n",
    "    '''\n",
    "    Gaussian elimination without pivoting.\n",
    "    param: a is an n x n matrix\n",
    "           b is an n x 1 vector\n",
    "           d is significant digit\n",
    "    return: x is the solution of Ax=b.\n",
    "            row echelon form of a\n",
    "            row echelon form of b\n",
    "            addition, subtraction, multiply, divide operations count\n",
    "    '''\n",
    "    n = len(a)\n",
    "    x = [0 for i in range(n)]\n",
    "    add_ops_count, mul_ops_count, div_ops_count = 0, 0, 0\n",
    "    \n",
    "    # Significant digit conversion\n",
    "    def tidy(x, sig):\n",
    "        y = abs(x)\n",
    "        if y <= sys.float_info.min:\n",
    "            return 0.0000\n",
    "        return round(x, sig-int(floor(log10(y)))-1)\n",
    "    \n",
    "    # Apply forward elimination\n",
    "    for i in range(n-1):\n",
    "        # Check for leading element as non-zero\n",
    "        if a[i][i] == 0:\n",
    "            sys.exit(\"Triangle leading element zero detected, Division by Zero Error!\")\n",
    "        for j in range(i+1, n):\n",
    "            multiplier = tidy(a[j][i] / a[i][i], d)\n",
    "            div_ops_count = div_ops_count + 1\n",
    "            # Apply row operation on matrix a\n",
    "            a[j][i] = tidy(0, d)\n",
    "            for col in range(i+1, n):\n",
    "                a[j][col] = tidy(a[j][col] - tidy(multiplier * a[i][col], d), d)\n",
    "                add_ops_count = add_ops_count + 1\n",
    "                mul_ops_count = mul_ops_count + 1\n",
    "            # Apply row operation on vector b\n",
    "            b[j] = tidy(b[j] - tidy(multiplier * b[i], d), d)\n",
    "            add_ops_count = add_ops_count + 1\n",
    "            mul_ops_count = mul_ops_count + 1\n",
    "    \n",
    "    # Apply back substitution\n",
    "    # Calculate rank of a to check if unique solution is present\n",
    "    rank = 0\n",
    "    zero_rows_idx = []\n",
    "    for r_idx in range(n):\n",
    "        if any(a[r_idx]):\n",
    "            rank = rank + 1\n",
    "        else:\n",
    "            zero_rows_idx.append(r_idx)\n",
    "\n",
    "    if rank == n:\n",
    "        # System has one unique solution\n",
    "        x[n-1] = tidy(b[n-1] / a[n-1][n-1], d)\n",
    "        div_ops_count = div_ops_count + 1\n",
    "        for i in range(n-2, -1, -1):\n",
    "            x[i] = b[i]\n",
    "            for j in range(i+1, n):\n",
    "                x[i] = tidy(x[i] - tidy(a[i][j]*x[j], d), d)\n",
    "                add_ops_count = add_ops_count + 1\n",
    "                mul_ops_count = mul_ops_count + 1\n",
    "            x[i] = tidy(x[i] / a[i][i], d)\n",
    "            div_ops_count = div_ops_count + 1\n",
    "        return {\"ref_a\": a, \"ref_b\": b, \"solution\": x, \"add_ops_count\": add_ops_count, \n",
    "                \"mul_ops_count\": mul_ops_count, \"div_ops_count\": div_ops_count}\n",
    "    else:\n",
    "        # r < n, check if r+1, r+2, ... r+n rows in b has any non zero value\n",
    "        for z_idx in zero_rows_idx:\n",
    "            if b[z_idx] != 0:\n",
    "                sys.exit(\"Incosistent system, there is no solution!\")\n",
    "        sys.exit(\"Consistent system, there may be infinitly many solutions!\")"
   ]
  },
  {
   "cell_type": "code",
   "execution_count": 370,
   "id": "de3c1fdc",
   "metadata": {},
   "outputs": [
    {
     "name": "stdout",
     "output_type": "stream",
     "text": [
      "A: [[3.0, 2.0, -4.0], [0.0, 1.6667, 5.6667], [0.0, 0.0, 29.2]]\n",
      "b: [3.0, 13.0, 58.4]\n",
      "x: [2.9999, 1.0002, 2.0]\n",
      "No. of Addition Performed: 11\n",
      "No. of Multiplication Performed:: 11\n",
      "No. of Division Performed:: 6\n"
     ]
    }
   ],
   "source": [
    "# Test1\n",
    "a = [[3.0,  2.0, -4.0],\n",
    "     [2.0,  3.0,  3.0],\n",
    "     [5.0, -3.0,  1.0]]\n",
    "b = [3.0, 15.0, 14.0]\n",
    "res = gauss_elimination_without_pivoting(a, b, 5)\n",
    "\n",
    "print(f\"A: {res['ref_a']}\\nb: {res['ref_b']}\\nx: {res['solution']}\")\n",
    "print(f\"No. of Addition Performed: {res['add_ops_count']}\\nNo. of Multiplication Performed:: {res['mul_ops_count']}\\nNo. of Division Performed:: {res['div_ops_count']}\")"
   ]
  },
  {
   "cell_type": "code",
   "execution_count": null,
   "id": "20c18fd0",
   "metadata": {},
   "outputs": [],
   "source": [
    "# Test2\n",
    "a = [[1.0,  1.0, 1.0],\n",
    "     [2.0,  -3.0,  4.0],\n",
    "     [3.0, 4.0,  5.0]]\n",
    "b = [9.0, 13.0, 40.0]\n",
    "res = gauss_elimination_without_pivoting(a, b, 5)\n",
    "\n",
    "print(f\"A: {res['ref_a']}\\nb: {res['ref_b']}\\nx: {res['solution']}\")\n",
    "print(f\"No. of Addition Performed: {res['add_ops_count']}\\nNo. of Multiplication Performed:: {res['mul_ops_count']}\\nNo. of Division Performed:: {res['div_ops_count']}\")"
   ]
  },
  {
   "cell_type": "code",
   "execution_count": null,
   "id": "581a0cd0",
   "metadata": {},
   "outputs": [],
   "source": [
    "import sys, math\n",
    "\n",
    "def tidy(x, n):\n",
    "    \"\"\"Return 'x' rounded to 'n' significant digits.\"\"\"\n",
    "    y = abs(x)\n",
    "    if y <= sys.float_info.min:\n",
    "        return 0.0\n",
    "    return round(x, int(n - math.ceil(math.log10(y))))"
   ]
  },
  {
   "cell_type": "code",
   "execution_count": null,
   "id": "c580d526",
   "metadata": {},
   "outputs": [],
   "source": [
    "tidy(0.00000456,5)"
   ]
  },
  {
   "cell_type": "code",
   "execution_count": null,
   "id": "183c1d90",
   "metadata": {},
   "outputs": [],
   "source": [
    "from math import log10 , floor\n",
    "def round_it(x, sig):\n",
    "    return round(x, sig-int(floor(log10(abs(x))))-1)\n",
    "\n",
    "print(round_it(1324,1))"
   ]
  },
  {
   "cell_type": "markdown",
   "id": "78f3ce96",
   "metadata": {},
   "source": [
    "https://www.geeksforgeeks.org/gaussian-elimination/\n",
    "https://tbc-python.fossee.in/convert-notebook/Numerical_Methods_by_E._Balaguruswamy/chapter7.ipynb\n",
    "https://gist.github.com/jgcastro89/49090cc69a499a129413597433b9baab\n",
    "https://gist.github.com/num3ric/1357315"
   ]
  },
  {
   "cell_type": "code",
   "execution_count": 3,
   "id": "5547095f",
   "metadata": {},
   "outputs": [],
   "source": [
    "# With operation count & significant airthmatic & partial pivoting\n",
    "def gauss_elimination_with_pivoting(a, b, d):\n",
    "    '''\n",
    "    Gaussian elimination with partial pivoting.\n",
    "    param: a is an n x n matrix\n",
    "           b is an n x 1 vector\n",
    "           d is significant digit\n",
    "    return: x is the solution of Ax=b.\n",
    "            row echelon form of a\n",
    "            row echelon form of b\n",
    "            addition, subtraction, multiply, divide operations count\n",
    "    '''\n",
    "    n =  len(a)\n",
    "    x = [0 for i in range(n)]\n",
    "    add_ops_count, mul_ops_count, div_ops_count = 0, 0, 0\n",
    "    \n",
    "    # Significant digit conversion\n",
    "    def tidy(x, sig):\n",
    "        y = abs(x)\n",
    "        if y <= sys.float_info.min:\n",
    "            return 0.0000\n",
    "        return round(x, sig-int(floor(log10(y)))-1)\n",
    "    \n",
    "    # Apply forward elimination\n",
    "    for i in range(n):\n",
    "        max_idx = i\n",
    "        max_val = a[max_idx][i]\n",
    "        # Find the largest pivot element including i\n",
    "        for j in range(i+1, n):\n",
    "            if a[j][i] != 0.0 and abs(a[j][i]) > max_val:\n",
    "                max_val, max_idx = a[j][i], j\n",
    "\n",
    "        # Check if diagonal element is zero, which will cause divide by zero error\n",
    "        if a[i][max_idx] == 0:\n",
    "            if b[i] != 0:\n",
    "                sys.exit(\"Singular matrix, Inconsistent system - no solutions!\")\n",
    "            else:\n",
    "                sys.exit(\"Singular matrix, consistent system - may have infinitly many solutions!\")\n",
    "        \n",
    "        # Swap the current row with larger value row\n",
    "        if i != max_idx:\n",
    "            for z in range(n):\n",
    "                temp_a, temp_b = a[i][z], b[i]\n",
    "                a[i][z], b[i] = a[max_idx][z], b[max_idx]\n",
    "                a[max_idx][z], b[max_idx] = temp_a, temp_b\n",
    "        for row in range(i+1, n):\n",
    "            multiplier = tidy(a[row][i] / a[i][i], d)\n",
    "            div_ops_count = div_ops_count + 1\n",
    "            a[row][i] = tidy(0, d)\n",
    "            for col in range(i+1, n):\n",
    "                a[row][col] = tidy(a[row][col] - tidy(multiplier * a[i][col], d), d)\n",
    "                mul_ops_count = mul_ops_count + 1\n",
    "                add_ops_count = add_ops_count + 1\n",
    "            b[row] = tidy(b[row] - tidy(multiplier * b[i], d), d)\n",
    "            mul_ops_count = mul_ops_count + 1\n",
    "            add_ops_count = add_ops_count + 1\n",
    "            \n",
    "    # Apply back substitution\n",
    "    # Calculate rank of a to check if unique solution is present\n",
    "    rank = 0\n",
    "    zero_rows_idx = []\n",
    "    for r_idx in range(n):\n",
    "        if any(a[r_idx]):\n",
    "            rank = rank + 1\n",
    "        else:\n",
    "            zero_rows_idx.append(r_idx)\n",
    "\n",
    "    if rank == n:\n",
    "        # System has one unique solution\n",
    "        x[n-1] = tidy(b[n-1] / a[n-1][n-1], d)\n",
    "        div_ops_count = div_ops_count + 1\n",
    "        for i in range(n-2, -1, -1):\n",
    "            x[i] = b[i]\n",
    "            for j in range(i+1, n):\n",
    "                x[i] = tidy(x[i] - tidy(a[i][j]*x[j], d), d)\n",
    "                add_ops_count = add_ops_count + 1\n",
    "                mul_ops_count = mul_ops_count + 1\n",
    "            x[i] = tidy(x[i] / a[i][i], d)\n",
    "            div_ops_count = div_ops_count + 1\n",
    "        return {\"ref_a\": a, \"ref_b\": b, \"solution\": x, \"add_ops_count\": add_ops_count, \n",
    "                \"mul_ops_count\": mul_ops_count, \"div_ops_count\": div_ops_count}\n",
    "    else:\n",
    "        # r < n, check if r+1, r+2, ... r+n rows in b has any non zero value\n",
    "        for z_idx in zero_rows_idx:\n",
    "            if b[z_idx] != 0:\n",
    "                sys.exit(\"Incosistent system, there is no solution!\")\n",
    "        sys.exit(\"Consistent system, there may be infinitly many solutions!\")"
   ]
  },
  {
   "cell_type": "code",
   "execution_count": null,
   "id": "575ee875",
   "metadata": {},
   "outputs": [],
   "source": [
    "# Test1\n",
    "a = [[2.0,  2.0, 1.0],\n",
    "     [4.0,  2.0, 3.0],\n",
    "     [1.0, -1.0, 1.0]]\n",
    "b = [6.0, 4.0, 0.0]\n",
    "res = gauss_elimination_with_pivoting(a, b, 5)\n",
    "\n",
    "print(f\"A: {res['ref_a']}\\nb: {res['ref_b']}\\nx: {res['solution']}\")\n",
    "print(f\"No. of Addition Performed: {res['add_ops_count']}\\nNo. of Multiplication Performed:: {res['mul_ops_count']}\\nNo. of Division Performed:: {res['div_ops_count']}\")"
   ]
  },
  {
   "cell_type": "markdown",
   "id": "8a660d37",
   "metadata": {},
   "source": [
    "(iii) Generate random matrices of size n ×n where n = 100, 200, . . . , 1000. Also generate a random b ∈ Rnfor each case. Each number must be of the form m.dddd (Example : 4.5444) which means it has 5 Significant digits in total. Perform Gaussian elimination with and without partial pivoting for each n value (10 cases) above. Report the number\n",
    "of additions, divisions and multiplications for each case in the form of a table. No need of the code and the matrices / vectors. (0.5 + 0.5)                                                                                                  \n",
    "Deliverable(s): Two tabular columns indicating the number of additions, multiplications and divisions for each value of n, for with and without pivoting\n",
    "\n",
    "-----------------------------------------------------------------------------------------------------------------------"
   ]
  },
  {
   "cell_type": "code",
   "execution_count": 5,
   "id": "c2c52eb3",
   "metadata": {
    "scrolled": true
   },
   "outputs": [
    {
     "name": "stdout",
     "output_type": "stream",
     "text": [
      "\n",
      "Running the gauss elimination operations for matrix 'A' sized: 100x100 and 'b' sized: 100x1.\n",
      "Run the gauss elimination without pivoting - \n",
      "No. of Addition Performed: 338250\n",
      "No. of Multiplication Performed: 338250\n",
      "No. of Division Performed: 5050\n",
      "Total Time Taken: 0.6662776470184326 Seconds.\n",
      "\n",
      "Run the gauss elimination with pivoting - \n",
      "No. of Addition Performed: 338250\n",
      "No. of Multiplication Performed: 338250\n",
      "No. of Division Performed: 5050\n",
      "Total Time Taken: 0.32370543479919434 Seconds.\n",
      "\n",
      "\n",
      "Running the gauss elimination operations for matrix 'A' sized: 200x200 and 'b' sized: 200x1.\n",
      "Run the gauss elimination without pivoting - \n",
      "No. of Addition Performed: 2686500\n",
      "No. of Multiplication Performed: 2686500\n",
      "No. of Division Performed: 20100\n",
      "Total Time Taken: 5.224640369415283 Seconds.\n",
      "\n",
      "Run the gauss elimination with pivoting - \n",
      "No. of Addition Performed: 2686500\n",
      "No. of Multiplication Performed: 2686500\n",
      "No. of Division Performed: 20100\n",
      "Total Time Taken: 2.4879987239837646 Seconds.\n",
      "\n",
      "\n",
      "Running the gauss elimination operations for matrix 'A' sized: 300x300 and 'b' sized: 300x1.\n",
      "Run the gauss elimination without pivoting - \n",
      "No. of Addition Performed: 9044750\n",
      "No. of Multiplication Performed: 9044750\n",
      "No. of Division Performed: 45150\n",
      "Total Time Taken: 17.82622456550598 Seconds.\n",
      "\n",
      "Run the gauss elimination with pivoting - \n",
      "No. of Addition Performed: 9044750\n",
      "No. of Multiplication Performed: 9044750\n",
      "No. of Division Performed: 45150\n",
      "Total Time Taken: 8.444027185440063 Seconds.\n",
      "\n",
      "\n",
      "Running the gauss elimination operations for matrix 'A' sized: 400x400 and 'b' sized: 400x1.\n",
      "Run the gauss elimination without pivoting - \n",
      "No. of Addition Performed: 21413000\n",
      "No. of Multiplication Performed: 21413000\n",
      "No. of Division Performed: 80200\n",
      "Total Time Taken: 40.76723766326904 Seconds.\n",
      "\n",
      "Run the gauss elimination with pivoting - \n",
      "No. of Addition Performed: 21413000\n",
      "No. of Multiplication Performed: 21413000\n",
      "No. of Division Performed: 80200\n",
      "Total Time Taken: 19.484541177749634 Seconds.\n",
      "\n",
      "\n",
      "Running the gauss elimination operations for matrix 'A' sized: 500x500 and 'b' sized: 500x1.\n",
      "Run the gauss elimination without pivoting - \n",
      "No. of Addition Performed: 41791250\n",
      "No. of Multiplication Performed: 41791250\n",
      "No. of Division Performed: 125250\n",
      "Total Time Taken: 79.69475626945496 Seconds.\n",
      "\n",
      "Run the gauss elimination with pivoting - \n",
      "No. of Addition Performed: 41791250\n",
      "No. of Multiplication Performed: 41791250\n",
      "No. of Division Performed: 125250\n",
      "Total Time Taken: 38.27357602119446 Seconds.\n",
      "\n",
      "\n",
      "Running the gauss elimination operations for matrix 'A' sized: 600x600 and 'b' sized: 600x1.\n",
      "Run the gauss elimination without pivoting - \n",
      "No. of Addition Performed: 72179500\n",
      "No. of Multiplication Performed: 72179500\n",
      "No. of Division Performed: 180300\n",
      "Total Time Taken: 138.15467023849487 Seconds.\n",
      "\n",
      "Run the gauss elimination with pivoting - \n",
      "No. of Addition Performed: 72179500\n",
      "No. of Multiplication Performed: 72179500\n",
      "No. of Division Performed: 180300\n",
      "Total Time Taken: 65.86753034591675 Seconds.\n",
      "\n",
      "\n",
      "Running the gauss elimination operations for matrix 'A' sized: 700x700 and 'b' sized: 700x1.\n",
      "Run the gauss elimination without pivoting - \n",
      "No. of Addition Performed: 114577750\n",
      "No. of Multiplication Performed: 114577750\n",
      "No. of Division Performed: 245350\n",
      "Total Time Taken: 224.89612245559692 Seconds.\n",
      "\n",
      "Run the gauss elimination with pivoting - \n",
      "No. of Addition Performed: 114577750\n",
      "No. of Multiplication Performed: 114577750\n",
      "No. of Division Performed: 245350\n",
      "Total Time Taken: 109.5280830860138 Seconds.\n",
      "\n",
      "\n",
      "Running the gauss elimination operations for matrix 'A' sized: 800x800 and 'b' sized: 800x1.\n",
      "Run the gauss elimination without pivoting - \n",
      "No. of Addition Performed: 170986000\n",
      "No. of Multiplication Performed: 170986000\n",
      "No. of Division Performed: 320400\n",
      "Total Time Taken: 334.6559376716614 Seconds.\n",
      "\n",
      "Run the gauss elimination with pivoting - \n",
      "No. of Addition Performed: 170986000\n",
      "No. of Multiplication Performed: 170986000\n",
      "No. of Division Performed: 320400\n",
      "Total Time Taken: 161.53958892822266 Seconds.\n",
      "\n",
      "\n",
      "Running the gauss elimination operations for matrix 'A' sized: 900x900 and 'b' sized: 900x1.\n",
      "Run the gauss elimination without pivoting - \n",
      "No. of Addition Performed: 243404250\n",
      "No. of Multiplication Performed: 243404250\n",
      "No. of Division Performed: 405450\n",
      "Total Time Taken: 480.84329986572266 Seconds.\n",
      "\n",
      "Run the gauss elimination with pivoting - \n",
      "No. of Addition Performed: 243404250\n",
      "No. of Multiplication Performed: 243404250\n",
      "No. of Division Performed: 405450\n",
      "Total Time Taken: 230.8746919631958 Seconds.\n",
      "\n",
      "\n",
      "Running the gauss elimination operations for matrix 'A' sized: 1000x1000 and 'b' sized: 1000x1.\n",
      "Run the gauss elimination without pivoting - \n",
      "No. of Addition Performed: 333832500\n",
      "No. of Multiplication Performed: 333832500\n",
      "No. of Division Performed: 500500\n",
      "Total Time Taken: 653.530483007431 Seconds.\n",
      "\n",
      "Run the gauss elimination with pivoting - \n",
      "No. of Addition Performed: 333832500\n",
      "No. of Multiplication Performed: 333832500\n",
      "No. of Division Performed: 500500\n",
      "Total Time Taken: 314.3245737552643 Seconds.\n",
      "\n"
     ]
    }
   ],
   "source": [
    "# Significant digit conversion\n",
    "def tidy(x, sig):\n",
    "    y = abs(x)\n",
    "    if y <= sys.float_info.min:\n",
    "        return 0.0\n",
    "    return round(x, sig-int(floor(log10(y)))-1)\n",
    "\n",
    "for n in range(100, 1100, 100):\n",
    "    print(f\"\\nRunning the gauss elimination operations for matrix 'A' sized: {n}x{n} and 'b' sized: {n}x1.\")\n",
    "    a = [[tidy(random.uniform(0.10000, 9.9999), 5) for i in range(n)] for j in range(n)]\n",
    "    b = [tidy(random.uniform(0.10000, 9.9999), 5) for j in range(n)]\n",
    "    \n",
    "    print(\"Run the gauss elimination without pivoting - \")\n",
    "    start_time = time.time()\n",
    "    genp_res = gauss_elimination_without_pivoting(a, b, 5)\n",
    "    total_time = time.time() - start_time\n",
    "    print(f\"No. of Addition Performed: {genp_res['add_ops_count']}\\nNo. of Multiplication Performed: {genp_res['mul_ops_count']}\\nNo. of Division Performed: {genp_res['div_ops_count']}\\nTotal Time Taken: {total_time} Seconds.\\n\")\n",
    "    \n",
    "    print(\"Run the gauss elimination with pivoting - \")\n",
    "    start_time = time.time()\n",
    "    gepp_res = gauss_elimination_with_pivoting(a, b, 5)\n",
    "    total_time = time.time() - start_time\n",
    "    print(f\"No. of Addition Performed: {gepp_res['add_ops_count']}\\nNo. of Multiplication Performed: {gepp_res['mul_ops_count']}\\nNo. of Division Performed: {gepp_res['div_ops_count']}\\nTotal Time Taken: {total_time} Seconds.\\n\")"
   ]
  },
  {
   "cell_type": "markdown",
   "id": "57083b51",
   "metadata": {},
   "source": [
    "(iv) Using the code determine the actual time taken for Gaussian elimination with and without partial pivoting for the 10 cases and compare this with the theoretical time. Present this data in a tabular form. Assuming T1(n) is the actual time calculated for an n ×n matrix, plot a graphs of log(T1(n)) vs log(n) (for the 10 cases) and fit a straight line to the observed curve and report the slope of the lines. Ensure that separate graphs are to be plotted for the method with and without partial pivoting. (0.5 + 1 + 1)\n",
    "\n",
    "-----------------------------------------------------------------------------------------------------------------------"
   ]
  },
  {
   "cell_type": "code",
   "execution_count": 52,
   "id": "310ff81c",
   "metadata": {},
   "outputs": [
    {
     "name": "stdout",
     "output_type": "stream",
     "text": [
      "Time taken during sigle operation: 1.0750150680541993e-13 Seconds.\n"
     ]
    }
   ],
   "source": [
    "# Addition Operation\n",
    "start_time = time.time()\n",
    "sum = 1\n",
    "for x in range(2, 10**6 + 1):\n",
    "    sum = sum + x\n",
    "avg_time_add = (time.time() - start_time) / 10**6\n",
    "print(f\"Time taken during sigle operation: {avg_time_add/10**6} Seconds.\")"
   ]
  },
  {
   "cell_type": "code",
   "execution_count": 53,
   "id": "061fd86e",
   "metadata": {},
   "outputs": [
    {
     "name": "stdout",
     "output_type": "stream",
     "text": [
      "Total time taken during all operations: 7.866168022155761e-08 Seconds.\n"
     ]
    }
   ],
   "source": [
    "# Multiplication Operation\n",
    "start_time = time.time()\n",
    "mul = 5\n",
    "for x in range(2, 10**6 + 1):\n",
    "    mul * x\n",
    "avg_time_mul = (time.time() - start_time) / 10**6\n",
    "print(f\"Total time taken during all operations: {avg_time_mul} Seconds.\")"
   ]
  },
  {
   "cell_type": "code",
   "execution_count": 54,
   "id": "de248f25",
   "metadata": {},
   "outputs": [
    {
     "name": "stdout",
     "output_type": "stream",
     "text": [
      "Total time taken during all operations: 7.834601402282714e-08 Seconds.\n"
     ]
    }
   ],
   "source": [
    "# Division Operation\n",
    "start_time = time.time()\n",
    "div = 5\n",
    "for x in range(2, 10**6 + 1):\n",
    "    div / x\n",
    "avg_time_div = (time.time() - start_time) / 10**6\n",
    "print(f\"Total time taken during all operations: {avg_time_div} Seconds.\")"
   ]
  },
  {
   "cell_type": "code",
   "execution_count": 55,
   "id": "d7133df0",
   "metadata": {},
   "outputs": [
    {
     "name": "stdout",
     "output_type": "stream",
     "text": [
      "Avg time taken during each operation: 8.816973368326823e-08 Seconds.\n"
     ]
    }
   ],
   "source": [
    "avg_time_each_operation = (avg_time_add + avg_time_mul + avg_time_div) / 3\n",
    "print(f\"Avg time taken during each operation: {avg_time_each_operation} Seconds.\")"
   ]
  },
  {
   "cell_type": "code",
   "execution_count": 56,
   "id": "1813ab86",
   "metadata": {},
   "outputs": [
    {
     "name": "stdout",
     "output_type": "stream",
     "text": [
      "[681550, 5393100, 18134650, 42906200, 83707750, 144539300, 229400850, 342292400, 487213950, 668165500]\n"
     ]
    }
   ],
   "source": [
    "additions = [338250, 2686500, 9044750, 21413000, 41791250, 72179500, 114577750, 170986000, 243404250, 333832500]\n",
    "multiplication = [338250, 2686500, 9044750, 21413000, 41791250, 72179500, 114577750, 170986000, 243404250, 333832500]\n",
    "divisions = [5050, 20100, 45150, 80200, 125250, 180300, 245350, 320400, 405450, 500500]\n",
    "\n",
    "total_opration = [additions[i] + multiplication[i] + divisions[i] for i in range(len(additions))]\n",
    "print(total_opration)"
   ]
  },
  {
   "cell_type": "code",
   "execution_count": 62,
   "id": "e1727245",
   "metadata": {},
   "outputs": [
    {
     "data": {
      "text/plain": [
       "[0.06009208199183146,\n",
       " 0.4755081907272339,\n",
       " 1.5989272609392802,\n",
       " 3.7830282273610436,\n",
       " 7.380490024725597,\n",
       " 12.743991587766011,\n",
       " 20.226211851215364,\n",
       " 30.17982974980672,\n",
       " 42.957524218273164,\n",
       " 58.91197419134776]"
      ]
     },
     "execution_count": 62,
     "metadata": {},
     "output_type": "execute_result"
    }
   ],
   "source": [
    "theoritical_time_taken = [total_opration[i] * avg_time_each_operation for i in range(len(total_opration))]\n",
    "theoritical_time_taken"
   ]
  },
  {
   "cell_type": "code",
   "execution_count": 65,
   "id": "ab9622c7",
   "metadata": {},
   "outputs": [
    {
     "data": {
      "text/plain": [
       "1.4883590766666666e-07"
      ]
     },
     "execution_count": 65,
     "metadata": {},
     "output_type": "execute_result"
    }
   ],
   "source": [
    "tm = ((1.5733 * (10**-7)) + (1.00057723 * (10**-7)) + (1.89120 * (10**-7))) / 3\n",
    "tm"
   ]
  },
  {
   "cell_type": "code",
   "execution_count": 66,
   "id": "75d64d30",
   "metadata": {},
   "outputs": [
    {
     "data": {
      "text/plain": [
       "[0.10143911287021666,\n",
       " 0.8026869336371,\n",
       " 2.6990870929673165,\n",
       " 6.385983221527533,\n",
       " 12.458718949984416,\n",
       " 21.51263790900463,\n",
       " 34.14308372925485,\n",
       " 50.945400041401726,\n",
       " 72.51493047611194,\n",
       " 99.44701866405215]"
      ]
     },
     "execution_count": 66,
     "metadata": {},
     "output_type": "execute_result"
    }
   ],
   "source": [
    "theoritical_time_taken = [total_opration[i] * tm for i in range(len(total_opration))]\n",
    "theoritical_time_taken"
   ]
  },
  {
   "cell_type": "code",
   "execution_count": 242,
   "id": "45395833",
   "metadata": {},
   "outputs": [],
   "source": [
    "import seaborn as sns\n",
    "import pandas as pd\n",
    "from scipy import stats\n",
    "import matplotlib.pyplot as plt"
   ]
  },
  {
   "cell_type": "code",
   "execution_count": 30,
   "id": "b1c79229",
   "metadata": {},
   "outputs": [],
   "source": [
    "n = [x for x in range(100, 1100, 100)]\n",
    "genptt = [0.6662776470184326, 5.224640369415283, 17.82622456550598, 40.76723766326904, 79.69475626945496, \n",
    "          138.15467023849487, 224.89612245559692, 334.6559376716614, 480.84329986572266, 653.530483007431]\n",
    "gepptt = [0.32370543479919434, 2.4879987239837646, 8.444027185440063, 19.484541177749634, 38.27357602119446,\\\n",
    "          65.86753034591675 , 109.5280830860138 , 161.53958892822266 , 230.8746919631958, 314.3245737552643]"
   ]
  },
  {
   "cell_type": "code",
   "execution_count": 42,
   "id": "288736ec",
   "metadata": {},
   "outputs": [],
   "source": [
    "# Significant digit conversion\n",
    "def tidy(x, sig):\n",
    "    y = abs(x)\n",
    "    if y <= sys.float_info.min:\n",
    "        return 0.0\n",
    "    return round(x, sig-int(floor(log10(y)))-1)"
   ]
  },
  {
   "cell_type": "code",
   "execution_count": 67,
   "id": "298ac1df",
   "metadata": {},
   "outputs": [
    {
     "name": "stdout",
     "output_type": "stream",
     "text": [
      "With Pivoting: 0.32371\tWithout Pivoting: 0.66628\tTheoritical: 0.10144\n",
      "With Pivoting: 2.488\tWithout Pivoting: 5.2246\tTheoritical: 0.80269\n",
      "With Pivoting: 8.444\tWithout Pivoting: 17.826\tTheoritical: 2.6991\n",
      "With Pivoting: 19.485\tWithout Pivoting: 40.767\tTheoritical: 6.386\n",
      "With Pivoting: 38.274\tWithout Pivoting: 79.695\tTheoritical: 12.459\n",
      "With Pivoting: 65.868\tWithout Pivoting: 138.15\tTheoritical: 21.513\n",
      "With Pivoting: 109.53\tWithout Pivoting: 224.9\tTheoritical: 34.143\n",
      "With Pivoting: 161.54\tWithout Pivoting: 334.66\tTheoritical: 50.945\n",
      "With Pivoting: 230.87\tWithout Pivoting: 480.84\tTheoritical: 72.515\n",
      "With Pivoting: 314.32\tWithout Pivoting: 653.53\tTheoritical: 99.447\n"
     ]
    }
   ],
   "source": [
    "for i in range(len(theoritical_time_taken)):\n",
    "    print(f\"With Pivoting: {tidy(gepptt[i], 5)}\\tWithout Pivoting: {tidy(genptt[i], 5)}\\tTheoritical: {tidy(theoritical_time_taken[i], 5)}\")"
   ]
  },
  {
   "cell_type": "code",
   "execution_count": 33,
   "id": "33e1cb9a",
   "metadata": {},
   "outputs": [
    {
     "name": "stdout",
     "output_type": "stream",
     "text": [
      "[2.0, 2.301, 2.4771, 2.6021, 2.699, 2.7782, 2.8451, 2.9031, 2.9542, 3.0]\n",
      "[-0.17634, 0.71805, 1.2511, 1.6103, 1.9014, 2.1404, 2.352, 2.5246, 2.682, 2.8153]\n",
      "[-0.48984, 0.39585, 0.92655, 1.2897, 1.5829, 1.8187, 2.0395, 2.2083, 2.3634, 2.4974]\n"
     ]
    }
   ],
   "source": [
    "log_n = [tidy(log10(tidy(elm, 5)), 5) for elm in n]\n",
    "log_genptt = [tidy(log10(tidy(elm, 5)), 5) for elm in genptt]\n",
    "log_gepptt = [tidy(log10(tidy(elm, 5)), 5) for elm in gepptt]\n",
    "print(log_n)\n",
    "print(log_genptt)\n",
    "print(log_gepptt)"
   ]
  },
  {
   "cell_type": "code",
   "execution_count": 34,
   "id": "3192c845",
   "metadata": {},
   "outputs": [],
   "source": [
    "genptt_dict = {'n': log_n, 'time': log_genptt}   \n",
    "genptt_df = pd.DataFrame(genptt_dict)\n",
    "\n",
    "gepptt_dict = {'n': log_n, 'time': log_gepptt}   \n",
    "gepptt_df = pd.DataFrame(gepptt_dict)"
   ]
  },
  {
   "cell_type": "code",
   "execution_count": 35,
   "id": "6fe6ead5",
   "metadata": {},
   "outputs": [
    {
     "data": {
      "text/html": [
       "<div>\n",
       "<style scoped>\n",
       "    .dataframe tbody tr th:only-of-type {\n",
       "        vertical-align: middle;\n",
       "    }\n",
       "\n",
       "    .dataframe tbody tr th {\n",
       "        vertical-align: top;\n",
       "    }\n",
       "\n",
       "    .dataframe thead th {\n",
       "        text-align: right;\n",
       "    }\n",
       "</style>\n",
       "<table border=\"1\" class=\"dataframe\">\n",
       "  <thead>\n",
       "    <tr style=\"text-align: right;\">\n",
       "      <th></th>\n",
       "      <th>n</th>\n",
       "      <th>time</th>\n",
       "    </tr>\n",
       "  </thead>\n",
       "  <tbody>\n",
       "    <tr>\n",
       "      <th>0</th>\n",
       "      <td>2.0000</td>\n",
       "      <td>-0.17634</td>\n",
       "    </tr>\n",
       "    <tr>\n",
       "      <th>1</th>\n",
       "      <td>2.3010</td>\n",
       "      <td>0.71805</td>\n",
       "    </tr>\n",
       "    <tr>\n",
       "      <th>2</th>\n",
       "      <td>2.4771</td>\n",
       "      <td>1.25110</td>\n",
       "    </tr>\n",
       "    <tr>\n",
       "      <th>3</th>\n",
       "      <td>2.6021</td>\n",
       "      <td>1.61030</td>\n",
       "    </tr>\n",
       "    <tr>\n",
       "      <th>4</th>\n",
       "      <td>2.6990</td>\n",
       "      <td>1.90140</td>\n",
       "    </tr>\n",
       "    <tr>\n",
       "      <th>5</th>\n",
       "      <td>2.7782</td>\n",
       "      <td>2.14040</td>\n",
       "    </tr>\n",
       "    <tr>\n",
       "      <th>6</th>\n",
       "      <td>2.8451</td>\n",
       "      <td>2.35200</td>\n",
       "    </tr>\n",
       "    <tr>\n",
       "      <th>7</th>\n",
       "      <td>2.9031</td>\n",
       "      <td>2.52460</td>\n",
       "    </tr>\n",
       "    <tr>\n",
       "      <th>8</th>\n",
       "      <td>2.9542</td>\n",
       "      <td>2.68200</td>\n",
       "    </tr>\n",
       "    <tr>\n",
       "      <th>9</th>\n",
       "      <td>3.0000</td>\n",
       "      <td>2.81530</td>\n",
       "    </tr>\n",
       "  </tbody>\n",
       "</table>\n",
       "</div>"
      ],
      "text/plain": [
       "        n     time\n",
       "0  2.0000 -0.17634\n",
       "1  2.3010  0.71805\n",
       "2  2.4771  1.25110\n",
       "3  2.6021  1.61030\n",
       "4  2.6990  1.90140\n",
       "5  2.7782  2.14040\n",
       "6  2.8451  2.35200\n",
       "7  2.9031  2.52460\n",
       "8  2.9542  2.68200\n",
       "9  3.0000  2.81530"
      ]
     },
     "execution_count": 35,
     "metadata": {},
     "output_type": "execute_result"
    }
   ],
   "source": [
    "genptt_df"
   ]
  },
  {
   "cell_type": "code",
   "execution_count": 36,
   "id": "d6320e1a",
   "metadata": {},
   "outputs": [
    {
     "data": {
      "text/html": [
       "<div>\n",
       "<style scoped>\n",
       "    .dataframe tbody tr th:only-of-type {\n",
       "        vertical-align: middle;\n",
       "    }\n",
       "\n",
       "    .dataframe tbody tr th {\n",
       "        vertical-align: top;\n",
       "    }\n",
       "\n",
       "    .dataframe thead th {\n",
       "        text-align: right;\n",
       "    }\n",
       "</style>\n",
       "<table border=\"1\" class=\"dataframe\">\n",
       "  <thead>\n",
       "    <tr style=\"text-align: right;\">\n",
       "      <th></th>\n",
       "      <th>n</th>\n",
       "      <th>time</th>\n",
       "    </tr>\n",
       "  </thead>\n",
       "  <tbody>\n",
       "    <tr>\n",
       "      <th>0</th>\n",
       "      <td>2.0000</td>\n",
       "      <td>-0.48984</td>\n",
       "    </tr>\n",
       "    <tr>\n",
       "      <th>1</th>\n",
       "      <td>2.3010</td>\n",
       "      <td>0.39585</td>\n",
       "    </tr>\n",
       "    <tr>\n",
       "      <th>2</th>\n",
       "      <td>2.4771</td>\n",
       "      <td>0.92655</td>\n",
       "    </tr>\n",
       "    <tr>\n",
       "      <th>3</th>\n",
       "      <td>2.6021</td>\n",
       "      <td>1.28970</td>\n",
       "    </tr>\n",
       "    <tr>\n",
       "      <th>4</th>\n",
       "      <td>2.6990</td>\n",
       "      <td>1.58290</td>\n",
       "    </tr>\n",
       "    <tr>\n",
       "      <th>5</th>\n",
       "      <td>2.7782</td>\n",
       "      <td>1.81870</td>\n",
       "    </tr>\n",
       "    <tr>\n",
       "      <th>6</th>\n",
       "      <td>2.8451</td>\n",
       "      <td>2.03950</td>\n",
       "    </tr>\n",
       "    <tr>\n",
       "      <th>7</th>\n",
       "      <td>2.9031</td>\n",
       "      <td>2.20830</td>\n",
       "    </tr>\n",
       "    <tr>\n",
       "      <th>8</th>\n",
       "      <td>2.9542</td>\n",
       "      <td>2.36340</td>\n",
       "    </tr>\n",
       "    <tr>\n",
       "      <th>9</th>\n",
       "      <td>3.0000</td>\n",
       "      <td>2.49740</td>\n",
       "    </tr>\n",
       "  </tbody>\n",
       "</table>\n",
       "</div>"
      ],
      "text/plain": [
       "        n     time\n",
       "0  2.0000 -0.48984\n",
       "1  2.3010  0.39585\n",
       "2  2.4771  0.92655\n",
       "3  2.6021  1.28970\n",
       "4  2.6990  1.58290\n",
       "5  2.7782  1.81870\n",
       "6  2.8451  2.03950\n",
       "7  2.9031  2.20830\n",
       "8  2.9542  2.36340\n",
       "9  3.0000  2.49740"
      ]
     },
     "execution_count": 36,
     "metadata": {},
     "output_type": "execute_result"
    }
   ],
   "source": [
    "gepptt_df"
   ]
  },
  {
   "cell_type": "code",
   "execution_count": 37,
   "id": "83e9c90b",
   "metadata": {},
   "outputs": [],
   "source": [
    "slope, intercept, r_value, p_value, std_err = stats.linregress(genptt_df['n'],genptt_df['time'])"
   ]
  },
  {
   "cell_type": "code",
   "execution_count": 38,
   "id": "f35eb8a1",
   "metadata": {},
   "outputs": [
    {
     "data": {
      "text/plain": [
       "(2.9937137210865745,\n",
       " -6.1693627689315225,\n",
       " 0.9999760731553208,\n",
       " 1.433861848089811e-18,\n",
       " 0.007322017810677298)"
      ]
     },
     "execution_count": 38,
     "metadata": {},
     "output_type": "execute_result"
    }
   ],
   "source": [
    "slope, intercept, r_value, p_value, std_err"
   ]
  },
  {
   "cell_type": "code",
   "execution_count": 108,
   "id": "602b5a3a",
   "metadata": {},
   "outputs": [
    {
     "data": {
      "image/png": "[encoded data removed]",
      "text/plain": [
       "<Figure size 1440x720 with 1 Axes>"
      ]
     },
     "metadata": {
      "needs_background": "light"
     },
     "output_type": "display_data"
    }
   ],
   "source": [
    "a4_dims = (20, 10)\n",
    "fig, ax = plt.subplots(figsize=a4_dims)\n",
    "\n",
    "fig1 = sns.lineplot(data=genptt_df, x=\"n\", y=\"time\", markers=True)\n",
    "for i in range(len(log_n)):\n",
    "    ax.text(log_n[i], log_genptt[i], f\"{log_n[i], log_genptt[i]}\")\n",
    "plt.plot(log_n, log_genptt, \"-o\")\n",
    "fig1.set(xlabel='log(n)', ylabel='log(T(n))')\n",
    "plt.title(\"Gauss-Elimination without Pivoting Computational Graph\")\n",
    "plt.savefig(\"genp_plot.png\", dpi=300, transparent=True)"
   ]
  },
  {
   "cell_type": "code",
   "execution_count": 40,
   "id": "bfd68ab6",
   "metadata": {},
   "outputs": [],
   "source": [
    "slope, intercept, r_value, p_value, std_err = stats.linregress(gepptt_df['n'],gepptt_df['time'])"
   ]
  },
  {
   "cell_type": "code",
   "execution_count": 41,
   "id": "e59bf79c",
   "metadata": {},
   "outputs": [
    {
     "data": {
      "text/plain": [
       "(2.9944732270952574,\n",
       " -6.490015001700463,\n",
       " 0.9999583142993189,\n",
       " 1.3210058953367246e-17,\n",
       " 0.009667130247447642)"
      ]
     },
     "execution_count": 41,
     "metadata": {},
     "output_type": "execute_result"
    }
   ],
   "source": [
    "slope, intercept, r_value, p_value, std_err"
   ]
  },
  {
   "cell_type": "code",
   "execution_count": 112,
   "id": "5a3a547b",
   "metadata": {},
   "outputs": [
    {
     "data": {
      "image/png": "[encoded data removed]",
      "text/plain": [
       "<Figure size 1440x720 with 1 Axes>"
      ]
     },
     "metadata": {
      "needs_background": "light"
     },
     "output_type": "display_data"
    }
   ],
   "source": [
    "a4_dims = (20, 10)\n",
    "fig, ax = plt.subplots(figsize=a4_dims)\n",
    "\n",
    "fig1 = sns.lineplot(data=gepptt_df, x=\"n\", y=\"time\", markers=True)\n",
    "for i in range(len(log_n)):\n",
    "    ax.text(log_n[i], log_gepptt[i], f\"{log_n[i], log_gepptt[i]}\")\n",
    "plt.plot(log_n, log_gepptt, \"-o\")\n",
    "fig1.set(xlabel='log(n)', ylabel='log(T(n))')\n",
    "plt.title(\"Gauss-Elimination with Pivoting Computational Graph\")\n",
    "plt.savefig(\"gepp_plot.png\", dpi=300, transparent=True)"
   ]
  },
  {
   "cell_type": "markdown",
   "id": "93f584d8",
   "metadata": {},
   "source": [
    "## Q2) Implementing Gauss Seidel and Gauss Jacobi Methods"
   ]
  },
  {
   "cell_type": "markdown",
   "id": "2764e55a",
   "metadata": {},
   "source": [
    "(i) Write a function to check whether a given square matrix is diagonally dominant or not. If not, the function should\n",
    "indicate if the matrix can be made diagonally dominant by interchanging the rows? Code to be written and submitted. (1)\n",
    "\n",
    "      Deliverable(s): The code\n",
    "      \n",
    "-----------------------------------------------------------------------------------------------------------------------"
   ]
  },
  {
   "cell_type": "code",
   "execution_count": 2,
   "id": "58a16d56",
   "metadata": {},
   "outputs": [],
   "source": [
    "def is_diagonally_dominant(mat, size):\n",
    "    for row_idx in range(size):\n",
    "        row_sum = 0\n",
    "        [row_sum := row_sum + abs(elm) for elm in mat[row_idx]]\n",
    "        dia_val = abs(mat[row_idx][row_idx])\n",
    "        if (row_sum - dia_val) > dia_val:\n",
    "            return False\n",
    "    return True"
   ]
  },
  {
   "cell_type": "code",
   "execution_count": 3,
   "id": "c221938a",
   "metadata": {},
   "outputs": [],
   "source": [
    "def is_diagonally_dominant_after_row_ops(mat, size):\n",
    "    max_row_vals, max_row_idxs, row_sums = [], [], []\n",
    "    for row_idx in range(size):\n",
    "        max_val, max_idx, row_sum = -1, -1, 0\n",
    "        for col_idx in range(size):\n",
    "            elm = abs(mat[row_idx][col_idx])\n",
    "            row_sum = row_sum + elm\n",
    "            if elm > max_val:\n",
    "                max_val, max_idx = elm, col_idx\n",
    "        max_row_vals.append(max_val)\n",
    "        max_row_idxs.append(max_idx)\n",
    "        row_sums.append(row_sum)\n",
    "    \n",
    "    #copy_max_row_idxs = [x for x in max_row_idxs]\n",
    "    max_row_idxs.sort()\n",
    "    if all([True if max_row_vals[x] >= (row_sums[x] - max_row_vals[x]) else False for x in range(size)]) and all([True if max_row_idxs[x] == x else False for x in range(size)]):\n",
    "        #rearrange_order = [x for x,y in sorted(enumerate(copy_max_row_idxs), key = lambda x: x[1])]\n",
    "        #for k in rearrange_order:\n",
    "            #print(mat[k])\n",
    "        return True\n",
    "    else:\n",
    "        return False"
   ]
  },
  {
   "cell_type": "code",
   "execution_count": 4,
   "id": "1f06a749",
   "metadata": {},
   "outputs": [],
   "source": [
    "def diagonally_dominant_analysis(mat):\n",
    "    size = len(mat)\n",
    "    \n",
    "    dd_status = is_diagonally_dominant(mat, size)\n",
    "    print(f\"Is matrix diagonally dominant?: {dd_status}\")\n",
    "    \n",
    "    if not dd_status:\n",
    "        print(f\"Is matrix can be made diagonally dominant by interchanging the rows?: {is_diagonally_dominant_after_row_ops(mat, size)}\")"
   ]
  },
  {
   "cell_type": "code",
   "execution_count": 5,
   "id": "22ed7f3c",
   "metadata": {},
   "outputs": [
    {
     "name": "stdout",
     "output_type": "stream",
     "text": [
      "Is matrix diagonally dominant?: True\n"
     ]
    }
   ],
   "source": [
    "# Test1\n",
    "m = [[ 3, -2, 1 ],\n",
    "    [ 0, -3, 3 ],\n",
    "    [ -1, 2, 4 ]]\n",
    "diagonally_dominant_analysis(m)"
   ]
  },
  {
   "cell_type": "code",
   "execution_count": 6,
   "id": "0e415ae9",
   "metadata": {},
   "outputs": [
    {
     "name": "stdout",
     "output_type": "stream",
     "text": [
      "Is matrix diagonally dominant?: False\n",
      "Is matrix can be made diagonally dominant by interchanging the rows?: True\n"
     ]
    }
   ],
   "source": [
    "# Test2\n",
    "m = [[ -8, 1, 45 ],\n",
    "    [ 14, 9, 2 ],\n",
    "    [ 3, 10, -4 ]]\n",
    "diagonally_dominant_analysis(m)"
   ]
  },
  {
   "cell_type": "markdown",
   "id": "0ad23d2c",
   "metadata": {},
   "source": [
    "(ii) Write a function to generate Gauss Seidel iteration for a given square matrix. The function should also return the\n",
    "values of 1, ∞ and Frobenius norms of the iteration matrix. Generate a random 4 ×4 matrix. Report the iteration matrix\n",
    "and its norm values returned by the function along with the input matrix. (1)\n",
    "\n",
    "          Deliverable(s): The input matrix, iteration matrix and the three norms obtained\n",
    "        \n",
    "-----------------------------------------------------------------------------------------------------------------------"
   ]
  },
  {
   "cell_type": "code",
   "execution_count": 7,
   "id": "1b7fb0c0",
   "metadata": {},
   "outputs": [],
   "source": [
    "def transpose_matrix(m):\n",
    "    return [[m[j][i] for j in range(len(m))] for i in range(len(m[0]))]"
   ]
  },
  {
   "cell_type": "code",
   "execution_count": 8,
   "id": "d3eab2ec",
   "metadata": {},
   "outputs": [],
   "source": [
    "def matrix_minor(m,i,j):\n",
    "    return [row[:j] + row[j+1:] for row in (m[:i]+m[i+1:])]"
   ]
  },
  {
   "cell_type": "code",
   "execution_count": 9,
   "id": "8fb4f3a3",
   "metadata": {},
   "outputs": [],
   "source": [
    "def matrix_deternminant(m):\n",
    "    # base case for 2x2 matrix\n",
    "    if len(m) == 2:\n",
    "        return m[0][0]*m[1][1]-m[0][1]*m[1][0]\n",
    "\n",
    "    determinant = 0\n",
    "    for c in range(len(m)):\n",
    "        determinant += ((-1)**c)*m[0][c]*matrix_deternminant(matrix_minor(m,0,c))\n",
    "    return determinant"
   ]
  },
  {
   "cell_type": "code",
   "execution_count": 10,
   "id": "45ee538f",
   "metadata": {},
   "outputs": [],
   "source": [
    "def matrix_inverse(m):\n",
    "    determinant = matrix_deternminant(m)\n",
    "    # special case for 2x2 matrix:\n",
    "    if len(m) == 2:\n",
    "        return [[m[1][1]/determinant, -1*m[0][1]/determinant],\n",
    "                [-1*m[1][0]/determinant, m[0][0]/determinant]]\n",
    "\n",
    "    # find matrix of cofactors\n",
    "    cofactors = []\n",
    "    for r in range(len(m)):\n",
    "        cofactor_row = []\n",
    "        for c in range(len(m)):\n",
    "            minor = matrix_minor(m,r,c)\n",
    "            cofactor_row.append(((-1)**(r+c)) * matrix_deternminant(minor))\n",
    "        cofactors.append(cofactor_row)\n",
    "    cofactors = transpose_matrix(cofactors)\n",
    "    for r in range(len(cofactors)):\n",
    "        for c in range(len(cofactors)):\n",
    "            cofactors[r][c] = cofactors[r][c]/determinant\n",
    "    return cofactors"
   ]
  },
  {
   "cell_type": "code",
   "execution_count": 11,
   "id": "9bfc2c6e",
   "metadata": {},
   "outputs": [
    {
     "data": {
      "text/plain": [
       "[[-0.11538461538461539, 0.2692307692307692, -0.11538461538461539],\n",
       " [-0.6346153846153846, 0.4807692307692308, -0.1346153846153846],\n",
       " [0.19230769230769232, -0.11538461538461539, 0.19230769230769232]]"
      ]
     },
     "execution_count": 11,
     "metadata": {},
     "output_type": "execute_result"
    }
   ],
   "source": [
    "# Test1\n",
    "m = [[4, -2, 1], [5, 0, 3], [-1, 2, 6]]\n",
    "matrix_inverse(m)"
   ]
  },
  {
   "cell_type": "code",
   "execution_count": 12,
   "id": "29cbfd86",
   "metadata": {},
   "outputs": [],
   "source": [
    "def multiply_matrix(m1, m2):\n",
    "    result = [[0 for j in range(len(m2[0]))] for i in range(len(m1))]\n",
    "    \n",
    "    # iterate through rows of m1\n",
    "    for i in range(len(m1)):\n",
    "        # iterate through columns of m2\n",
    "        for j in range(len(m2[0])):\n",
    "            # iterate through rows of m2\n",
    "            for k in range(len(m2)):\n",
    "                result[i][j] += m1[i][k] * m2[k][j]\n",
    "    return result"
   ]
  },
  {
   "cell_type": "code",
   "execution_count": 13,
   "id": "19292373",
   "metadata": {},
   "outputs": [],
   "source": [
    "def norm_1(m):\n",
    "    colmax = 0\n",
    "    for c in range(len(m[0])):\n",
    "        temp = 0\n",
    "        for r in range(len(m)):\n",
    "            temp = temp + abs(m[r][c])\n",
    "        if temp > colmax:\n",
    "            colmax = temp\n",
    "    return colmax"
   ]
  },
  {
   "cell_type": "code",
   "execution_count": 14,
   "id": "13622fd8",
   "metadata": {},
   "outputs": [
    {
     "data": {
      "text/plain": [
       "8"
      ]
     },
     "execution_count": 14,
     "metadata": {},
     "output_type": "execute_result"
    }
   ],
   "source": [
    "#test1\n",
    "m = [[5, -4, 2], [-1, 2, 3], [-2, 1, 0]]\n",
    "norm_1(m)"
   ]
  },
  {
   "cell_type": "code",
   "execution_count": 15,
   "id": "680558e5",
   "metadata": {},
   "outputs": [],
   "source": [
    "def norm_infinity(m):\n",
    "    rowmax = 0\n",
    "    for r in range(len(m)):\n",
    "        temp = 0\n",
    "        for c in range(len(m[r])):\n",
    "            temp = temp + abs(m[r][c])\n",
    "        if temp > rowmax:\n",
    "            rowmax = temp\n",
    "    return rowmax"
   ]
  },
  {
   "cell_type": "code",
   "execution_count": 16,
   "id": "2bfd1dd2",
   "metadata": {},
   "outputs": [
    {
     "data": {
      "text/plain": [
       "11"
      ]
     },
     "execution_count": 16,
     "metadata": {},
     "output_type": "execute_result"
    }
   ],
   "source": [
    "#test1\n",
    "m = [[5, -4, 2], [-1, 2, 3], [-2, 1, 0]]\n",
    "norm_infinity(m)"
   ]
  },
  {
   "cell_type": "code",
   "execution_count": 17,
   "id": "c3431ae5",
   "metadata": {},
   "outputs": [],
   "source": [
    "def norm_frobenius(m):\n",
    "    sqr_sum = 0\n",
    "    for r in range(len(m)):\n",
    "        for c in range(len(m[r])):\n",
    "            elm = abs(m[r][c])\n",
    "            sqr_sum = sqr_sum + (elm ** 2)\n",
    "    return sqrt(sqr_sum)"
   ]
  },
  {
   "cell_type": "code",
   "execution_count": 18,
   "id": "a141341f",
   "metadata": {},
   "outputs": [
    {
     "data": {
      "text/plain": [
       "8.0"
      ]
     },
     "execution_count": 18,
     "metadata": {},
     "output_type": "execute_result"
    }
   ],
   "source": [
    "#test1\n",
    "m = [[5, -4, 2], [-1, 2, 3], [-2, 1, 0]]\n",
    "norm_frobenius(m)"
   ]
  },
  {
   "cell_type": "code",
   "execution_count": 19,
   "id": "e17cae6e",
   "metadata": {},
   "outputs": [],
   "source": [
    "def vector_norm_2(v):\n",
    "    sqr_sum = 0\n",
    "    for elm in v:\n",
    "        abs_elm = abs(elm)\n",
    "        sqr_sum = sqr_sum + abs_elm ** 2\n",
    "    return sqrt(sqr_sum)"
   ]
  },
  {
   "cell_type": "code",
   "execution_count": 20,
   "id": "62fec184",
   "metadata": {},
   "outputs": [
    {
     "data": {
      "text/plain": [
       "6.708203932499369"
      ]
     },
     "execution_count": 20,
     "metadata": {},
     "output_type": "execute_result"
    }
   ],
   "source": [
    "#test1\n",
    "m = [5, -4, 2]\n",
    "vector_norm_2(m)"
   ]
  },
  {
   "cell_type": "code",
   "execution_count": 21,
   "id": "75c78862",
   "metadata": {},
   "outputs": [],
   "source": [
    "def define_equations(a_row, b_row_val, x_col, row_idx, n):\n",
    "    '''\n",
    "    This method will generate the equation for each row.\n",
    "    input:\n",
    "          a_row: row in matrix a size 1 x n.\n",
    "          b_row_val: row value in matrix b.\n",
    "          x_col: vector x of size n x 1.\n",
    "    '''\n",
    "    rhs = 0\n",
    "    for i in range(0, n):\n",
    "        if i != row_idx:\n",
    "            rhs = rhs + a_row[i] * x_col[i]\n",
    "    x_col[row_idx] = (b_row_val - rhs) / a_row[row_idx]\n",
    "    return x_col"
   ]
  },
  {
   "cell_type": "code",
   "execution_count": 35,
   "id": "221cea5f",
   "metadata": {},
   "outputs": [],
   "source": [
    "def gauss_seidel_analysis(a, b, x, epsilon):\n",
    "    condition = True\n",
    "    n = len(a)\n",
    "    x_old = [i for i in x]\n",
    "    \n",
    "    i_add_l = [[a[i][j] if j <=i else 0 for j in range(n)] for i in range(n)]\n",
    "    u = [[0 if j<=i else a[i][j] for j in range(n)] for i in range(n)]\n",
    "    inverse_i_add_l = matrix_inverse(i_add_l)\n",
    "    iteration_matrix = multiply_matrix(inverse_i_add_l, u)\n",
    "    negative_iteration_matrix = [[-elm if elm !=0 else 0.0 for elm in iteration_matrix_row] for iteration_matrix_row in iteration_matrix]\n",
    "    first_norm = norm_1(negative_iteration_matrix)\n",
    "    infi_norm = norm_infinity(negative_iteration_matrix)\n",
    "    frob_norm = norm_frobenius(negative_iteration_matrix)\n",
    "    \n",
    "    while condition:\n",
    "        for i in range(n):\n",
    "            define_equations(a[i], b[i], x, i, n)\n",
    "        # Check for convergence\n",
    "        if all([False if abs(x_old[j] - x[j]) > epsilon else True for j in range(n)]):\n",
    "            condition = False\n",
    "        x_old = [j for j in x]\n",
    "    return x, first_norm, infi_norm, frob_norm, negative_iteration_matrix"
   ]
  },
  {
   "cell_type": "code",
   "execution_count": 36,
   "id": "9b846200",
   "metadata": {},
   "outputs": [
    {
     "name": "stdout",
     "output_type": "stream",
     "text": [
      "([0.52, 0.992, 0.496], 0.7333333333333333, 0.75, 0.6032320356951286, [[0.0, -0.25, -0.5], [0.0, 0.15, 0.09999999999999998], [0.0, 0.03333333333333333, 0.13333333333333333]])\n"
     ]
    }
   ],
   "source": [
    "# Test1\n",
    "x = [0, 0, 0]                        \n",
    "a = [[4, 1, 2],[3, 5, 1],[1, 1, 3]]\n",
    "b = [4,7,3]\n",
    "print(gauss_seidel_analysis(a, b, x, 0.1))"
   ]
  },
  {
   "cell_type": "code",
   "execution_count": 37,
   "id": "31ecaf32",
   "metadata": {},
   "outputs": [
    {
     "name": "stdout",
     "output_type": "stream",
     "text": [
      "([0.8121827411167513, -0.6649746192893401], 0.3068181818181818, 0.1875, 0.22224553654099938, [[0.0, -0.1875], [0.0, -0.11931818181818182]])\n"
     ]
    }
   ],
   "source": [
    "# Test2\n",
    "x = [0, 0]                        \n",
    "a = [[16, 3],[7, -11]]\n",
    "b = [11, 13]\n",
    "print(gauss_seidel_analysis(a, b, x, 0))"
   ]
  },
  {
   "cell_type": "code",
   "execution_count": 38,
   "id": "70a9cce2",
   "metadata": {},
   "outputs": [
    {
     "name": "stdout",
     "output_type": "stream",
     "text": [
      "([2.2727272727272725, -0.5454545454545453], 0.7142857142857143, 0.5, 0.5439837932759934, [[0.0, -0.5], [0.0, 0.21428571428571427]])\n"
     ]
    }
   ],
   "source": [
    "# Test3\n",
    "x = [0, 0]                        \n",
    "a = [[2, 1],[3, 7]]\n",
    "b = [4, 3]\n",
    "print(gauss_seidel_analysis(a, b, x, 0))"
   ]
  },
  {
   "cell_type": "code",
   "execution_count": 39,
   "id": "11bd4e65",
   "metadata": {},
   "outputs": [
    {
     "name": "stdout",
     "output_type": "stream",
     "text": [
      "([0.17857142857142855, 0.7321428571428572, -1.0535714285714286], 1.0380952380952382, 0.8, 0.7208516561008241, [[0.0, 0.2, -0.6000000000000001], [0.0, 0.06666666666666667, -0.3111111111111111], [0.0, 0.047619047619047616, -0.12698412698412698]])\n"
     ]
    }
   ],
   "source": [
    "# Test3\n",
    "x = [1, 1, 1]                        \n",
    "a = [[5,-1,3],[-3,9,1],[2,-1,-7]]\n",
    "b = [-3,5,7] \n",
    "print(gauss_seidel_analysis(a, b, x, 0))"
   ]
  },
  {
   "cell_type": "code",
   "execution_count": 40,
   "id": "61476fdc",
   "metadata": {},
   "outputs": [
    {
     "name": "stdout",
     "output_type": "stream",
     "text": [
      "Solution: [1.0, 2.0, -1.0, 1.0]\n",
      "Norm 1: 0.4568181818181818\n",
      "Norm Infinity: 0.3545454545454545\n",
      "Norm Frobenius: 0.3879849837609272\n",
      "Iteration Matrix: [[0.0, 0.1, -0.2, 0.0], [0.0, 0.00909090909090909, 0.07272727272727272, -0.2727272727272727], [0.0, -0.019090909090909092, 0.04727272727272727, 0.07272727272727274], [0.0, -0.0057954545454545455, -0.021363636363636362, 0.11136363636363635]]\n",
      "\n"
     ]
    }
   ],
   "source": [
    "# Test4\n",
    "x = [0, 0, 0, 0]                        \n",
    "a = [[10, -1, 2, 0],\n",
    "     [-1, 11, -1, 3],\n",
    "     [2, -1, 10, -1],\n",
    "     [0, 3, -1, 8]]\n",
    "b = [6.0, 25.0, -11.0, 15.0]\n",
    "solution, norm1, norminfi, normfrob, itr_matrix = gauss_seidel_analysis(a, b, x, 0)\n",
    "print(f\"Solution: {solution}\\nNorm 1: {norm1}\\nNorm Infinity: {norminfi}\\nNorm Frobenius: {normfrob}\\nIteration Matrix: {itr_matrix}\\n\")"
   ]
  },
  {
   "cell_type": "code",
   "execution_count": 170,
   "id": "43196738",
   "metadata": {},
   "outputs": [
    {
     "name": "stdout",
     "output_type": "stream",
     "text": [
      "1\r",
      "2\r",
      "3\r",
      "Input Matrix a: [[-7, -8, 4, -3], [1, -5, 3, -1], [9, -8, -9, 0], [-1, 7, 2, 4]]\n",
      "Input Vector b: [8, 7, 4, -1]\n",
      "Solution: [0.038004750593824355, -1.2802850356294535, 0.7315914489311164, 1.6342042755344415]\n",
      "Norm 1: 2.895238095238095\n",
      "Norm Infinity: 2.142857142857143\n",
      "Norm Frobenius: 2.2596822832345307\n",
      "Iteration Matrix: [[0.0, -1.1428571428571428, 0.5714285714285714, -0.42857142857142855], [0.0, -0.22857142857142856, 0.7142857142857144, -0.2857142857142857], [0.0, -0.9396825396825397, -0.06349206349206349, -0.17460317460317457], [0.0, 0.5841269841269842, -1.0753968253968256, 0.4801587301587302]]\n",
      "\n"
     ]
    }
   ],
   "source": [
    "import math\n",
    "condition = True\n",
    "count = 1\n",
    "while condition:\n",
    "    print(count, end=\"\\r\")\n",
    "    count = count + 1\n",
    "    n = 4\n",
    "    x = [0 for i in range(n)]\n",
    "    #a = [[tidy(random.uniform(-5.0000, 9.9999), 5) for i in range(n)] for j in range(n)]\n",
    "    #b = [tidy(random.uniform(0.10000, 5.0000), 5) for j in range(n)]\n",
    "    a = [[random.randint(-9, 9) for i in range(n)] for j in range(n)]\n",
    "    b = [random.randint(-9, 9) for j in range(n)]\n",
    "    solution, norm1, norminfi, normfrob, itr_matrix = gauss_seidel_analysis(a, b, x, 0)\n",
    "    #print(f\"Input Matrix a: {a}\\nInput Vector b: {b}\\nSolution: {solution}\\nNorm 1: {norm1}\\nNorm Infinity: {norminfi}\\nNorm Frobenius: {normfrob}\\nIteration Matrix: {itr_matrix}\\n\")\n",
    "    if all([False if math.isnan(elm) else True for elm in solution]):\n",
    "        condition = False\n",
    "        print(f\"Input Matrix a: {a}\\nInput Vector b: {b}\\nSolution: {solution}\\nNorm 1: {norm1}\\nNorm Infinity: {norminfi}\\nNorm Frobenius: {normfrob}\\nIteration Matrix: {itr_matrix}\\n\")"
   ]
  },
  {
   "cell_type": "code",
   "execution_count": 175,
   "id": "26f47b2c",
   "metadata": {},
   "outputs": [
    {
     "name": "stdout",
     "output_type": "stream",
     "text": [
      "[0.0, -1.1429, 0.57143, -0.42857]\n",
      "[0.0, -0.22857, 0.71429, -0.28571]\n",
      "[0.0, -0.93968, -0.063492, -0.1746]\n",
      "[0.0, 0.58413, -1.0754, 0.48016]\n"
     ]
    }
   ],
   "source": [
    "for i in range(4):\n",
    "    print([tidy(elm, 5) for elm in itr_matrix[i]])"
   ]
  },
  {
   "cell_type": "markdown",
   "id": "f467110a",
   "metadata": {},
   "source": [
    "(iii) Repeat part (ii) for the Gauss Jacobi iteration. (1)\n",
    "            \n",
    "            Deliverable(s): The input matrix, iteration matrix and the three norms obtained\n",
    "            \n",
    "-----------------------------------------------------------------------------------------------------------------------"
   ]
  },
  {
   "cell_type": "code",
   "execution_count": 180,
   "id": "b333e2de",
   "metadata": {},
   "outputs": [],
   "source": [
    "def gauss_jacobi_analysis(a, b, x, epsilon):\n",
    "    condition = True\n",
    "    n = len(a)\n",
    "    x_old = [i for i in x]\n",
    "    x_new = [i for i in x]\n",
    "    \n",
    "    l_add_u = [[a[i][j] if j !=i else 0 for j in range(n)] for i in range(n)]\n",
    "    i_mat = [[0 if j!=i else a[i][j] for j in range(n)] for i in range(n)]\n",
    "    inverse_i = matrix_inverse(i_mat)\n",
    "    negative_inverse_i = [[-elm for elm in inverse_i_row] for inverse_i_row in inverse_i]\n",
    "    iteration_matrix = multiply_matrix(negative_inverse_i, l_add_u)\n",
    "    first_norm = norm_1(iteration_matrix)\n",
    "    infi_norm = norm_infinity(iteration_matrix)\n",
    "    frob_norm = norm_frobenius(iteration_matrix)\n",
    "    \n",
    "    while condition:\n",
    "        for i in range(n):\n",
    "            x = [k for k in x_old]\n",
    "            x_new[i] = define_equations(a[i], b[i], x, i, n)[i]\n",
    "        # Check for convergence\n",
    "        if all([False if abs(x_old[j] - x_new[j]) > epsilon else True for j in range(n)]):\n",
    "            condition = False\n",
    "        x_old = [j for j in x_new]\n",
    "    return x, first_norm, infi_norm, frob_norm, iteration_matrix"
   ]
  },
  {
   "cell_type": "code",
   "execution_count": 181,
   "id": "cc18d80f",
   "metadata": {},
   "outputs": [
    {
     "name": "stdout",
     "output_type": "stream",
     "text": [
      "([0.9999995, -0.9999971249999999, 1.00000048125], 0.25, 0.25, 0.2645751311064591, [[0.0, -0.05, 0.1], [-0.15000000000000002, 0.0, 0.05], [-0.1, 0.15000000000000002, 0.0]])\n"
     ]
    }
   ],
   "source": [
    "# Test1\n",
    "x = [0, 0, 0]                        \n",
    "a = [[20,1,-2],\n",
    "     [3,20,-1],\n",
    "     [2,-3,20]]\n",
    "b = [17, -18, 25] \n",
    "print(gauss_jacobi_analysis(a, b, x, 0.00001))"
   ]
  },
  {
   "cell_type": "code",
   "execution_count": 182,
   "id": "c322f100",
   "metadata": {},
   "outputs": [
    {
     "name": "stdout",
     "output_type": "stream",
     "text": [
      "([0.999998155430544, 2.00000292370118, -1.0000023015887396, 0.9999986159134651], 0.575, 0.5, 0.5976278866561457, [[0.0, 0.1, -0.2, 0.0], [0.09090909090909091, 0.0, 0.09090909090909091, -0.2727272727272727], [-0.2, 0.1, 0.0, 0.1], [0.0, -0.375, 0.125, 0.0]])\n"
     ]
    }
   ],
   "source": [
    "# Test2\n",
    "x = [0, 0, 0, 0]                        \n",
    "a = [[10,-1,2,0],\n",
    "     [-1,11,-1, 3],\n",
    "     [2,-1,10,-1],\n",
    "     [0, 3, -1, 8]]\n",
    "b = [6,25,-11, 15] \n",
    "print(gauss_jacobi_analysis(a, b, x, 0.00001))"
   ]
  },
  {
   "cell_type": "code",
   "execution_count": 224,
   "id": "8bca690b",
   "metadata": {},
   "outputs": [
    {
     "name": "stdout",
     "output_type": "stream",
     "text": [
      "1\r",
      "2\r",
      "3\r",
      "Input Matrix a: [[-12, 21, 13, 18], [2, 30, -3, 25], [-20, -3, 12, -17], [-8, -8, -3, 28]]\n",
      "Input Vector b: [-14, 27, 29, -5]\n",
      "Solution: [inf, inf, inf, inf]\n",
      "Norm 1: 3.75\n",
      "Norm Infinity: 4.333333333333333\n",
      "Norm Frobenius: 3.495277831615307\n",
      "Iteration Matrix: [[0.0, 1.75, 1.0833333333333333, 1.5], [-0.06666666666666667, 0.0, 0.1, -0.8333333333333334], [1.6666666666666665, 0.25, 0.0, 1.4166666666666665], [0.2857142857142857, 0.2857142857142857, 0.10714285714285714, 0.0]]\n",
      "\n"
     ]
    }
   ],
   "source": [
    "import math\n",
    "condition = True\n",
    "count = 1\n",
    "while condition:\n",
    "    print(count, end=\"\\r\")\n",
    "    count = count + 1\n",
    "    n = 4\n",
    "    x = [0 for i in range(n)]\n",
    "    #a = [[tidy(random.uniform(-5.0000, 9.9999), 5) for i in range(n)] for j in range(n)]\n",
    "    #b = [tidy(random.uniform(0.10000, 5.0000), 5) for j in range(n)]\n",
    "    a = [[random.randint(-20, 30) for i in range(n)] for j in range(n)]\n",
    "    b = [random.randint(-20, 30) for j in range(n)]\n",
    "    solution, norm1, norminfi, normfrob, itr_matrix = gauss_jacobi_analysis(a, b, x, 0)\n",
    "    #print(f\"Input Matrix a: {a}\\nInput Vector b: {b}\\nSolution: {solution}\\nNorm 1: {norm1}\\nNorm Infinity: {norminfi}\\nNorm Frobenius: {normfrob}\\nIteration Matrix: {itr_matrix}\\n\")\n",
    "    if all([False if math.isnan(elm) else True for elm in solution]):\n",
    "        condition = False\n",
    "        print(f\"Input Matrix a: {a}\\nInput Vector b: {b}\\nSolution: {solution}\\nNorm 1: {norm1}\\nNorm Infinity: {norminfi}\\nNorm Frobenius: {normfrob}\\nIteration Matrix: {itr_matrix}\\n\")"
   ]
  },
  {
   "cell_type": "code",
   "execution_count": 225,
   "id": "83088b9e",
   "metadata": {},
   "outputs": [
    {
     "name": "stdout",
     "output_type": "stream",
     "text": [
      "[0.0, 1.75, 1.0833, 1.5]\n",
      "[-0.066667, 0.0, 0.1, -0.83333]\n",
      "[1.6667, 0.25, 0.0, 1.4167]\n",
      "[0.28571, 0.28571, 0.10714, 0.0]\n"
     ]
    }
   ],
   "source": [
    "for i in range(4):\n",
    "    print([tidy(elm, 5) for elm in itr_matrix[i]])"
   ]
  },
  {
   "cell_type": "markdown",
   "id": "793da5e8",
   "metadata": {},
   "source": [
    "(iv) Write a function that perform Gauss Seidel iterations. Generate a random 4 × 4 matrix A and a suitable random \n",
    "vector b ∈ R4 and report the results of passing this matrix to the functions written above.Write down the first ten \n",
    "iterates of Gauss Seidel algorithm. Does it converge? Generate a plot of ∥xk+1 −xk∥2 for the first 10 iterations.\n",
    "Take a screenshot and paste it in the assignment document. (1)\n",
    "       \n",
    "           Deliverable(s): The input matrix and the vector, the 10 successive iterates and the plot\n",
    "\n",
    "-----------------------------------------------------------------------------------------------------------------------"
   ]
  },
  {
   "cell_type": "code",
   "execution_count": 339,
   "id": "6e27a133",
   "metadata": {},
   "outputs": [],
   "source": [
    "def gauss_seidel_analysis_with_itr_limit(a, b, x, epsilon, itr):\n",
    "    condition = True\n",
    "    has_converged = False\n",
    "    n = len(a)\n",
    "    x_old = [i for i in x]\n",
    "    \n",
    "    i_add_l = [[a[i][j] if j <=i else 0 for j in range(n)] for i in range(n)]\n",
    "    u = [[0 if j<=i else a[i][j] for j in range(n)] for i in range(n)]\n",
    "    inverse_i_add_l = matrix_inverse(i_add_l)\n",
    "    iteration_matrix = multiply_matrix(inverse_i_add_l, u)\n",
    "    negative_iteration_matrix = [[-elm for elm in iteration_matrix_row] for iteration_matrix_row in iteration_matrix]\n",
    "    first_norm = norm_1(negative_iteration_matrix)\n",
    "    infi_norm = norm_infinity(negative_iteration_matrix)\n",
    "    frob_norm = norm_frobenius(negative_iteration_matrix)\n",
    "    \n",
    "    count = 0\n",
    "    norm_errors = []\n",
    "    itr_values = []\n",
    "    while condition:\n",
    "        for i in range(n):\n",
    "            define_equations(a[i], b[i], x, i, n)\n",
    "        itr_values.append([elm for elm in x])\n",
    "        # Check for convergence\n",
    "        if all([False if abs(x_old[j] - x[j]) > epsilon else True for j in range(n)]):\n",
    "            condition = False\n",
    "            has_converged = True\n",
    "        error = [x_old[k] - x[k] for k in range(len(x))]\n",
    "        norm_errors.append(vector_norm_2(error))\n",
    "        x_old = [j for j in x]\n",
    "        count = count + 1\n",
    "        if count == itr:\n",
    "            condition = False\n",
    "    return x, first_norm, infi_norm, frob_norm, norm_errors, has_converged, itr_values"
   ]
  },
  {
   "cell_type": "code",
   "execution_count": 340,
   "id": "863af702",
   "metadata": {},
   "outputs": [
    {
     "name": "stdout",
     "output_type": "stream",
     "text": [
      "Solution: [0.9999999999868117, 1.9999999998595697, -0.9999999999763907, 1.0000000000556126]\n",
      "Norm 1: 0.4568181818181818\n",
      "Norm Infinity: 0.3545454545454545\n",
      "Norm Frobenius: 0.3879849837609272\n",
      "error_l2_norm: [2.742864757228523, 0.5302971831879821, 0.044830810568892175, 0.007109620693563844, 0.0008743589512860802, 9.062087893690517e-05, 8.219392165061605e-06, 6.539341072741501e-07, 4.4233701694032134e-08, 2.3482754714404746e-09]\n",
      "Has Converged: False\n",
      "Itr Values: [[0.6, 2.3272727272727276, -0.9872727272727273, 0.8788636363636363], [1.0301818181818183, 2.0369380165289255, -1.0144561983471074, 0.9843412190082644], [1.006585041322314, 2.003555016904583, -1.002527384673178, 0.9983509455766342], [1.000860978625094, 2.000298250656547, -1.0003072761017007, 0.9998497464910823], [1.000091280285995, 2.000021342246459, -1.0000311471834449, 0.9999881032596473], [1.0000083636613348, 2.000001173336268, -1.0000027450726754, 0.9999992168648151], [1.000000666348162, 2.0000000246073673, -1.000000209122414, 0.9999999646319355], [1.0000000442852195, 1.9999999946606364, -1.0000000129277866, 1.000000000386288], [1.0000000020516209, 1.9999999989059063, -1.0000000004811047, 1.000000000350147], [0.9999999999868117, 1.9999999998595697, -0.9999999999763907, 1.0000000000556126]]\n",
      "\n"
     ]
    }
   ],
   "source": [
    "# Test1\n",
    "x = [0, 0, 0, 0]                        \n",
    "a = [[10, -1, 2, 0],\n",
    "     [-1, 11, -1, 3],\n",
    "     [2, -1, 10, -1],\n",
    "     [0, 3, -1, 8]]\n",
    "b = [6.0, 25.0, -11.0, 15.0]\n",
    "solution, norm1, norminfi, normfrob, normalized_errors, converged, itr_val = gauss_seidel_analysis_with_itr_limit(a, b, x, 0, 10)\n",
    "print(f\"Solution: {solution}\\nNorm 1: {norm1}\\nNorm Infinity: {norminfi}\\nNorm Frobenius: {normfrob}\\nerror_l2_norm: {normalized_errors}\\nHas Converged: {converged}\\nItr Values: {itr_val}\\n\")"
   ]
  },
  {
   "cell_type": "code",
   "execution_count": 341,
   "id": "49116943",
   "metadata": {},
   "outputs": [
    {
     "name": "stdout",
     "output_type": "stream",
     "text": [
      "Solution: [9.047663410701926, 3.138978224845963, -7.995765352392895, 5.278448244887656]\n",
      "Norm 1: 8.75\n",
      "Norm Infinity: 8.525\n",
      "Norm Frobenius: 6.822801843817539\n",
      "error_l2_norm: [0.8768729953647791, 3.348294823138525, 4.865446327058476, 4.990333108893301, 6.88385473655486, 7.729420905528896, 10.913752234736602, 12.069179680972548, 17.092823839455022, 18.856920411817523]\n",
      "Has Converged: False\n",
      "Itr Values: [[0.5, -0.7, -0.050000000000000044, -0.16249999999999987], [-0.8375000000000001, -0.2825000000000001, -1.2987499999999998, 2.6103125], [-5.2728125, -1.1141875000000003, 0.08809375000000053, 3.787398437499999], [-5.339585937499999, -2.5972390624999995, 2.714844531249999, -0.1874857421874987], [0.9226966796874976, -1.7204885546875002, 0.99435115234375, -2.2952057275390607], [1.3429309228515605, 0.5698379365234365, -3.1935782026367168, 3.769693529418944], [-8.517174061645505, -0.6348887301513674, -0.8540047712524412, 7.637942145223997], [-10.115729148031615, -4.345605978071898, 5.9256835492800874, -1.4931105646123468], [5.1532657070287256, -2.8064381094279027, 2.8899603983299187, -8.380618832897895], [9.047663410701926, 3.138978224845963, -7.995765352392895, 5.278448244887656]]\n",
      "\n"
     ]
    }
   ],
   "source": [
    "# Test1\n",
    "x = [0, 0, 0, 0]                        \n",
    "a = [[2, -4, -4, 2], [1, 5, 2, 4], [-1, 2, 2, -2], [3, -2, 5, 4]]\n",
    "b = [1, -3, -2, 2]\n",
    "solution, norm1, norminfi, normfrob, normalized_errors, converged, itr_val = gauss_seidel_analysis_with_itr_limit(a, b, x, 0, 10)\n",
    "print(f\"Solution: {solution}\\nNorm 1: {norm1}\\nNorm Infinity: {norminfi}\\nNorm Frobenius: {normfrob}\\nerror_l2_norm: {normalized_errors}\\nHas Converged: {converged}\\nItr Values: {itr_val}\\n\")"
   ]
  },
  {
   "cell_type": "code",
   "execution_count": 333,
   "id": "80a62c20",
   "metadata": {},
   "outputs": [
    {
     "name": "stdout",
     "output_type": "stream",
     "text": [
      "1\r",
      "A: [[2, -4, -4, 2], [1, 5, 2, 4], [-1, 2, 2, -2], [3, -2, 5, 4]]\n",
      "b: [1, -3, -2, 2]\n",
      "Solution: [9.047663410701926, 3.138978224845963, -7.995765352392895, 5.278448244887656]\n",
      "Norm 1: 8.75\n",
      "Norm Infinity: 8.525\n",
      "Norm Frobenius: 6.822801843817539\n",
      "error_l2_norm: [0.8768729953647791, 3.348294823138525, 4.865446327058476, 4.990333108893301, 6.88385473655486, 7.729420905528896, 10.913752234736602, 12.069179680972548, 17.092823839455022, 18.856920411817523]\n",
      "Has Converged: False\n",
      "Itr Values: [[9.047663410701926, 3.138978224845963, -7.995765352392895, 5.278448244887656], [9.047663410701926, 3.138978224845963, -7.995765352392895, 5.278448244887656], [9.047663410701926, 3.138978224845963, -7.995765352392895, 5.278448244887656], [9.047663410701926, 3.138978224845963, -7.995765352392895, 5.278448244887656], [9.047663410701926, 3.138978224845963, -7.995765352392895, 5.278448244887656], [9.047663410701926, 3.138978224845963, -7.995765352392895, 5.278448244887656], [9.047663410701926, 3.138978224845963, -7.995765352392895, 5.278448244887656], [9.047663410701926, 3.138978224845963, -7.995765352392895, 5.278448244887656], [9.047663410701926, 3.138978224845963, -7.995765352392895, 5.278448244887656], [9.047663410701926, 3.138978224845963, -7.995765352392895, 5.278448244887656]]\n",
      "\n"
     ]
    }
   ],
   "source": [
    "import math\n",
    "condition = True\n",
    "count = 1\n",
    "while condition:\n",
    "    print(count, end=\"\\r\")\n",
    "    count = count + 1\n",
    "    n = 4\n",
    "    x = [0 for i in range(n)]\n",
    "    #a = [[tidy(random.uniform(-5.0000, 9.9999), 5) for i in range(n)] for j in range(n)]\n",
    "    #b = [tidy(random.uniform(0.10000, 5.0000), 5) for j in range(n)]\n",
    "    a = [[random.randint(-5, 5) for i in range(n)] for j in range(n)]\n",
    "    b = [random.randint(-5, 5) for j in range(n)]\n",
    "    solution, norm1, norminfi, normfrob, normalized_errors, converged, itr_val = gauss_seidel_analysis_with_itr_limit(a, b, x, 0, 10)\n",
    "    #print(f\"Input Matrix a: {a}\\nInput Vector b: {b}\\nSolution: {solution}\\nNorm 1: {norm1}\\nNorm Infinity: {norminfi}\\nNorm Frobenius: {normfrob}\\nIteration Matrix: {itr_matrix}\\n\")\n",
    "    if all([False if math.isnan(elm) else True for elm in solution]):\n",
    "        condition = False\n",
    "print(f\"A: {a}\\nb: {b}\\nSolution: {solution}\\nNorm 1: {norm1}\\nNorm Infinity: {norminfi}\\nNorm Frobenius: {normfrob}\\nerror_l2_norm: {normalized_errors}\\nHas Converged: {converged}\\nItr Values: {itr_val}\\n\")"
   ]
  },
  {
   "cell_type": "code",
   "execution_count": 343,
   "id": "f100c5d8",
   "metadata": {},
   "outputs": [
    {
     "name": "stdout",
     "output_type": "stream",
     "text": [
      "[0.5, -0.7, -0.05, -0.1625]\n",
      "[-0.8375, -0.2825, -1.2987, 2.6103]\n",
      "[-5.2728, -1.1142, 0.088094, 3.7874]\n",
      "[-5.3396, -2.5972, 2.7148, -0.18749]\n",
      "[0.9227, -1.7205, 0.99435, -2.2952]\n",
      "[1.3429, 0.56984, -3.1936, 3.7697]\n",
      "[-8.5172, -0.63489, -0.854, 7.6379]\n",
      "[-10.116, -4.3456, 5.9257, -1.4931]\n",
      "[5.1533, -2.8064, 2.89, -8.3806]\n",
      "[9.0477, 3.139, -7.9958, 5.2784]\n"
     ]
    }
   ],
   "source": [
    "for z in range(10):\n",
    "    print([tidy(elm, 5) for elm in itr_val[z]])"
   ]
  },
  {
   "cell_type": "code",
   "execution_count": 344,
   "id": "d0a02db0",
   "metadata": {},
   "outputs": [],
   "source": [
    "error_l2_norm_ = [tidy(i, 5) for i in normalized_errors]\n",
    "itr = [i for i in range(1,11)]\n",
    "el2norm_dict = {'iteration': itr, '∥Xk+1 − Xk∥2': error_l2_norm_}   \n",
    "el2norm_df = pd.DataFrame(el2norm_dict)"
   ]
  },
  {
   "cell_type": "code",
   "execution_count": 345,
   "id": "4c19243e",
   "metadata": {},
   "outputs": [
    {
     "data": {
      "text/html": [
       "<div>\n",
       "<style scoped>\n",
       "    .dataframe tbody tr th:only-of-type {\n",
       "        vertical-align: middle;\n",
       "    }\n",
       "\n",
       "    .dataframe tbody tr th {\n",
       "        vertical-align: top;\n",
       "    }\n",
       "\n",
       "    .dataframe thead th {\n",
       "        text-align: right;\n",
       "    }\n",
       "</style>\n",
       "<table border=\"1\" class=\"dataframe\">\n",
       "  <thead>\n",
       "    <tr style=\"text-align: right;\">\n",
       "      <th></th>\n",
       "      <th>iteration</th>\n",
       "      <th>∥Xk+1 − Xk∥2</th>\n",
       "    </tr>\n",
       "  </thead>\n",
       "  <tbody>\n",
       "    <tr>\n",
       "      <th>0</th>\n",
       "      <td>1</td>\n",
       "      <td>0.87687</td>\n",
       "    </tr>\n",
       "    <tr>\n",
       "      <th>1</th>\n",
       "      <td>2</td>\n",
       "      <td>3.34830</td>\n",
       "    </tr>\n",
       "    <tr>\n",
       "      <th>2</th>\n",
       "      <td>3</td>\n",
       "      <td>4.86540</td>\n",
       "    </tr>\n",
       "    <tr>\n",
       "      <th>3</th>\n",
       "      <td>4</td>\n",
       "      <td>4.99030</td>\n",
       "    </tr>\n",
       "    <tr>\n",
       "      <th>4</th>\n",
       "      <td>5</td>\n",
       "      <td>6.88390</td>\n",
       "    </tr>\n",
       "    <tr>\n",
       "      <th>5</th>\n",
       "      <td>6</td>\n",
       "      <td>7.72940</td>\n",
       "    </tr>\n",
       "    <tr>\n",
       "      <th>6</th>\n",
       "      <td>7</td>\n",
       "      <td>10.91400</td>\n",
       "    </tr>\n",
       "    <tr>\n",
       "      <th>7</th>\n",
       "      <td>8</td>\n",
       "      <td>12.06900</td>\n",
       "    </tr>\n",
       "    <tr>\n",
       "      <th>8</th>\n",
       "      <td>9</td>\n",
       "      <td>17.09300</td>\n",
       "    </tr>\n",
       "    <tr>\n",
       "      <th>9</th>\n",
       "      <td>10</td>\n",
       "      <td>18.85700</td>\n",
       "    </tr>\n",
       "  </tbody>\n",
       "</table>\n",
       "</div>"
      ],
      "text/plain": [
       "   iteration  ∥Xk+1 − Xk∥2\n",
       "0          1       0.87687\n",
       "1          2       3.34830\n",
       "2          3       4.86540\n",
       "3          4       4.99030\n",
       "4          5       6.88390\n",
       "5          6       7.72940\n",
       "6          7      10.91400\n",
       "7          8      12.06900\n",
       "8          9      17.09300\n",
       "9         10      18.85700"
      ]
     },
     "execution_count": 345,
     "metadata": {},
     "output_type": "execute_result"
    }
   ],
   "source": [
    "el2norm_df"
   ]
  },
  {
   "cell_type": "code",
   "execution_count": 346,
   "id": "cd3de1f2",
   "metadata": {},
   "outputs": [
    {
     "data": {
      "image/png": "[encoded data removed]",
      "text/plain": [
       "<Figure size 1440x720 with 1 Axes>"
      ]
     },
     "metadata": {
      "needs_background": "light"
     },
     "output_type": "display_data"
    }
   ],
   "source": [
    "a4_dims = (20, 10)\n",
    "fig, ax = plt.subplots(figsize=a4_dims)\n",
    "\n",
    "fig1 = sns.lineplot(data=el2norm_df, y=\"iteration\", x=\"∥Xk+1 − Xk∥2\", markers=True)\n",
    "for i in range(len(itr)):\n",
    "    ax.text(error_l2_norm_[i], itr[i], f\"{error_l2_norm_[i], itr[i]}\")\n",
    "plt.plot(error_l2_norm_, itr, \"-o\")\n",
    "fig1.set(ylabel='Iteration', xlabel='∥Xk+1 − Xk∥2')\n",
    "plt.title(\"Gauss-Seidel ∥Xk+1 − Xk∥2 Vs. Iteration Graph\")\n",
    "plt.savefig(\"gs_plot.png\", dpi=300, transparent=True)"
   ]
  },
  {
   "cell_type": "markdown",
   "id": "53af61fc",
   "metadata": {},
   "source": [
    "(v) Repeat part (iv) for the Gauss Jacobi method. (1)\n",
    "\n",
    "    Deliverable(s): The input matrix and the vector, the 10 successive iterates and the plot\n",
    "\n",
    "-----------------------------------------------------------------------------------------------------------------------"
   ]
  },
  {
   "cell_type": "code",
   "execution_count": 356,
   "id": "44f642b5",
   "metadata": {},
   "outputs": [],
   "source": [
    "def gauss_jacobi_analysis_with_itr_limit(a, b, x, epsilon, itr):\n",
    "    condition = True\n",
    "    has_converged = False\n",
    "    n = len(a)\n",
    "    x_old = [i for i in x]\n",
    "    x_new = [i for i in x]\n",
    "    \n",
    "    l_add_u = [[a[i][j] if j !=i else 0 for j in range(n)] for i in range(n)]\n",
    "    i_mat = [[0 if j!=i else a[i][j] for j in range(n)] for i in range(n)]\n",
    "    inverse_i = matrix_inverse(i_mat)\n",
    "    negative_inverse_i = [[-elm for elm in inverse_i_row] for inverse_i_row in inverse_i]\n",
    "    iteration_matrix = multiply_matrix(negative_inverse_i, l_add_u)\n",
    "    first_norm = norm_1(iteration_matrix)\n",
    "    infi_norm = norm_infinity(iteration_matrix)\n",
    "    frob_norm = norm_frobenius(iteration_matrix)\n",
    "    \n",
    "    count = 0\n",
    "    norm_errors = []\n",
    "    itr_values = []\n",
    "    while condition:\n",
    "        for i in range(n):\n",
    "            x = [k for k in x_old]\n",
    "            x_new[i] = define_equations(a[i], b[i], x, i, n)[i]\n",
    "        itr_values.append([elm for elm in x_new])\n",
    "        # Check for convergence\n",
    "        if all([False if abs(x_old[j] - x_new[j]) > epsilon else True for j in range(n)]):\n",
    "            condition = False\n",
    "            has_converged = True\n",
    "        error = [x_old[k] - x_new[k] for k in range(len(x_new))]\n",
    "        norm_errors.append(vector_norm_2(error))\n",
    "        x_old = [j for j in x_new]\n",
    "        count = count + 1\n",
    "        if count == itr:\n",
    "            condition = False\n",
    "    return x, first_norm, infi_norm, frob_norm, norm_errors, has_converged, itr_values"
   ]
  },
  {
   "cell_type": "code",
   "execution_count": 357,
   "id": "691a6ec7",
   "metadata": {},
   "outputs": [
    {
     "name": "stdout",
     "output_type": "stream",
     "text": [
      "Solution: [0.9996741452148707, 2.0004476715450092, -1.0003691576845712, 0.9997859784600501]\n",
      "Norm 1: 0.575\n",
      "Norm Infinity: 0.5\n",
      "Norm Frobenius: 0.5976278866561457\n",
      "error_l2_norm: [3.201704898362488, 1.2556434177591917, 0.49690551414887585, 0.2190851701672345, 0.0897453205646942, 0.03927457310200085, 0.01632327649212943, 0.007087147155725075, 0.00297279906969194, 0.0012831613556189962]\n",
      "Has Converged: False\n",
      "Itr Values: [[0.6, 2.272727272727273, -1.1, 1.875], [1.0472727272727274, 1.7159090909090908, -0.8052272727272726, 0.8852272727272728], [0.9326363636363636, 2.053305785123967, -1.0493409090909092, 1.1308806818181818], [1.0151987603305785, 1.9536957644628101, -0.9681086260330579, 0.9738427169421487], [0.9889913016528926, 2.0114147257700976, -1.0102859039256198, 1.021350510072314], [1.0031986533621338, 1.9922412606827573, -0.9945217367463373, 0.994433739845511], [0.9981284734175432, 2.00230688155266, -1.0019722306196, 1.0035943101506737], [1.0006251342791859, 1.9986703011223563, -0.9990355755131752, 0.9988883905903024], [0.9996741452148707, 2.0004476715450092, -1.0003691576845712, 1.0006191901399695], [1.0001185986914152, 1.9997679470100354, -0.9998281428744763, 0.9997859784600501]]\n",
      "\n"
     ]
    }
   ],
   "source": [
    "# Test1\n",
    "x = [0, 0, 0, 0]                        \n",
    "a = [[10,-1,2,0],\n",
    "     [-1,11,-1, 3],\n",
    "     [2,-1,10,-1],\n",
    "     [0, 3, -1, 8]]\n",
    "b = [6,25,-11, 15] \n",
    "solution, norm1, norminfi, normfrob, normalized_errors, converged, itr_val = gauss_jacobi_analysis_with_itr_limit(a, b, x, 0.00001, 10)\n",
    "print(f\"Solution: {solution}\\nNorm 1: {norm1}\\nNorm Infinity: {norminfi}\\nNorm Frobenius: {normfrob}\\nerror_l2_norm: {normalized_errors}\\nHas Converged: {converged}\\nItr Values: {itr_val}\\n\")"
   ]
  },
  {
   "cell_type": "code",
   "execution_count": 364,
   "id": "9d841b19",
   "metadata": {},
   "outputs": [
    {
     "name": "stdout",
     "output_type": "stream",
     "text": [
      "1\r",
      "Input Matrix a: [[6, 3, -8, 3], [7, -7, 9, 5], [2, -3, -6, -6], [-5, -2, 1, 1]]\n",
      "Input Vector b: [-2, 6, -8, 0]\n",
      "Solution: [859.4828037276083, 220.309924032468, 897.7093041838822, 3840.3245625190953]\n",
      "Norm 1: 6.333333333333333\n",
      "Norm Infinity: 8.0\n",
      "Frobenius Norm: 6.066477906908698\n",
      "Errors: [1.6197477477804714, 5.394467271927431, 14.463502239121556, 22.123111352169136, 58.32916569159537, 163.00012751231336, 291.3941976587405, 673.6730755483493, 1971.6376632896504, 4179.374403402061]\n",
      "Has Converged: False\n",
      "Itr Values: [[-0.3333333333333333, -0.8571428571428571, 1.3333333333333333, 0.0], [1.8730158730158728, 0.523809523809524, 1.650793650793651, -4.7142857142857135], [3.9629629629629632, -0.2290249433106573, 6.410052910052909, 8.761904761904761], [3.9469639707734934, 17.605820105820104, -5.993071302595112, 12.946712018140595], [-23.600361132107167, 4.632095166108775, -19.100634080792815, 60.93953136810279], [-58.58665870816287, -5.487225401624504, -69.78903266185957, -89.63698124752547], [-45.823273557904436, -213.19897302164333, 74.18504104561677, -234.1187116822038], [322.2388970794126, -118.52730055797132, 326.77710700705734, -729.6993548784257], [859.4828037276083, 220.309924032468, 897.7093041838822, 1047.362777274063], [562.776054925244, 2760.9396071597876, -869.6901380477611, 3840.3245625190953]]\n",
      "\n"
     ]
    }
   ],
   "source": [
    "import math\n",
    "condition = True\n",
    "count = 1\n",
    "while condition:\n",
    "    print(count, end=\"\\r\")\n",
    "    count = count + 1\n",
    "    n = 4\n",
    "    x = [0 for i in range(n)]\n",
    "    #a = [[tidy(random.uniform(-5.0000, 9.9999), 5) for i in range(n)] for j in range(n)]\n",
    "    #b = [tidy(random.uniform(0.10000, 5.0000), 5) for j in range(n)]\n",
    "    a = [[random.randint(-9, 9) for i in range(n)] for j in range(n)]\n",
    "    b = [random.randint(-9, 9) for j in range(n)]\n",
    "    solution, norm1, norminfi, normfrob, normalized_errors, converged, itr_val = gauss_jacobi_analysis_with_itr_limit(a, b, x, 0, 10)\n",
    "    #print(f\"Input Matrix a: {a}\\nInput Vector b: {b}\\nSolution: {solution}\\nNorm 1: {norm1}\\nNorm Infinity: {norminfi}\\nNorm Frobenius: {normfrob}\\nIteration Matrix: {itr_matrix}\\n\")\n",
    "    if all([False if math.isnan(elm) else True for elm in solution]):\n",
    "        condition = False\n",
    "        print(f\"Input Matrix a: {a}\\nInput Vector b: {b}\\nSolution: {solution}\\nNorm 1: {norm1}\\nNorm Infinity: {norminfi}\\nFrobenius Norm: {normfrob}\\nErrors: {normalized_errors}\\nHas Converged: {converged}\\nItr Values: {itr_val}\\n\")"
   ]
  },
  {
   "cell_type": "code",
   "execution_count": 368,
   "id": "234965a6",
   "metadata": {},
   "outputs": [
    {
     "name": "stdout",
     "output_type": "stream",
     "text": [
      "[-0.33333, -0.85714, 1.3333, 0.0]\n",
      "[1.873, 0.52381, 1.6508, -4.7143]\n",
      "[3.963, -0.22902, 6.4101, 8.7619]\n",
      "[3.947, 17.606, -5.9931, 12.947]\n",
      "[-23.6, 4.6321, -19.101, 60.94]\n",
      "[-58.587, -5.4872, -69.789, -89.637]\n",
      "[-45.823, -213.2, 74.185, -234.12]\n",
      "[322.24, -118.53, 326.78, -729.7]\n",
      "[859.48, 220.31, 897.71, 1047.4]\n",
      "[562.78, 2760.9, -869.69, 3840.3]\n"
     ]
    }
   ],
   "source": [
    "for z in range(10):\n",
    "    print([tidy(elm, 5) for elm in itr_val[z]])"
   ]
  },
  {
   "cell_type": "code",
   "execution_count": 365,
   "id": "b6005a91",
   "metadata": {},
   "outputs": [],
   "source": [
    "error_l2_norm_ = [tidy(i, 5) for i in normalized_errors]\n",
    "itr = [i for i in range(1,11)]\n",
    "el2norm_dict = {'iteration': itr, '∥Xk+1 − Xk∥2': error_l2_norm_}   \n",
    "el2norm_df = pd.DataFrame(el2norm_dict)"
   ]
  },
  {
   "cell_type": "code",
   "execution_count": 366,
   "id": "c35111a1",
   "metadata": {},
   "outputs": [
    {
     "data": {
      "text/html": [
       "<div>\n",
       "<style scoped>\n",
       "    .dataframe tbody tr th:only-of-type {\n",
       "        vertical-align: middle;\n",
       "    }\n",
       "\n",
       "    .dataframe tbody tr th {\n",
       "        vertical-align: top;\n",
       "    }\n",
       "\n",
       "    .dataframe thead th {\n",
       "        text-align: right;\n",
       "    }\n",
       "</style>\n",
       "<table border=\"1\" class=\"dataframe\">\n",
       "  <thead>\n",
       "    <tr style=\"text-align: right;\">\n",
       "      <th></th>\n",
       "      <th>iteration</th>\n",
       "      <th>∥Xk+1 − Xk∥2</th>\n",
       "    </tr>\n",
       "  </thead>\n",
       "  <tbody>\n",
       "    <tr>\n",
       "      <th>0</th>\n",
       "      <td>1</td>\n",
       "      <td>1.6197</td>\n",
       "    </tr>\n",
       "    <tr>\n",
       "      <th>1</th>\n",
       "      <td>2</td>\n",
       "      <td>5.3945</td>\n",
       "    </tr>\n",
       "    <tr>\n",
       "      <th>2</th>\n",
       "      <td>3</td>\n",
       "      <td>14.4640</td>\n",
       "    </tr>\n",
       "    <tr>\n",
       "      <th>3</th>\n",
       "      <td>4</td>\n",
       "      <td>22.1230</td>\n",
       "    </tr>\n",
       "    <tr>\n",
       "      <th>4</th>\n",
       "      <td>5</td>\n",
       "      <td>58.3290</td>\n",
       "    </tr>\n",
       "    <tr>\n",
       "      <th>5</th>\n",
       "      <td>6</td>\n",
       "      <td>163.0000</td>\n",
       "    </tr>\n",
       "    <tr>\n",
       "      <th>6</th>\n",
       "      <td>7</td>\n",
       "      <td>291.3900</td>\n",
       "    </tr>\n",
       "    <tr>\n",
       "      <th>7</th>\n",
       "      <td>8</td>\n",
       "      <td>673.6700</td>\n",
       "    </tr>\n",
       "    <tr>\n",
       "      <th>8</th>\n",
       "      <td>9</td>\n",
       "      <td>1971.6000</td>\n",
       "    </tr>\n",
       "    <tr>\n",
       "      <th>9</th>\n",
       "      <td>10</td>\n",
       "      <td>4179.4000</td>\n",
       "    </tr>\n",
       "  </tbody>\n",
       "</table>\n",
       "</div>"
      ],
      "text/plain": [
       "   iteration  ∥Xk+1 − Xk∥2\n",
       "0          1        1.6197\n",
       "1          2        5.3945\n",
       "2          3       14.4640\n",
       "3          4       22.1230\n",
       "4          5       58.3290\n",
       "5          6      163.0000\n",
       "6          7      291.3900\n",
       "7          8      673.6700\n",
       "8          9     1971.6000\n",
       "9         10     4179.4000"
      ]
     },
     "execution_count": 366,
     "metadata": {},
     "output_type": "execute_result"
    }
   ],
   "source": [
    "el2norm_df"
   ]
  },
  {
   "cell_type": "code",
   "execution_count": 367,
   "id": "d85d7844",
   "metadata": {},
   "outputs": [
    {
     "data": {
      "image/png": "[encoded data removed]",
      "text/plain": [
       "<Figure size 1440x720 with 1 Axes>"
      ]
     },
     "metadata": {
      "needs_background": "light"
     },
     "output_type": "display_data"
    }
   ],
   "source": [
    "a4_dims = (20, 10)\n",
    "fig, ax = plt.subplots(figsize=a4_dims)\n",
    "\n",
    "fig1 = sns.lineplot(data=el2norm_df, y=\"iteration\", x=\"∥Xk+1 − Xk∥2\", markers=True)\n",
    "for i in range(len(itr)):\n",
    "    ax.text(error_l2_norm_[i], itr[i], f\"{error_l2_norm_[i], itr[i]}\")\n",
    "plt.plot(error_l2_norm_, itr, \"-o\")\n",
    "fig1.set(ylabel='Iteration', xlabel='∥Xk+1 − Xk∥2')\n",
    "plt.title(\"Gauss-Jacobi ∥Xk+1 − Xk∥2 Vs. Iteration Graph\")\n",
    "plt.savefig(\"gj_plot.png\", dpi=300, transparent=True)"
   ]
  },
  {
   "cell_type": "code",
   "execution_count": null,
   "id": "ba188b16",
   "metadata": {},
   "outputs": [],
   "source": []
  }
 ],
 "metadata": {
  "kernelspec": {
   "display_name": "Python 3 (ipykernel)",
   "language": "python",
   "name": "python3"
  },
  "language_info": {
   "codemirror_mode": {
    "name": "ipython",
    "version": 3
   },
   "file_extension": ".py",
   "mimetype": "text/x-python",
   "name": "python",
   "nbconvert_exporter": "python",
   "pygments_lexer": "ipython3",
   "version": "3.9.7"
  }
 },
 "nbformat": 4,
 "nbformat_minor": 5
}
